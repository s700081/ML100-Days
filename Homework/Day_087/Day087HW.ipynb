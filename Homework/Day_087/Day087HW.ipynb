{
 "cells": [
  {
   "cell_type": "markdown",
   "metadata": {},
   "source": [
    "## Work\n",
    "1. 請改變 reduce_lr 的 patience 和 factor 並比較不同設定下，對訓練/驗證集的影響\n",
    "2. 請將 optimizer 換成 Adam、RMSprop 搭配 reduce_lr 並比較訓練結果"
   ]
  },
  {
   "cell_type": "code",
   "execution_count": null,
   "metadata": {},
   "outputs": [],
   "source": [
    "import os\n",
    "import keras\n",
    "import itertools\n",
    "from keras.models import Sequential\n",
    "from keras.layers import Dense\n",
    "from keras.optimizers import SGD,Adam,RMSprop \n",
    "from keras.callbacks import ReduceLROnPlateau\n",
    "\n",
    "# Disable GPU\n",
    "#os.environ[\"CUDA_VISIBLE_DEVICES\"] = \"\"\n",
    "#force to use cpu(by changing device_count in the tf.ContigProto)\n",
    "import tensorflow as tf\n",
    "from keras import backend as K\n",
    "num_cores = 4\n",
    "config = tf.ConfigProto(intra_op_parallelism_threads=num_cores,\n",
    "                        inter_op_parallelism_threads=num_cores, \n",
    "                        allow_soft_placement=True,\n",
    "                        device_count = {'CPU' : 1,\n",
    "                                        'GPU' : 0}\n",
    "                       )\n",
    "\n",
    "session = tf.Session(config=config)\n",
    "K.set_session(session)"
   ]
  },
  {
   "cell_type": "code",
   "execution_count": null,
   "metadata": {},
   "outputs": [],
   "source": [
    "train, test = keras.datasets.cifar10.load_data()"
   ]
  },
  {
   "cell_type": "code",
   "execution_count": null,
   "metadata": {
    "collapsed": true
   },
   "outputs": [],
   "source": [
    "## 資料前處理\n",
    "def preproc_x(x, flatten=True):\n",
    "    x = x / 255.\n",
    "    if flatten:\n",
    "        x = x.reshape((len(x), -1))\n",
    "    return x\n",
    "\n",
    "def preproc_y(y, num_classes=10):\n",
    "    if y.shape[-1] == 1:\n",
    "        y = keras.utils.to_categorical(y, num_classes)\n",
    "    return y    "
   ]
  },
  {
   "cell_type": "code",
   "execution_count": null,
   "metadata": {
    "collapsed": true
   },
   "outputs": [],
   "source": [
    "x_train, y_train = train\n",
    "x_test, y_test = test\n",
    "\n",
    "# Preproc the inputs\n",
    "x_train = preproc_x(x_train)\n",
    "x_test = preproc_x(x_test)\n",
    "\n",
    "# Preprc the outputs\n",
    "y_train = preproc_y(y_train)\n",
    "y_test = preproc_y(y_test)"
   ]
  },
  {
   "cell_type": "code",
   "execution_count": null,
   "metadata": {
    "collapsed": true
   },
   "outputs": [],
   "source": [
    "# write function to build model\n",
    "def build_mlp():\n",
    "    \"\"\"\n",
    "    Build your own model\n",
    "    \"\"\"\n",
    "    model=Sequential()\n",
    "    model.add(Dense(units=input_shape[1], input_dim=input_shape[1],kernel_initializer='normal',activation='relu',name='input'))\n",
    "    for i, n_units in enumerate(num_neurons):\n",
    "        model.add(Dense(units=n_units,kernel_initializer='normal',activation='relu',name='hidden'+str(i+1)))\n",
    "    model.add(Dense(units=output_units,kernel_initializer='normal',activation='softmax',name='output'))\n",
    "    return model"
   ]
  },
  {
   "cell_type": "code",
   "execution_count": null,
   "metadata": {},
   "outputs": [],
   "source": [
    "# write function to built optimizer\n",
    "def build_opt(opt):\n",
    "    if opt =='SGD':\n",
    "        return SGD(lr=LEARNING_RATE,nesterov=True, momentum=MOMENTUM)\n",
    "    elif opt=='Adam':\n",
    "        return Adam(lr=LEARNING_RATE,beta_1=0.9,beta_2=0.999,epsilon=None,decay=0.0,amsgrad=False)\n",
    "    elif opt=='RMSprop':\n",
    "        return RMSprop(lr=LEARNING_RATE,rho=0.9,epsilon=None,decay=0.0)"
   ]
  },
  {
   "cell_type": "code",
   "execution_count": null,
   "metadata": {},
   "outputs": [],
   "source": [
    "# write function to plot results\n",
    "def plot_results(results):\n",
    "    color_bar=['dodgerblue','greenyellow','red','sienna','lime','green','aqua','maroon','mediumblue','slateblue','darkorchid','purple']\n",
    "    \"\"\"\n",
    "    Draw the results\n",
    "    \"\"\"\n",
    "    plt.figure(figsize=(12,9))\n",
    "    for i, cond in enumerate(results.keys()):\n",
    "        plt.plot(range(len(results[cond]['train_loss'])), results[cond]['train_loss'], '-', label='train'+cond, color=color_bar[i%12])\n",
    "        plt.plot(range(len(results[cond]['valid_loss'])), results[cond]['valid_loss'],'--', label='valid'+cond, color=color_bar[i%12])\n",
    "    plt.title('Loss')\n",
    "    plt.legend(loc='center left', bbox_to_anchor=(1, 0.5))\n",
    "    plt.show\n",
    "\n",
    "    plt.figure(figsize=(12,9))\n",
    "    for i, cond in enumerate(results.keys()):\n",
    "        plt.plot(range(len(results[cond]['train_acc'])), results[cond]['train_acc'], '-', label='train'+cond, color=color_bar[i%12])\n",
    "        plt.plot(range(len(results[cond]['valid_acc'])), results[cond]['valid_acc'],'--', label='valid'+cond, color=color_bar[i%12])\n",
    "    plt.title('Accuracy')\n",
    "    plt.legend(loc='center left', bbox_to_anchor=(1, 0.5))\n",
    "    plt.show()"
   ]
  },
  {
   "cell_type": "code",
   "execution_count": null,
   "metadata": {
    "collapsed": true
   },
   "outputs": [],
   "source": [
    "## 超參數設定\n",
    "\"\"\"\n",
    "Set your hyper-parameters\n",
    "\"\"\"\n",
    "LEARNING_RATE=1e-3\n",
    "EPOCHS=30\n",
    "BATCH_SIZE=256\n",
    "MOMENTUM=0.9\n",
    "REDUCE_LR_PATIENCE=[5,8]\n",
    "REDUCE_LR_FACTOR=[0.5,0.8]\n",
    "OPTIMIZERS=['SGD','Adam','RMSprop']"
   ]
  },
  {
   "cell_type": "markdown",
   "metadata": {},
   "source": [
    "## 作業一、改變 reduce_lr 的 patience 和 factor 並比較不同設定下，對訓練/驗證集的影響"
   ]
  },
  {
   "cell_type": "code",
   "execution_count": null,
   "metadata": {
    "collapsed": true
   },
   "outputs": [],
   "source": [
    "# 載入 Callbacks\n",
    "\"\"\"\n",
    "Write your training loop and show the results\n",
    "\"\"\"\n",
    "results_D87_hw1={}\n",
    "for p, f in itertools.product(REDUCE_LR_PATIENCE,REDUCE_LR_FACTOR):\n",
    "    reduce_lr = ReduceLROnPlateau(factor=f, \n",
    "                                  min_lr=1e-12, \n",
    "                                  monitor='val_loss', \n",
    "                                  patience=p, \n",
    "                                  verbose=1)\n",
    "    model = build_mlp(input_shape=x_train.shape)\n",
    "    model.summary()\n",
    "    optimizer = build_opt('SGD')\n",
    "    model.compile(loss=\"categorical_crossentropy\", metrics=[\"accuracy\"], optimizer=optimizer)\n",
    "\n",
    "    model.fit(x_train, y_train, \n",
    "              epochs=EPOCHS, \n",
    "              batch_size=BATCH_SIZE, \n",
    "              validation_data=(x_test, y_test), \n",
    "              shuffle=True,\n",
    "              callbacks=[reduce_lr]\n",
    "             )\n",
    "\n",
    "    # Collect results\n",
    "    train_loss = model.history.history[\"loss\"]\n",
    "    valid_loss = model.history.history[\"val_loss\"]\n",
    "    train_acc = model.history.history[\"acc\"]\n",
    "    valid_acc = model.history.history[\"val_acc\"]\n",
    "    \n",
    "    #make dictionary for results\n",
    "    exp_name_tag= f\"[p={p}, f={f}]\"\n",
    "    results_D87_hw1[exp_name_tag]={'train_loss':train_loss,\n",
    "                                   'valid_loss':valid_loss,\n",
    "                                   'train_acc':train_acc,\n",
    "                                   'valid_acc':valid_acc}"
   ]
  },
  {
   "cell_type": "code",
   "execution_count": null,
   "metadata": {
    "collapsed": true,
    "scrolled": true
   },
   "outputs": [],
   "source": [
    "# 繪製結果\n",
    "\"\"\"\n",
    "plot the results\n",
    "\"\"\"\n",
    "plot_results(results_D87_hw1)"
   ]
  },
  {
   "cell_type": "markdown",
   "metadata": {
    "collapsed": true
   },
   "source": [
    "## 作業二、將 optimizer 換成 Adam、RMSprop 搭配 reduce_lr 並比較訓練結果"
   ]
  },
  {
   "cell_type": "code",
   "execution_count": null,
   "metadata": {},
   "outputs": [],
   "source": [
    "results_D87_hw2={}\n",
    "for opt,p,f in itertools.product(OPTIMIZERS,REDUCE_LR_PATIENCE,REDUCE_LR_FACTOR):\n",
    "    reduce_lr = ReduceLROnPlateau(factor=f, \n",
    "                                  min_lr=1e-12, \n",
    "                                  monitor='val_loss', \n",
    "                                  patience=p, \n",
    "                                  verbose=1)\n",
    "    model = build_mlp(input_shape=x_train.shape)\n",
    "    model.summary()\n",
    "    optimizer = build_opt(opt)\n",
    "    model.compile(loss=\"categorical_crossentropy\", metrics=[\"accuracy\"], optimizer=optimizer)\n",
    "\n",
    "    model.fit(x_train, y_train, \n",
    "              epochs=EPOCHS, \n",
    "              batch_size=BATCH_SIZE, \n",
    "              validation_data=(x_test, y_test), \n",
    "              shuffle=True,\n",
    "              callbacks=[reduce_lr]\n",
    "             )\n",
    "\n",
    "    # Collect results\n",
    "    train_loss = model.history.history[\"loss\"]\n",
    "    valid_loss = model.history.history[\"val_loss\"]\n",
    "    train_acc = model.history.history[\"acc\"]\n",
    "    valid_acc = model.history.history[\"val_acc\"]\n",
    "    \n",
    "    #make dictionary for results\n",
    "    exp_name_tag= f\"{opt}[p={p}, f={f}]\"\n",
    "    results_D87_hw2[exp_name_tag]={'train_loss':train_loss,\n",
    "                                   'valid_loss':valid_loss,\n",
    "                                   'train_acc':train_acc,\n",
    "                                   'valid_acc':valid_acc}"
   ]
  },
  {
   "cell_type": "code",
   "execution_count": null,
   "metadata": {},
   "outputs": [],
   "source": [
    "plot_results(results_D87_hw2)"
   ]
  }
 ],
 "metadata": {
  "anaconda-cloud": {},
  "kernelspec": {
   "display_name": "Python 3",
   "language": "python",
   "name": "python3"
  },
  "language_info": {
   "codemirror_mode": {
    "name": "ipython",
    "version": 3
   },
   "file_extension": ".py",
   "mimetype": "text/x-python",
   "name": "python",
   "nbconvert_exporter": "python",
   "pygments_lexer": "ipython3",
   "version": "3.7.1"
  }
 },
 "nbformat": 4,
 "nbformat_minor": 2
}
