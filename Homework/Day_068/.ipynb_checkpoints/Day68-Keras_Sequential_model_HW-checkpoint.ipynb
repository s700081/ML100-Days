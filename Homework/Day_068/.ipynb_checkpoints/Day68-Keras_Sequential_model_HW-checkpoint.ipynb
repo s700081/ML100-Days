{
 "cells": [
  {
   "cell_type": "code",
   "execution_count": 1,
   "metadata": {},
   "outputs": [
    {
     "name": "stderr",
     "output_type": "stream",
     "text": [
      "Using TensorFlow backend.\n"
     ]
    }
   ],
   "source": [
    "# 載入必須使用的 Library\n",
    "import keras\n",
    "from keras.datasets import cifar10\n",
    "from keras.models import Sequential, load_model\n",
    "from keras.layers import Dense, Dropout, Activation, Flatten\n",
    "from keras.layers import Conv2D, MaxPooling2D\n",
    "import matplotlib.pyplot as plt\n",
    "\n",
    "batch_size=16\n",
    "num_classes=10\n",
    "epochs=10\n",
    "\n",
    "#import data and split into training and testing datasets\n",
    "(x_train,y_train),(x_test,y_test)=cifar10.load_data()\n"
   ]
  },
  {
   "cell_type": "code",
   "execution_count": 2,
   "metadata": {},
   "outputs": [
    {
     "data": {
      "text/plain": [
       "((50000, 32, 32, 3), (50000, 1), (10000, 32, 32, 3), (10000, 1))"
      ]
     },
     "execution_count": 2,
     "metadata": {},
     "output_type": "execute_result"
    }
   ],
   "source": [
    "x_train.shape, y_train.shape, x_test.shape, y_test.shape"
   ]
  },
  {
   "cell_type": "code",
   "execution_count": 3,
   "metadata": {},
   "outputs": [],
   "source": [
    "#normalization\n",
    "x_train_normalize=x_train.astype('float32')/255.0\n",
    "x_test_normalize=x_test.astype('float32')/255.0\n",
    "\n",
    "#convert labels into OneHot encoding\n",
    "y_train_OneHot=keras.utils.to_categorical(y_train, num_classes)\n",
    "y_test_OneHot=keras.utils.to_categorical(y_test, num_classes)"
   ]
  },
  {
   "cell_type": "markdown",
   "metadata": {},
   "source": [
    "# 作業:\n",
    "請修改input shape: (Conv2D(64, (3, 3))的設定, 新增一層 Dense 並觀看 model.summary 的輸出"
   ]
  },
  {
   "cell_type": "code",
   "execution_count": 4,
   "metadata": {},
   "outputs": [
    {
     "name": "stdout",
     "output_type": "stream",
     "text": [
      "WARNING:tensorflow:From C:\\Users\\Ocean\\Anaconda3\\envs\\py36\\lib\\site-packages\\tensorflow\\python\\framework\\op_def_library.py:263: colocate_with (from tensorflow.python.framework.ops) is deprecated and will be removed in a future version.\n",
      "Instructions for updating:\n",
      "Colocations handled automatically by placer.\n",
      "WARNING:tensorflow:From C:\\Users\\Ocean\\Anaconda3\\envs\\py36\\lib\\site-packages\\keras\\backend\\tensorflow_backend.py:3445: calling dropout (from tensorflow.python.ops.nn_ops) with keep_prob is deprecated and will be removed in a future version.\n",
      "Instructions for updating:\n",
      "Please use `rate` instead of `keep_prob`. Rate should be set to `rate = 1 - keep_prob`.\n",
      "_________________________________________________________________\n",
      "Layer (type)                 Output Shape              Param #   \n",
      "=================================================================\n",
      "conv2d_1 (Conv2D)            (None, 32, 32, 32)        896       \n",
      "_________________________________________________________________\n",
      "flatten_1 (Flatten)          (None, 32768)             0         \n",
      "_________________________________________________________________\n",
      "dense_1 (Dense)              (None, 512)               16777728  \n",
      "_________________________________________________________________\n",
      "activation_1 (Activation)    (None, 512)               0         \n",
      "_________________________________________________________________\n",
      "dropout_1 (Dropout)          (None, 512)               0         \n",
      "_________________________________________________________________\n",
      "dense_2 (Dense)              (None, 128)               65664     \n",
      "_________________________________________________________________\n",
      "activation_2 (Activation)    (None, 128)               0         \n",
      "_________________________________________________________________\n",
      "dropout_2 (Dropout)          (None, 128)               0         \n",
      "_________________________________________________________________\n",
      "dense_3 (Dense)              (None, 10)                1290      \n",
      "_________________________________________________________________\n",
      "activation_3 (Activation)    (None, 10)                0         \n",
      "=================================================================\n",
      "Total params: 16,845,578\n",
      "Trainable params: 16,845,578\n",
      "Non-trainable params: 0\n",
      "_________________________________________________________________\n",
      "None\n"
     ]
    }
   ],
   "source": [
    "# build our CNN model, 多加幾層\n",
    "model = Sequential()\n",
    "model.add(Conv2D(32, (3, 3), padding='same', input_shape=x_train_normalize.shape[1:]))\n",
    "model.add(Flatten())\n",
    "\n",
    "model.add(Dense(512))\n",
    "model.add(Activation('relu'))\n",
    "model.add(Dropout(0.5))\n",
    "\n",
    "model.add(Dense(128))\n",
    "model.add(Activation('relu'))\n",
    "model.add(Dropout(0.5))\n",
    "\n",
    "model.add(Dense(num_classes))\n",
    "model.add(Activation('softmax'))\n",
    "\n",
    "print(model.summary())"
   ]
  },
  {
   "cell_type": "code",
   "execution_count": 5,
   "metadata": {},
   "outputs": [
    {
     "name": "stdout",
     "output_type": "stream",
     "text": [
      "WARNING:tensorflow:From C:\\Users\\Ocean\\Anaconda3\\envs\\py36\\lib\\site-packages\\tensorflow\\python\\ops\\math_ops.py:3066: to_int32 (from tensorflow.python.ops.math_ops) is deprecated and will be removed in a future version.\n",
      "Instructions for updating:\n",
      "Use tf.cast instead.\n",
      "Train on 40000 samples, validate on 10000 samples\n",
      "Epoch 1/10\n",
      "40000/40000 [==============================] - 80s 2ms/step - loss: 2.0639 - acc: 0.2622 - val_loss: 1.7789 - val_acc: 0.3750\n",
      "Epoch 2/10\n",
      "40000/40000 [==============================] - 80s 2ms/step - loss: 1.8210 - acc: 0.3481 - val_loss: 1.6936 - val_acc: 0.4187\n",
      "Epoch 3/10\n",
      "40000/40000 [==============================] - 81s 2ms/step - loss: 1.7411 - acc: 0.3773 - val_loss: 1.6505 - val_acc: 0.4378\n",
      "Epoch 4/10\n",
      "40000/40000 [==============================] - 84s 2ms/step - loss: 1.6773 - acc: 0.4028 - val_loss: 1.5911 - val_acc: 0.4442\n",
      "Epoch 5/10\n",
      "40000/40000 [==============================] - 85s 2ms/step - loss: 1.6187 - acc: 0.4211 - val_loss: 1.5759 - val_acc: 0.4544\n",
      "Epoch 6/10\n",
      "40000/40000 [==============================] - 87s 2ms/step - loss: 1.5798 - acc: 0.4344 - val_loss: 1.5289 - val_acc: 0.4633\n",
      "Epoch 7/10\n",
      "40000/40000 [==============================] - 87s 2ms/step - loss: 1.5398 - acc: 0.4480 - val_loss: 1.4961 - val_acc: 0.4710\n",
      "Epoch 8/10\n",
      "40000/40000 [==============================] - 88s 2ms/step - loss: 1.5008 - acc: 0.4597 - val_loss: 1.4981 - val_acc: 0.4765\n",
      "Epoch 9/10\n",
      "40000/40000 [==============================] - 87s 2ms/step - loss: 1.4617 - acc: 0.4747 - val_loss: 1.5046 - val_acc: 0.4755\n",
      "Epoch 10/10\n",
      "40000/40000 [==============================] - 87s 2ms/step - loss: 1.4290 - acc: 0.4859 - val_loss: 1.4770 - val_acc: 0.4761\n",
      "10000/10000 [==============================] - 7s 748us/step\n",
      "Test accuracy: 0.4781\n"
     ]
    }
   ],
   "source": [
    "# initiate Adam optimizer\n",
    "opt = keras.optimizers.Adam()\n",
    "\n",
    "# Let's train the model using Adam\n",
    "model.compile(loss='categorical_crossentropy',optimizer=opt,metrics=['accuracy'])\n",
    "\n",
    "model_history = model.fit(x_train_normalize, y_train_OneHot, validation_split=0.2, epochs=10, batch_size=128, verbose=1)  \n",
    "\n",
    "# Score trained model.\n",
    "scores = model.evaluate(x_test_normalize, y_test_OneHot, verbose=1)\n",
    "print('Test accuracy:', scores[1])"
   ]
  }
 ],
 "metadata": {
  "kernelspec": {
   "display_name": "Python 3.6",
   "language": "python",
   "name": "py36"
  },
  "language_info": {
   "codemirror_mode": {
    "name": "ipython",
    "version": 3
   },
   "file_extension": ".py",
   "mimetype": "text/x-python",
   "name": "python",
   "nbconvert_exporter": "python",
   "pygments_lexer": "ipython3",
   "version": "3.6.8"
  }
 },
 "nbformat": 4,
 "nbformat_minor": 2
}
