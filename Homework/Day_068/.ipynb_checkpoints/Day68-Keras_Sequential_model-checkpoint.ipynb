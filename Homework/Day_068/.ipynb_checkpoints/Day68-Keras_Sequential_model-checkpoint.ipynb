{
 "cells": [
  {
   "cell_type": "code",
   "execution_count": 1,
   "metadata": {},
   "outputs": [
    {
     "name": "stderr",
     "output_type": "stream",
     "text": [
      "Using TensorFlow backend.\n"
     ]
    }
   ],
   "source": [
    "import keras\n",
    "from keras.datasets import cifar10\n",
    "from keras.models import Sequential, load_model\n",
    "from keras.layers import Dense, Dropout, Activation, Flatten\n",
    "from keras.layers import Conv2D, MaxPooling2D\n",
    "import matplotlib.pyplot as plt\n",
    "\n",
    "batch_size = 16\n",
    "num_classes = 10\n",
    "epochs = 10\n",
    "\n",
    "# The data, shuffled and split between train and test sets:\n",
    "(x_train, y_train), (x_test, y_test) = cifar10.load_data()\n"
   ]
  },
  {
   "cell_type": "code",
   "execution_count": 2,
   "metadata": {},
   "outputs": [],
   "source": [
    " #Convert class vectors to binary class matrices.\n",
    "y_train = keras.utils.to_categorical(y_train, num_classes)\n",
    "y_test = keras.utils.to_categorical(y_test, num_classes)\n",
    "\n",
    "x_train = x_train.astype('float32') / 255.0\n",
    "x_test = x_test.astype('float32') / 255.0\n"
   ]
  },
  {
   "cell_type": "code",
   "execution_count": 8,
   "metadata": {},
   "outputs": [
    {
     "name": "stdout",
     "output_type": "stream",
     "text": [
      "_________________________________________________________________\n",
      "Layer (type)                 Output Shape              Param #   \n",
      "=================================================================\n",
      "conv2d_4 (Conv2D)            (None, 32, 32, 64)        1792      \n",
      "_________________________________________________________________\n",
      "max_pooling2d_4 (MaxPooling2 (None, 16, 16, 64)        0         \n",
      "_________________________________________________________________\n",
      "flatten_3 (Flatten)          (None, 16384)             0         \n",
      "_________________________________________________________________\n",
      "dense_5 (Dense)              (None, 1024)              16778240  \n",
      "_________________________________________________________________\n",
      "activation_6 (Activation)    (None, 1024)              0         \n",
      "_________________________________________________________________\n",
      "dense_6 (Dense)              (None, 10)                10250     \n",
      "_________________________________________________________________\n",
      "activation_7 (Activation)    (None, 10)                0         \n",
      "=================================================================\n",
      "Total params: 16,790,282\n",
      "Trainable params: 16,790,282\n",
      "Non-trainable params: 0\n",
      "_________________________________________________________________\n",
      "None\n"
     ]
    }
   ],
   "source": [
    "# build our CNN model\n",
    "model = Sequential()\n",
    "model.add(Conv2D(filters=64,kernel_size=(3,3),\n",
    "                 input_shape=(32, 32,3), \n",
    "                 activation='relu', \n",
    "                 padding='same'))\n",
    "model.add(MaxPooling2D(pool_size=(2, 2)))\n",
    "\n",
    "model.add(Flatten())\n",
    "model.add(Dense(1024))\n",
    "model.add(Activation('relu'))\n",
    "model.add(Dense(num_classes))\n",
    "model.add(Activation('softmax'))\n",
    "\n",
    "print(model.summary())"
   ]
  },
  {
   "cell_type": "code",
   "execution_count": 9,
   "metadata": {},
   "outputs": [
    {
     "name": "stdout",
     "output_type": "stream",
     "text": [
      "Train on 40000 samples, validate on 10000 samples\n",
      "Epoch 1/10\n",
      "40000/40000 [==============================] - 33s 836us/step - loss: 1.5734 - acc: 0.4509 - val_loss: 1.2911 - val_acc: 0.5528\n",
      "Epoch 2/10\n",
      "40000/40000 [==============================] - 32s 803us/step - loss: 1.1529 - acc: 0.5942 - val_loss: 1.1657 - val_acc: 0.5933 23s - loss: 1.1825 - acc - ETA: 22s - los - ETA: 5s - lo - ETA: 3s - loss: 1.1518 - acc: - ETA: 2s -  - ETA: 0s - loss: 1.1536 - acc: 0.59\n",
      "Epoch 3/10\n",
      "40000/40000 [==============================] - 32s 812us/step - loss: 0.9996 - acc: 0.6478 - val_loss: 1.0607 - val_acc: 0.62684s - loss: 1.0037 - acc: 0 - ETA: 4s - loss: 1.0033 - acc: 0. - ETA: 3s - loss: 1.00 - ETA: 2s - loss: 1.0007 - acc: 0.64 - ETA: 2s - loss: 1.0007 - acc: 0.64 - ETA: 1s - loss: 1.0000 - acc - ETA: 1s - loss: 0.9988 -\n",
      "Epoch 4/10\n",
      "40000/40000 [==============================] - 34s 841us/step - loss: 0.8881 - acc: 0.6875 - val_loss: 1.0218 - val_acc: 0.6463\n",
      "Epoch 5/10\n",
      "40000/40000 [==============================] - 34s 846us/step - loss: 0.7701 - acc: 0.7297 - val_loss: 1.0252 - val_acc: 0.6512loss: 0.7699 - acc: 0.\n",
      "Epoch 6/10\n",
      "40000/40000 [==============================] - 34s 857us/step - loss: 0.6739 - acc: 0.7642 - val_loss: 0.9862 - val_acc: 0.6680\n",
      "Epoch 7/10\n",
      "40000/40000 [==============================] - 35s 863us/step - loss: 0.5849 - acc: 0.7988 - val_loss: 0.9852 - val_acc: 0.6717\n",
      "Epoch 8/10\n",
      "40000/40000 [==============================] - 36s 888us/step - loss: 0.4804 - acc: 0.8365 - val_loss: 1.0278 - val_acc: 0.6681\n",
      "Epoch 9/10\n",
      "40000/40000 [==============================] - 35s 885us/step - loss: 0.3878 - acc: 0.8732 - val_loss: 1.0778 - val_acc: 0.6651\n",
      "Epoch 10/10\n",
      "40000/40000 [==============================] - 37s 913us/step - loss: 0.3028 - acc: 0.9038 - val_loss: 1.1079 - val_acc: 0.6738\n",
      "10000/10000 [==============================] - 2s 208us/step\n",
      "Test loss: 1.1147694058418274\n",
      "Test accuracy: 0.6672\n"
     ]
    }
   ],
   "source": [
    "# initiate Adam optimizer\n",
    "opt = keras.optimizers.Adam()\n",
    "\n",
    "# Let's train the model using Adam\n",
    "model.compile(loss='categorical_crossentropy',optimizer=opt,metrics=['accuracy'])\n",
    "\n",
    "model_history = model.fit(x_train, y_train, validation_split=0.2, epochs=10, batch_size=128, verbose=1)  \n",
    "\n",
    "# Score trained model.\n",
    "scores = model.evaluate(x_test, y_test, verbose=1)\n",
    "print('Test accuracy:', scores[1])"
   ]
  }
 ],
 "metadata": {
  "kernelspec": {
   "display_name": "Python 3",
   "language": "python",
   "name": "python3"
  },
  "language_info": {
   "codemirror_mode": {
    "name": "ipython",
    "version": 3
   },
   "file_extension": ".py",
   "mimetype": "text/x-python",
   "name": "python",
   "nbconvert_exporter": "python",
   "pygments_lexer": "ipython3",
   "version": "3.7.1"
  }
 },
 "nbformat": 4,
 "nbformat_minor": 2
}
