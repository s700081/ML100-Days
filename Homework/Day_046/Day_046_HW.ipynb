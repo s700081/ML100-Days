{
 "cells": [
  {
   "cell_type": "markdown",
   "metadata": {},
   "source": [
    "### 作業\n",
    "目前已經學過許多的模型，相信大家對整體流程應該比較掌握了，這次作業請改用**手寫辨識資料集**，步驟流程都是一樣的，請試著自己撰寫程式碼來完成所有步驟"
   ]
  },
  {
   "cell_type": "markdown",
   "metadata": {},
   "source": [
    "### import 所需套件"
   ]
  },
  {
   "cell_type": "code",
   "execution_count": 17,
   "metadata": {},
   "outputs": [],
   "source": [
    "import numpy as np\n",
    "import pandas as pd\n",
    "import matplotlib.pyplot as plt\n",
    "plt.style.use('seaborn-white')\n",
    "import warnings\n",
    "warnings.simplefilter('ignore')\n",
    "% matplotlib inline\n",
    "\n",
    "from sklearn import datasets, metrics\n",
    "from sklearn.ensemble import GradientBoostingClassifier, GradientBoostingRegressor\n",
    "from sklearn.model_selection import train_test_split"
   ]
  },
  {
   "cell_type": "markdown",
   "metadata": {},
   "source": [
    "### 定義繪製confusion matrix的function"
   ]
  },
  {
   "cell_type": "code",
   "execution_count": 18,
   "metadata": {},
   "outputs": [],
   "source": [
    "def plot_confusion_matrix(confmat, target_names=None, title=None):\n",
    "    plt.matshow(confmat, cmap=plt.cm.Blues, alpha=0.7)\n",
    "    for i in range(confmat.shape[0]):\n",
    "        for j in range(confmat.shape[1]):\n",
    "            plt.text(x=j,y=i, s=f'{confmat[i][j]}',va='center',ha='center')\n",
    "            \n",
    "    if target_names is not None:\n",
    "        plt.xticks(np.arange(len(target_names)),target_names)\n",
    "        plt.yticks(np.arange(len(target_names)),target_names)\n",
    "    plt.xlabel('Predicted label')\n",
    "    plt.ylabel('True label')\n",
    "    plt.title(title)\n",
    "    plt.grid('off')\n",
    "    plt.tight_layout()\n",
    "    plt.savefig('fig.png', dpi=300, transparent=False, bbox_inches='tight')"
   ]
  },
  {
   "cell_type": "markdown",
   "metadata": {},
   "source": [
    "### Gradient Boostong for Classification Problem"
   ]
  },
  {
   "cell_type": "code",
   "execution_count": 19,
   "metadata": {},
   "outputs": [
    {
     "name": "stdout",
     "output_type": "stream",
     "text": [
      "(1797, 64)\n",
      "[178 182 177 183 181 182 181 179 174 180]\n"
     ]
    }
   ],
   "source": [
    "# 讀取手寫辨識dataset\n",
    "digits = datasets.load_digits()\n",
    "\n",
    "# 查看資料結構\n",
    "print(digits.data.shape)\n",
    "x = digits.data\n",
    "y = digits.target\n",
    "print(np.bincount(y))"
   ]
  },
  {
   "cell_type": "code",
   "execution_count": 20,
   "metadata": {},
   "outputs": [
    {
     "data": {
      "image/png": "[encoded data removed]",
      "text/plain": [
       "<Figure size 720x216 with 20 Axes>"
      ]
     },
     "metadata": {
      "needs_background": "light"
     },
     "output_type": "display_data"
    }
   ],
   "source": [
    "# 查看資料內容\n",
    "fig, axes = plt.subplots(2,10,figsize=(10,3))\n",
    "for ax in axes.ravel():\n",
    "    i = np.random.randint(0,digits.data.shape[0],1)[0]\n",
    "    ax.imshow(x[i].reshape(8,8))\n",
    "    ax.axis('off')\n",
    "    ax.set_title(y[i])"
   ]
  },
  {
   "cell_type": "code",
   "execution_count": 23,
   "metadata": {},
   "outputs": [
    {
     "name": "stdout",
     "output_type": "stream",
     "text": [
      "accuracy: 0.960\n"
     ]
    },
    {
     "data": {
      "image/png": "[encoded data removed]",
      "text/plain": [
       "<Figure size 288x288 with 1 Axes>"
      ]
     },
     "metadata": {
      "needs_background": "light"
     },
     "output_type": "display_data"
    }
   ],
   "source": [
    "# 切分訓練集/測試集\n",
    "x_train,x_test, y_train, y_test = train_test_split(x, y, stratify=y, test_size=0.25,random_state=0)\n",
    "\n",
    "# 建立Gradient Boosting classification model\n",
    "gbc = GradientBoostingClassifier()\n",
    "\n",
    "# 將訓練資料丟入模型訓練\n",
    "gbc.fit(x_train, y_train)\n",
    "\n",
    "# 將測試資料丟入模型取得預測結果\n",
    "y_pred = gbc.predict(x_test)\n",
    "\n",
    "# 利用accuracy評估模型預測結果\n",
    "print(f'accuracy: {metrics.accuracy_score(y_test, y_pred):.3f}')\n",
    "\n",
    "# 繪製 confusion matrix\n",
    "confmat = metrics.confusion_matrix(y_test, y_pred)\n",
    "plot_confusion_matrix(confmat, target_names = digits.target_names, title = \"\")"
   ]
  }
 ],
 "metadata": {
  "kernelspec": {
   "display_name": "Python 3",
   "language": "python",
   "name": "python3"
  },
  "language_info": {
   "codemirror_mode": {
    "name": "ipython",
    "version": 3
   },
   "file_extension": ".py",
   "mimetype": "text/x-python",
   "name": "python",
   "nbconvert_exporter": "python",
   "pygments_lexer": "ipython3",
   "version": "3.7.0"
  }
 },
 "nbformat": 4,
 "nbformat_minor": 2
}
