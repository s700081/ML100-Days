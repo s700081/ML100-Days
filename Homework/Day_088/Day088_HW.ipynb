{
 "cells": [
  {
   "cell_type": "markdown",
   "metadata": {},
   "source": [
    "## Work\n",
    "1. 請嘗試寫一個 callback 用來記錄各類別在訓練過程中，對驗證集的 True Positive 與 True Negative"
   ]
  },
  {
   "cell_type": "code",
   "execution_count": 1,
   "metadata": {},
   "outputs": [
    {
     "name": "stderr",
     "output_type": "stream",
     "text": [
      "Using TensorFlow backend.\n"
     ]
    }
   ],
   "source": [
    "import os\n",
    "import keras\n",
    "import itertools\n",
    "from keras.models import Sequential\n",
    "from keras.layers import Dense\n",
    "from keras.optimizers import SGD,Adam,RMSprop \n",
    "from keras.callbacks import ReduceLROnPlateau\n",
    "import matplotlib.pyplot as plt\n",
    "%matplotlib inline\n",
    "\n",
    "\n",
    "# Disable GPU\n",
    "#os.environ[\"CUDA_VISIBLE_DEVICES\"] = \"\"\n",
    "#force to use cpu(by changing device_count in the tf.ContigProto)\n",
    "import tensorflow as tf\n",
    "from keras import backend as K\n",
    "num_cores = 4\n",
    "config = tf.ConfigProto(intra_op_parallelism_threads=num_cores,\n",
    "                        inter_op_parallelism_threads=num_cores, \n",
    "                        allow_soft_placement=True,\n",
    "                        device_count = {'CPU' : 1,\n",
    "                                        'GPU' : 0}\n",
    "                       )\n",
    "\n",
    "session = tf.Session(config=config)\n",
    "K.set_session(session)"
   ]
  },
  {
   "cell_type": "code",
   "execution_count": 2,
   "metadata": {},
   "outputs": [],
   "source": [
    "train, test = keras.datasets.cifar10.load_data()"
   ]
  },
  {
   "cell_type": "code",
   "execution_count": 3,
   "metadata": {},
   "outputs": [],
   "source": [
    "## 資料前處理\n",
    "def preproc_x(x, flatten=True):\n",
    "    x = x / 255.\n",
    "    if flatten:\n",
    "        x = x.reshape((len(x), -1))\n",
    "    return x\n",
    "\n",
    "def preproc_y(y, num_classes=10):\n",
    "    if y.shape[-1] == 1:\n",
    "        y = keras.utils.to_categorical(y, num_classes)\n",
    "    return y    "
   ]
  },
  {
   "cell_type": "code",
   "execution_count": 4,
   "metadata": {},
   "outputs": [],
   "source": [
    "x_train, y_train = train\n",
    "x_test, y_test = test\n",
    "\n",
    "# Preproc the inputs\n",
    "x_train = preproc_x(x_train)\n",
    "x_test = preproc_x(x_test)\n",
    "\n",
    "# Preprc the outputs\n",
    "y_train = preproc_y(y_train)\n",
    "y_test = preproc_y(y_test)"
   ]
  },
  {
   "cell_type": "code",
   "execution_count": 5,
   "metadata": {},
   "outputs": [],
   "source": [
    "# write function to build model\n",
    "def build_mlp(input_shape,output_units=10,num_neurons=[512,128,64]):\n",
    "    \"\"\"\n",
    "    Build your own model\n",
    "    \"\"\"\n",
    "    model=Sequential()\n",
    "    model.add(Dense(units=input_shape[1], input_dim=input_shape[1],kernel_initializer='normal',activation='relu',name='input'))\n",
    "    for i, n_units in enumerate(num_neurons):\n",
    "        model.add(Dense(units=n_units,kernel_initializer='normal',activation='relu',name='hidden'+str(i+1)))\n",
    "    model.add(Dense(units=output_units,kernel_initializer='normal',activation='softmax',name='output'))\n",
    "    return model"
   ]
  },
  {
   "cell_type": "code",
   "execution_count": 6,
   "metadata": {},
   "outputs": [],
   "source": [
    "## 超參數設定\n",
    "LEARNING_RATE = 1e-3\n",
    "EPOCHS = 25\n",
    "BATCH_SIZE = 1024\n",
    "MOMENTUM = 0.95"
   ]
  },
  {
   "cell_type": "code",
   "execution_count": 8,
   "metadata": {},
   "outputs": [],
   "source": [
    "# 載入 Callbacks\n",
    "# import confusion matrix to recall tp and tn\n",
    "from keras.callbacks import Callback\n",
    "from sklearn.metrics import confusion_matrix\n",
    "\n",
    "# Record_fp_tp\n",
    "class Record_tp_tn(Callback):\n",
    "    \"\"\"Define a callback function to collect tp/tn, named Record_fp_tp.\n",
    "    \n",
    "    \"\"\"\n",
    "    def on_train_begin(self, epoch, logs={}):\n",
    "        logs=logs or {}\n",
    "        record_items=[\"val_auc\",\"val_f1sc\",\"val_fp\",\"val_fn\",\"val_tp\",\"val_tn\"]\n",
    "        for i in record_items:\n",
    "            if i not in self.params['metrics']:\n",
    "                self.params['metrics'].append(i)\n",
    "    \n",
    "    def on_epoch_end(self,epoch,logs={}, thres=0.5):\n",
    "        logs=logs or {}\n",
    "        y_true=self.validation_data[1].argmax(axis=1)\n",
    "        y_pred=self.model.predict(self.validation_data[0])\n",
    "        y_pred=(y_pred[:,1]>=thres)*1\n",
    "        \n",
    "        cm=confusion_matrix(y_true,y_pred)\n",
    "        logs[\"val_tp\"]=cm[0][0]\n",
    "        logs[\"val_tn\"]=cm[1][1]\n",
    "        \n",
    "rec_tptn = Record_tp_tn()"
   ]
  },
  {
   "cell_type": "code",
   "execution_count": 9,
   "metadata": {
    "scrolled": true
   },
   "outputs": [
    {
     "name": "stdout",
     "output_type": "stream",
     "text": [
      "WARNING:tensorflow:From C:\\Users\\Ocean\\Anaconda3\\envs\\py36\\lib\\site-packages\\tensorflow\\python\\framework\\op_def_library.py:263: colocate_with (from tensorflow.python.framework.ops) is deprecated and will be removed in a future version.\n",
      "Instructions for updating:\n",
      "Colocations handled automatically by placer.\n",
      "_________________________________________________________________\n",
      "Layer (type)                 Output Shape              Param #   \n",
      "=================================================================\n",
      "input (Dense)                (None, 3072)              9440256   \n",
      "_________________________________________________________________\n",
      "hidden1 (Dense)              (None, 512)               1573376   \n",
      "_________________________________________________________________\n",
      "hidden2 (Dense)              (None, 128)               65664     \n",
      "_________________________________________________________________\n",
      "hidden3 (Dense)              (None, 64)                8256      \n",
      "_________________________________________________________________\n",
      "output (Dense)               (None, 10)                650       \n",
      "=================================================================\n",
      "Total params: 11,088,202\n",
      "Trainable params: 11,088,202\n",
      "Non-trainable params: 0\n",
      "_________________________________________________________________\n",
      "WARNING:tensorflow:From C:\\Users\\Ocean\\Anaconda3\\envs\\py36\\lib\\site-packages\\tensorflow\\python\\ops\\math_ops.py:3066: to_int32 (from tensorflow.python.ops.math_ops) is deprecated and will be removed in a future version.\n",
      "Instructions for updating:\n",
      "Use tf.cast instead.\n",
      "Train on 50000 samples, validate on 10000 samples\n",
      "Epoch 1/25\n",
      "50000/50000 [==============================] - 21s 427us/step - loss: 2.2812 - acc: 0.1306 - val_loss: 2.2435 - val_acc: 0.1784\n",
      "Epoch 2/25\n",
      "50000/50000 [==============================] - 24s 482us/step - loss: 2.1878 - acc: 0.2170 - val_loss: 2.1243 - val_acc: 0.2437\n",
      "Epoch 3/25\n",
      "50000/50000 [==============================] - 24s 488us/step - loss: 2.0656 - acc: 0.2637 - val_loss: 2.0162 - val_acc: 0.2794\n",
      "Epoch 4/25\n",
      "50000/50000 [==============================] - 24s 488us/step - loss: 1.9770 - acc: 0.2906 - val_loss: 1.9421 - val_acc: 0.3013\n",
      "Epoch 5/25\n",
      "50000/50000 [==============================] - 25s 500us/step - loss: 1.9123 - acc: 0.3149 - val_loss: 1.8858 - val_acc: 0.3242\n",
      "Epoch 6/25\n",
      "50000/50000 [==============================] - 25s 502us/step - loss: 1.8612 - acc: 0.3361 - val_loss: 1.8393 - val_acc: 0.3463\n",
      "Epoch 7/25\n",
      "50000/50000 [==============================] - 26s 514us/step - loss: 1.8215 - acc: 0.3532 - val_loss: 1.8040 - val_acc: 0.3592\n",
      "Epoch 8/25\n",
      "50000/50000 [==============================] - 26s 520us/step - loss: 1.7897 - acc: 0.3659 - val_loss: 1.7760 - val_acc: 0.3674\n",
      "Epoch 9/25\n",
      "50000/50000 [==============================] - 26s 523us/step - loss: 1.7620 - acc: 0.3767 - val_loss: 1.7481 - val_acc: 0.3816\n",
      "Epoch 10/25\n",
      "50000/50000 [==============================] - 27s 536us/step - loss: 1.7380 - acc: 0.3833 - val_loss: 1.7272 - val_acc: 0.3877\n",
      "Epoch 11/25\n",
      "50000/50000 [==============================] - 27s 544us/step - loss: 1.7165 - acc: 0.3933 - val_loss: 1.7047 - val_acc: 0.3912\n",
      "Epoch 12/25\n",
      "50000/50000 [==============================] - 28s 554us/step - loss: 1.6967 - acc: 0.3994 - val_loss: 1.6867 - val_acc: 0.4035\n",
      "Epoch 13/25\n",
      "50000/50000 [==============================] - 28s 557us/step - loss: 1.6780 - acc: 0.4072 - val_loss: 1.6721 - val_acc: 0.4087\n",
      "Epoch 14/25\n",
      "50000/50000 [==============================] - 28s 561us/step - loss: 1.6613 - acc: 0.4131 - val_loss: 1.6529 - val_acc: 0.4176\n",
      "Epoch 15/25\n",
      "50000/50000 [==============================] - 28s 556us/step - loss: 1.6443 - acc: 0.4184 - val_loss: 1.6378 - val_acc: 0.4208\n",
      "Epoch 16/25\n",
      "50000/50000 [==============================] - 28s 561us/step - loss: 1.6289 - acc: 0.4247 - val_loss: 1.6266 - val_acc: 0.4241\n",
      "Epoch 17/25\n",
      "50000/50000 [==============================] - 28s 557us/step - loss: 1.6147 - acc: 0.4298 - val_loss: 1.6145 - val_acc: 0.4300\n",
      "Epoch 18/25\n",
      "50000/50000 [==============================] - 28s 557us/step - loss: 1.6005 - acc: 0.4353 - val_loss: 1.6014 - val_acc: 0.4332\n",
      "Epoch 19/25\n",
      "50000/50000 [==============================] - 28s 554us/step - loss: 1.5878 - acc: 0.4390 - val_loss: 1.5903 - val_acc: 0.4377\n",
      "Epoch 20/25\n",
      "50000/50000 [==============================] - 29s 580us/step - loss: 1.5749 - acc: 0.4437 - val_loss: 1.5847 - val_acc: 0.4397\n",
      "Epoch 21/25\n",
      "50000/50000 [==============================] - 29s 577us/step - loss: 1.5638 - acc: 0.4483 - val_loss: 1.5702 - val_acc: 0.4436\n",
      "Epoch 22/25\n",
      "50000/50000 [==============================] - 28s 559us/step - loss: 1.5514 - acc: 0.4530 - val_loss: 1.5637 - val_acc: 0.4447\n",
      "Epoch 23/25\n",
      "50000/50000 [==============================] - 28s 554us/step - loss: 1.5408 - acc: 0.4566 - val_loss: 1.5602 - val_acc: 0.4465\n",
      "Epoch 24/25\n",
      "50000/50000 [==============================] - 28s 561us/step - loss: 1.5299 - acc: 0.4596 - val_loss: 1.5501 - val_acc: 0.4468\n",
      "Epoch 25/25\n",
      "50000/50000 [==============================] - 28s 561us/step - loss: 1.5203 - acc: 0.4634 - val_loss: 1.5503 - val_acc: 0.4491\n"
     ]
    }
   ],
   "source": [
    "model = build_mlp(input_shape=x_train.shape)\n",
    "model.summary()\n",
    "optimizer = keras.optimizers.SGD(lr=LEARNING_RATE, nesterov=True, momentum=MOMENTUM)\n",
    "model.compile(loss=\"categorical_crossentropy\", metrics=[\"accuracy\"], optimizer=optimizer)\n",
    "\n",
    "\"\"\"\n",
    "To do:\n",
    "Fit the model with rec_tptn callback_fn\n",
    "\"\"\"\n",
    "model.fit(x_train,y_train,\n",
    "          epochs=EPOCHS,\n",
    "          batch_size=BATCH_SIZE,\n",
    "          validation_data=(x_test,y_test),\n",
    "          shuffle=True,\n",
    "          callbacks=[rec_tptn])\n",
    "\n",
    "# Collect results\n",
    "train_loss = model.history.history[\"loss\"]\n",
    "valid_loss = model.history.history[\"val_loss\"]\n",
    "train_acc = model.history.history[\"acc\"]\n",
    "valid_acc = model.history.history[\"val_acc\"]\n",
    "\n",
    "\"\"\"\n",
    "To do:\n",
    "Collect tp/tn from model history\n",
    "\"\"\"\n",
    "valid_tp = model.history.history[\"val_tp\"]\n",
    "valid_tn = model.history.history[\"val_tn\"]"
   ]
  },
  {
   "cell_type": "code",
   "execution_count": 10,
   "metadata": {},
   "outputs": [
    {
     "data": {
      "image/png": "[encoded data removed]",
      "text/plain": [
       "<Figure size 432x288 with 1 Axes>"
      ]
     },
     "metadata": {
      "needs_background": "light"
     },
     "output_type": "display_data"
    },
    {
     "data": {
      "image/png": "[encoded data removed]",
      "text/plain": [
       "<Figure size 432x288 with 1 Axes>"
      ]
     },
     "metadata": {
      "needs_background": "light"
     },
     "output_type": "display_data"
    },
    {
     "data": {
      "image/png": "[encoded data removed]",
      "text/plain": [
       "<Figure size 432x288 with 1 Axes>"
      ]
     },
     "metadata": {
      "needs_background": "light"
     },
     "output_type": "display_data"
    }
   ],
   "source": [
    "import matplotlib.pyplot as plt\n",
    "%matplotlib inline\n",
    "\n",
    "plt.plot(range(len(train_loss)), train_loss, label=\"train loss\")\n",
    "plt.plot(range(len(valid_loss)), valid_loss, label=\"valid loss\")\n",
    "plt.legend()\n",
    "plt.title(\"Loss\")\n",
    "plt.show()\n",
    "\n",
    "plt.plot(range(len(train_acc)), train_acc, label=\"train accuracy\")\n",
    "plt.plot(range(len(valid_acc)), valid_acc, label=\"valid accuracy\")\n",
    "plt.legend()\n",
    "plt.title(\"Accuracy\")\n",
    "plt.show()\n",
    "\n",
    "plt.plot(range(len(valid_tp)), valid_tp, label=\"valid tp\", color=\"navy\")\n",
    "plt.plot(range(len(valid_tn)), valid_tn, label=\"valid tn\", color=\"red\")\n",
    "plt.legend()\n",
    "plt.title(\"True positives and True Negatives\")\n",
    "plt.show()\n"
   ]
  }
 ],
 "metadata": {
  "kernelspec": {
   "display_name": "Python 3.6",
   "language": "python",
   "name": "py36"
  },
  "language_info": {
   "codemirror_mode": {
    "name": "ipython",
    "version": 3
   },
   "file_extension": ".py",
   "mimetype": "text/x-python",
   "name": "python",
   "nbconvert_exporter": "python",
   "pygments_lexer": "ipython3",
   "version": "3.6.8"
  }
 },
 "nbformat": 4,
 "nbformat_minor": 2
}
