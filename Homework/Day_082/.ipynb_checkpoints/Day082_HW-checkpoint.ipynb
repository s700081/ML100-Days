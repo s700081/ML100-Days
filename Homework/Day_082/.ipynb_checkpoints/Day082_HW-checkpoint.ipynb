{
 "cells": [
  {
   "cell_type": "markdown",
   "metadata": {},
   "source": [
    "## Work\n",
    "1. 請比較使用不同層數以及不同 Dropout rate 對訓練的效果\n",
    "2. 將 optimizer 改成使用 Adam 並加上適當的 dropout rate 檢視結果"
   ]
  },
  {
   "cell_type": "code",
   "execution_count": null,
   "metadata": {},
   "outputs": [],
   "source": [
    "import os\n",
    "import keras\n",
    "#import itertools\n",
    "from keras.models import Sequential\n",
    "from keras.layers import Dense, Dropout\n",
    "from keras.optimizers import SGD, Adam\n",
    "\n",
    "\n",
    "# Disable GPU\n",
    "os.environ[\"CUDA_VISIBLE_DEVICES\"] = \"\""
   ]
  },
  {
   "cell_type": "code",
   "execution_count": null,
   "metadata": {},
   "outputs": [],
   "source": [
    "train, test = keras.datasets.cifar10.load_data()"
   ]
  },
  {
   "cell_type": "code",
   "execution_count": null,
   "metadata": {},
   "outputs": [],
   "source": [
    "## 資料前處理\n",
    "def preproc_x(x, flatten=True):\n",
    "    x = x / 255.\n",
    "    if flatten:\n",
    "        x = x.reshape((len(x), -1))\n",
    "    return x\n",
    "\n",
    "def preproc_y(y, num_classes=10):\n",
    "    if y.shape[-1] == 1:\n",
    "        y = keras.utils.to_categorical(y, num_classes)\n",
    "    return y    "
   ]
  },
  {
   "cell_type": "code",
   "execution_count": null,
   "metadata": {},
   "outputs": [],
   "source": [
    "x_train, y_train = train\n",
    "x_test, y_test = test\n",
    "\n",
    "# Preproc the inputs\n",
    "x_train = preproc_x(x_train)\n",
    "x_test = preproc_x(x_test)\n",
    "\n",
    "# Preprc the outputs\n",
    "y_train = preproc_y(y_train)\n",
    "y_test = preproc_y(y_test)"
   ]
  },
  {
   "cell_type": "code",
   "execution_count": null,
   "metadata": {},
   "outputs": [],
   "source": [
    "# write function to build model\n",
    "def build_mlp(input_shape, units=10, num_neurons=[128,64,32],drp_rate=0.2):\n",
    "    \"\"\"\n",
    "    Build your own model\n",
    "    \"\"\"\n",
    "    model=Sequential()\n",
    "    model.add(Dense(units=input_shape[1], input_dim=input_shape[1],kernel_initializer='normal',activation='relu',name='input'))\n",
    "    model.add(Dropout(drp_rate))\n",
    "    for i, n_units in enumerate(num_neurons):\n",
    "        model.add(Dense(units=n_units,kernel_initializer='normal',activation='relu',name='hidden'+str(i+1)))\n",
    "        model.add(Dropout(drp_rate))\n",
    "    model.add(Dense(units=output_units,kernel_initializer='normal',activation='softmax',name='output'))\n",
    "    return model"
   ]
  },
  {
   "cell_type": "code",
   "execution_count": null,
   "metadata": {},
   "outputs": [],
   "source": [
    "# write function to plot results\n",
    "def plot_results(results):\n",
    "    color_bar=['maroon','red','sienna','greenyellow','lime','green','aqua','dodgerblue','mediumblue','slateblue','darkorchid','purple']\n",
    "    \"\"\"\n",
    "    Draw the results\n",
    "    \"\"\"\n",
    "    plt.figure(figsize=(12,9))\n",
    "    for i, cond in enumerate(results.keys()):\n",
    "        plt.plot(range(len(results[cond]['train_loss'])), results[cond]['train_loss'], '-', label=cond, color=color_bar[i%12])\n",
    "        plt.plot(range(len(results[cond]['valid_loss'])), results[cond]['valid_loss'],'--', label=cond, color=color_bar[i%12])\n",
    "    plt.title('Loss')\n",
    "    plt.legend()\n",
    "    plt.show\n",
    "\n",
    "    plt.figure(figsize=(12,9))\n",
    "    for i, cond in enumerate(results.keys()):\n",
    "        plt.plot(range(len(results[cond]['train_acc'])), results[cond]['train_acc'], '-', label=cond, color=color_bar[i%12])\n",
    "        plt.plot(range(len(results[cond]['valid_acc'])), results[cond]['valid_acc'], '--', label=cond, color=color_bar[i%12])\n",
    "    plt.title('Accuracy')\n",
    "    plt.legend()\n",
    "    plt.show()"
   ]
  },
  {
   "cell_type": "code",
   "execution_count": 1,
   "metadata": {},
   "outputs": [],
   "source": [
    "## 超參數設定\n",
    "\"\"\"\n",
    "Set Hyper-parameters here\n",
    "\"\"\"\n",
    "LEARNING_RATE=1e-3\n",
    "MOMENTUM=0.9\n",
    "BATCH_SIZE=256\n",
    "EPOCHS=30\n",
    "DRP_RATE=[0.1,0.2,0.4]\n",
    "NUM_NEURONS=[[128,64,32],[512,128,64,32]]"
   ]
  },
  {
   "cell_type": "markdown",
   "metadata": {},
   "source": [
    "## 作業一、不同層數搭配不同 Dropout rate"
   ]
  },
  {
   "cell_type": "code",
   "execution_count": null,
   "metadata": {
    "scrolled": true
   },
   "outputs": [],
   "source": [
    "results = {}\n",
    "\"\"\"\n",
    "Write your training loop and record results\n",
    "\"\"\"\n",
    "for num_neurons in NUM_NEURONS:\n",
    "    for drp_rate in DRP_RATE:\n",
    "        model = build_mlp(input_shape=x_train.shape, num_neurons=num_neurons, drp_rate=drp_rate)\n",
    "        optimizer=SGD(lr=LEARNING_RATE, nesterov=True, momentum=MOMENTUM)\n",
    "    \n",
    "        model.compile(loss='categorical_crossentropy', metrics=['accuracy'],optimizer=optimizer)\n",
    "    \n",
    "        model.fit(x_train,y_train,\n",
    "                  epochs=EPOCHS,\n",
    "                  batch_size=BATCH_SIZE,\n",
    "                  validation_data=(x_test,y_test),\n",
    "                  shuffle=True)\n",
    "    \n",
    "        # collect results\n",
    "        train_loss=model.history.history['loss']\n",
    "        valid_loss=model.history.history['val_loss']\n",
    "        train_acc=model.history.history['acc']\n",
    "        valid_acc=model.history.history['val_acc']\n",
    "    \n",
    "        # construct dictionary\n",
    "        exp_name_tag = 'exp_%s'%str('neurons')+str(num_neurons)+str('_')+str('drp-rate_')+str(drp_rate)\n",
    "        \n",
    "        results[exp_name_tag]={'train_loss':train_loss,\n",
    "                               'valid_loss':valid_loss,\n",
    "                               'train_acc':train_acc,\n",
    "                               'valid_acc':valid_acc}"
   ]
  },
  {
   "cell_type": "code",
   "execution_count": null,
   "metadata": {},
   "outputs": [],
   "source": [
    "import matplotlib.pyplot as plt\n",
    "%matplotlib inline\n",
    "\"\"\"\n",
    "Plot results\n",
    "\"\"\"\n",
    "plot_results(results)"
   ]
  },
  {
   "cell_type": "markdown",
   "metadata": {},
   "source": [
    "## 作業二、不同層數"
   ]
  },
  {
   "cell_type": "code",
   "execution_count": null,
   "metadata": {},
   "outputs": [],
   "source": [
    "results2 = {}\n",
    "\n",
    "model = build_mlp(input_shape=x_train.shape, drp_rate=drp_rate)\n",
    "optimizer=SGD(lr=LEARNING_RATE, nesterov=True, momentum=MOMENTUM)\n",
    "    \n",
    "model.compile(loss='categorical_crossentropy', metrics=['accuracy'],optimizer=optimizer)\n",
    "    \n",
    "model.fit(x_train,y_train,\n",
    "          epochs=EPOCHS,\n",
    "          batch_size=BATCH_SIZE,\n",
    "          validation_data=(x_test,y_test),\n",
    "          shuffle=True)\n",
    "    \n",
    "# collect results\n",
    "train_loss=model.history.history['loss']\n",
    "valid_loss=model.history.history['val_loss']\n",
    "train_acc=model.history.history['acc']\n",
    "valid_acc=model.history.history['val_acc']\n",
    "    \n",
    "# construct dictionary\n",
    "exp_name_tag = 'exp_%s'%str('drp-rate_')+str(drp_rate)\n",
    "        \n",
    "results2[exp_name_tag]={'train_loss':train_loss,\n",
    "                        'valid_loss':valid_loss,\n",
    "                        'train_acc':train_acc,\n",
    "                        'valid_acc':valid_acc}"
   ]
  },
  {
   "cell_type": "code",
   "execution_count": null,
   "metadata": {},
   "outputs": [],
   "source": [
    "plot_results(results2)"
   ]
  },
  {
   "cell_type": "markdown",
   "metadata": {},
   "source": [
    "## 作業三、不同層數"
   ]
  },
  {
   "cell_type": "code",
   "execution_count": null,
   "metadata": {},
   "outputs": [],
   "source": []
  },
  {
   "cell_type": "code",
   "execution_count": null,
   "metadata": {},
   "outputs": [],
   "source": [
    "plot_results(results3)"
   ]
  }
 ],
 "metadata": {
  "kernelspec": {
   "display_name": "Python 3",
   "language": "python",
   "name": "python3"
  },
  "language_info": {
   "codemirror_mode": {
    "name": "ipython",
    "version": 3
   },
   "file_extension": ".py",
   "mimetype": "text/x-python",
   "name": "python",
   "nbconvert_exporter": "python",
   "pygments_lexer": "ipython3",
   "version": "3.7.1"
  }
 },
 "nbformat": 4,
 "nbformat_minor": 2
}
