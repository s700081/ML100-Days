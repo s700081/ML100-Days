{
 "cells": [
  {
   "cell_type": "markdown",
   "metadata": {},
   "source": [
    "## Work\n",
    "1. 試比較 save_best_only 與否的差異\n",
    "2. 請僅存入將 save_weights_only 設定為 True, 並嘗試 reset ipynb 並將模型與權重重新建回並預測 x_test"
   ]
  },
  {
   "cell_type": "code",
   "execution_count": null,
   "metadata": {},
   "outputs": [],
   "source": [
    "import os\n",
    "import keras\n",
    "import itertools\n",
    "from keras.models import Sequential\n",
    "from keras.layers import Dense, Dropout, BatchNormalization\n",
    "from keras.optimizers import SGD\n",
    "from keras.callbacks import ModelCheckpoint\n",
    "\n",
    "# Disable GPU\n",
    "#os.environ[\"CUDA_VISIBLE_DEVICES\"] = \"\"\n",
    "#force to use cpu(by changing device_count in the tf.ContigProto)\n",
    "import tensorflow as tf\n",
    "from keras import backend as K\n",
    "num_cores = 4\n",
    "config = tf.ConfigProto(intra_op_parallelism_threads=num_cores,\n",
    "                        inter_op_parallelism_threads=num_cores, \n",
    "                        allow_soft_placement=True,\n",
    "                        device_count = {'CPU' : 1,\n",
    "                                        'GPU' : 0}\n",
    "                       )\n",
    "\n",
    "session = tf.Session(config=config)\n",
    "K.set_session(session)"
   ]
  },
  {
   "cell_type": "code",
   "execution_count": null,
   "metadata": {},
   "outputs": [],
   "source": [
    "train, test = keras.datasets.cifar10.load_data()"
   ]
  },
  {
   "cell_type": "code",
   "execution_count": null,
   "metadata": {},
   "outputs": [],
   "source": [
    "## 資料前處理\n",
    "def preproc_x(x, flatten=True):\n",
    "    x = x / 255.\n",
    "    if flatten:\n",
    "        x = x.reshape((len(x), -1))\n",
    "    return x\n",
    "\n",
    "def preproc_y(y, num_classes=10):\n",
    "    if y.shape[-1] == 1:\n",
    "        y = keras.utils.to_categorical(y, num_classes)\n",
    "    return y    "
   ]
  },
  {
   "cell_type": "code",
   "execution_count": null,
   "metadata": {},
   "outputs": [],
   "source": [
    "x_train, y_train = train\n",
    "x_test, y_test = test\n",
    "\n",
    "# Preproc the inputs\n",
    "x_train = preproc_x(x_train)\n",
    "x_test = preproc_x(x_test)\n",
    "\n",
    "# Preprc the outputs\n",
    "y_train = preproc_y(y_train)\n",
    "y_test = preproc_y(y_test)"
   ]
  },
  {
   "cell_type": "code",
   "execution_count": null,
   "metadata": {},
   "outputs": [],
   "source": [
    "# write function to build model\n",
    "def build_mlp(input_shape,output_units=10,num_neuron=[512,128,64]):\n",
    "    \"\"\"\n",
    "    build your own model\n",
    "    \"\"\"\n",
    "    model=Sequential()\n",
    "    model.add(Dense(units=input_shape[1], input_dim=input_shape[1],kernel_initializer='normal',activation='relu',name='input'))\n",
    "    model.add(BatchNormalization()) \n",
    "    for i, n_units in enumerate(num_neurons):\n",
    "        model.add(Dense(units=n_units,kernel_initializer='normal',activation='relu',name='hidden'+str(i+1)))\n",
    "        model.add(BatchNormalization()) \n",
    "    model.add(Dense(units=output_units,kernel_initializer='normal',activation='softmax',name='output'))\n",
    "    return model"
   ]
  },
  {
   "cell_type": "code",
   "execution_count": null,
   "metadata": {},
   "outputs": [],
   "source": [
    "# write function to plot results\n",
    "def plot_results(results):\n",
    "    color_bar=['maroon','red','sienna','greenyellow','lime','green','aqua','dodgerblue','mediumblue','slateblue','darkorchid','purple']\n",
    "    \"\"\"\n",
    "    Draw the results\n",
    "    \"\"\"\n",
    "    plt.figure(figsize=(12,9))\n",
    "    for i, cond in enumerate(results.keys()):\n",
    "        plt.plot(range(len(results[cond]['train_loss'])), results[cond]['train_loss'], '-', label='train'+cond, color=color_bar[i%12])\n",
    "        plt.plot(range(len(results[cond]['valid_loss'])), results[cond]['valid_loss'],'--', label='valid'+cond, color=color_bar[i%12])\n",
    "    plt.title('Loss')\n",
    "    plt.legend(loc='center left', bbox_to_anchor=(1, 0.5))\n",
    "    plt.show\n",
    "\n",
    "    plt.figure(figsize=(12,9))\n",
    "    for i, cond in enumerate(results.keys()):\n",
    "        plt.plot(range(len(results[cond]['train_acc'])), results[cond]['train_acc'], '-', label='train'+cond, color=color_bar[i%12])\n",
    "        plt.plot(range(len(results[cond]['valid_acc'])), results[cond]['valid_acc'],'--', label='valid'+cond, color=color_bar[i%12])\n",
    "    plt.title('Accuracy')\n",
    "    plt.legend(loc='center left', bbox_to_anchor=(1, 0.5))\n",
    "    plt.show()"
   ]
  },
  {
   "cell_type": "code",
   "execution_count": null,
   "metadata": {},
   "outputs": [],
   "source": [
    "## 超參數設定\n",
    "\"\"\"\n",
    "Set your hyper-parameters\n",
    "\"\"\"\n",
    "LEARNING_RATE=1e-3\n",
    "EPOCHS=30\n",
    "BATCH_SIZE=256\n",
    "MOMENTUM=0.9"
   ]
  },
  {
   "cell_type": "code",
   "execution_count": null,
   "metadata": {},
   "outputs": [],
   "source": [
    "# 載入 Callbacks\n",
    "from keras.callbacks import ModelCheckpoint\n",
    "\"\"\"\n",
    "Set model checkpoint callbacks\n",
    "\"\"\""
   ]
  },
  {
   "cell_type": "code",
   "execution_count": null,
   "metadata": {
    "scrolled": true
   },
   "outputs": [],
   "source": [
    "\"\"\"\n",
    "Write your training loop and show the results\n",
    "\"\"\"\n",
    "for ckpt_best_only in ['yes','no']:\n",
    "    model=build_mlp(input_shape=x_train.shape)\n",
    "    model.summary()\n",
    "    optimizer=SGD(lr=LEARNING_RATE,nesterov=True, momentum=MOMENTUM)\n",
    "    model.compile(optimizer=optimizer,loss='categorical_crossentropy',metrics=['accuracy'])\n",
    "    if ckpt_best_only=='yes':\n",
    "        model_ckpt=ModelCheckpoint(filepath='D86HW_bestTrue.h5',\n",
    "                                   monitor='val_loss',\n",
    "                                   save_best_only=True)\n",
    "        model.fit(x_train,y_train,\n",
    "                  epochs=EPOCHS,\n",
    "                  batch_size=BATCH_SIZE,\n",
    "                  validation_data=(x_test,y_test),\n",
    "                  shuffle=True,\n",
    "                  callbacks=[model_ckpt])\n",
    "    elif ckpt_best_only=='no':\n",
    "        model_ckpt=ModelCheckpoint(filepath='D86HW_bestTrue.h5',\n",
    "                                   monitor='val_loss',\n",
    "                                   save_best_only=False)\n",
    "        model.fit(x_train,y_train,\n",
    "                  epochs=EPOCHS,\n",
    "                  batch_size=BATCH_SIZE,\n",
    "                  validation_data=(x_test,y_test),\n",
    "                  shuffle=True,\n",
    "                  callbacks=[model_ckpt])\n",
    "        "
   ]
  }
 ],
 "metadata": {
  "anaconda-cloud": {},
  "kernelspec": {
   "display_name": "Python 3",
   "language": "python",
   "name": "python3"
  },
  "language_info": {
   "codemirror_mode": {
    "name": "ipython",
    "version": 3
   },
   "file_extension": ".py",
   "mimetype": "text/x-python",
   "name": "python",
   "nbconvert_exporter": "python",
   "pygments_lexer": "ipython3",
   "version": "3.7.1"
  }
 },
 "nbformat": 4,
 "nbformat_minor": 2
}
