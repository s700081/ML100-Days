{
 "cells": [
  {
   "cell_type": "markdown",
   "metadata": {},
   "source": [
    "# Table of content\n",
    "* Import data\n",
    "* EDA\n",
    "* Feature engineering\n",
    "* machine learning\n"
   ]
  },
  {
   "cell_type": "markdown",
   "metadata": {},
   "source": [
    "# Import data"
   ]
  },
  {
   "cell_type": "code",
   "execution_count": 1,
   "metadata": {},
   "outputs": [
    {
     "name": "stdout",
     "output_type": "stream",
     "text": [
      "['bmh', 'classic', 'dark_background', 'fast', 'fivethirtyeight', 'ggplot', 'grayscale', 'seaborn-bright', 'seaborn-colorblind', 'seaborn-dark-palette', 'seaborn-dark', 'seaborn-darkgrid', 'seaborn-deep', 'seaborn-muted', 'seaborn-notebook', 'seaborn-paper', 'seaborn-pastel', 'seaborn-poster', 'seaborn-talk', 'seaborn-ticks', 'seaborn-white', 'seaborn-whitegrid', 'seaborn', 'Solarize_Light2', 'tableau-colorblind10', '_classic_test']\n"
     ]
    },
    {
     "name": "stderr",
     "output_type": "stream",
     "text": [
      "C:\\Users\\Ocean\\Anaconda3\\lib\\site-packages\\sklearn\\ensemble\\weight_boosting.py:29: DeprecationWarning: numpy.core.umath_tests is an internal NumPy module and should not be imported. It will be removed in a future NumPy release.\n",
      "  from numpy.core.umath_tests import inner1d\n"
     ]
    }
   ],
   "source": [
    "# import required packages\n",
    "import os\n",
    "import numpy as np\n",
    "import pandas as pd\n",
    "import matplotlib.pyplot as plt\n",
    "% matplotlib inline\n",
    "import warnings\n",
    "warnings.simplefilter('ignore')\n",
    "\n",
    "from sklearn.preprocessing import MinMaxScaler, StandardScaler\n",
    "from sklearn.model_selection import cross_val_score\n",
    "from sklearn.linear_model import LogisticRegression\n",
    "from sklearn.ensemble import RandomForestClassifier, GradientBoostingClassifier\n",
    "\n",
    "# see available styles for plots\n",
    "print(plt.style.available)\n",
    "\n",
    "# set data_path\n",
    "dir = 'D:/3_learn/9_MachineLearning/data/Midterm'\n",
    "dir_train = os.path.join(dir, 'train_data.csv')\n",
    "dir_test  = os.path.join(dir, 'test_features.csv')\n",
    "\n",
    "# import data\n",
    "train = pd.read_csv(dir_train)\n",
    "test  = pd.read_csv(dir_test)\n",
    "trainLabel = train['poi']"
   ]
  },
  {
   "cell_type": "code",
   "execution_count": 2,
   "metadata": {},
   "outputs": [
    {
     "name": "stdout",
     "output_type": "stream",
     "text": [
      "train shape: (113, 22)\n",
      "test shape: (33, 21)\n",
      "trainLabel shape: (113,)\n"
     ]
    }
   ],
   "source": [
    "# see data structure\n",
    "print(f'train shape: {train.shape}')\n",
    "print(f'test shape: {test.shape}')\n",
    "print(f'trainLabel shape: {trainLabel.shape}')\n",
    "# set plot style\n",
    "plt.style.use('ggplot')"
   ]
  },
  {
   "cell_type": "markdown",
   "metadata": {},
   "source": [
    "# EDA"
   ]
  },
  {
   "cell_type": "code",
   "execution_count": 3,
   "metadata": {},
   "outputs": [
    {
     "data": {
      "text/html": [
       "<div>\n",
       "<style scoped>\n",
       "    .dataframe tbody tr th:only-of-type {\n",
       "        vertical-align: middle;\n",
       "    }\n",
       "\n",
       "    .dataframe tbody tr th {\n",
       "        vertical-align: top;\n",
       "    }\n",
       "\n",
       "    .dataframe thead th {\n",
       "        text-align: right;\n",
       "    }\n",
       "</style>\n",
       "<table border=\"1\" class=\"dataframe\">\n",
       "  <thead>\n",
       "    <tr style=\"text-align: right;\">\n",
       "      <th></th>\n",
       "      <th>name</th>\n",
       "      <th>bonus</th>\n",
       "      <th>deferral_payments</th>\n",
       "      <th>deferred_income</th>\n",
       "      <th>director_fees</th>\n",
       "      <th>email_address</th>\n",
       "      <th>exercised_stock_options</th>\n",
       "      <th>expenses</th>\n",
       "      <th>from_messages</th>\n",
       "      <th>from_poi_to_this_person</th>\n",
       "      <th>...</th>\n",
       "      <th>long_term_incentive</th>\n",
       "      <th>other</th>\n",
       "      <th>poi</th>\n",
       "      <th>restricted_stock</th>\n",
       "      <th>restricted_stock_deferred</th>\n",
       "      <th>salary</th>\n",
       "      <th>shared_receipt_with_poi</th>\n",
       "      <th>to_messages</th>\n",
       "      <th>total_payments</th>\n",
       "      <th>total_stock_value</th>\n",
       "    </tr>\n",
       "  </thead>\n",
       "  <tbody>\n",
       "    <tr>\n",
       "      <th>0</th>\n",
       "      <td>RICE KENNETH D</td>\n",
       "      <td>1750000.0</td>\n",
       "      <td>NaN</td>\n",
       "      <td>-3504386.0</td>\n",
       "      <td>NaN</td>\n",
       "      <td>ken.rice@enron.com</td>\n",
       "      <td>19794175.0</td>\n",
       "      <td>46950.0</td>\n",
       "      <td>18.0</td>\n",
       "      <td>42.0</td>\n",
       "      <td>...</td>\n",
       "      <td>1617011.0</td>\n",
       "      <td>174839.0</td>\n",
       "      <td>True</td>\n",
       "      <td>2748364.0</td>\n",
       "      <td>NaN</td>\n",
       "      <td>420636.0</td>\n",
       "      <td>864.0</td>\n",
       "      <td>905.0</td>\n",
       "      <td>505050.0</td>\n",
       "      <td>22542539.0</td>\n",
       "    </tr>\n",
       "    <tr>\n",
       "      <th>1</th>\n",
       "      <td>SKILLING JEFFREY K</td>\n",
       "      <td>5600000.0</td>\n",
       "      <td>NaN</td>\n",
       "      <td>NaN</td>\n",
       "      <td>NaN</td>\n",
       "      <td>jeff.skilling@enron.com</td>\n",
       "      <td>19250000.0</td>\n",
       "      <td>29336.0</td>\n",
       "      <td>108.0</td>\n",
       "      <td>88.0</td>\n",
       "      <td>...</td>\n",
       "      <td>1920000.0</td>\n",
       "      <td>22122.0</td>\n",
       "      <td>True</td>\n",
       "      <td>6843672.0</td>\n",
       "      <td>NaN</td>\n",
       "      <td>1111258.0</td>\n",
       "      <td>2042.0</td>\n",
       "      <td>3627.0</td>\n",
       "      <td>8682716.0</td>\n",
       "      <td>26093672.0</td>\n",
       "    </tr>\n",
       "    <tr>\n",
       "      <th>2</th>\n",
       "      <td>SHELBY REX</td>\n",
       "      <td>200000.0</td>\n",
       "      <td>NaN</td>\n",
       "      <td>-4167.0</td>\n",
       "      <td>NaN</td>\n",
       "      <td>rex.shelby@enron.com</td>\n",
       "      <td>1624396.0</td>\n",
       "      <td>22884.0</td>\n",
       "      <td>39.0</td>\n",
       "      <td>13.0</td>\n",
       "      <td>...</td>\n",
       "      <td>NaN</td>\n",
       "      <td>1573324.0</td>\n",
       "      <td>True</td>\n",
       "      <td>869220.0</td>\n",
       "      <td>NaN</td>\n",
       "      <td>211844.0</td>\n",
       "      <td>91.0</td>\n",
       "      <td>225.0</td>\n",
       "      <td>2003885.0</td>\n",
       "      <td>2493616.0</td>\n",
       "    </tr>\n",
       "    <tr>\n",
       "      <th>3</th>\n",
       "      <td>KOPPER MICHAEL J</td>\n",
       "      <td>800000.0</td>\n",
       "      <td>NaN</td>\n",
       "      <td>NaN</td>\n",
       "      <td>NaN</td>\n",
       "      <td>michael.kopper@enron.com</td>\n",
       "      <td>NaN</td>\n",
       "      <td>118134.0</td>\n",
       "      <td>NaN</td>\n",
       "      <td>NaN</td>\n",
       "      <td>...</td>\n",
       "      <td>602671.0</td>\n",
       "      <td>907502.0</td>\n",
       "      <td>True</td>\n",
       "      <td>985032.0</td>\n",
       "      <td>NaN</td>\n",
       "      <td>224305.0</td>\n",
       "      <td>NaN</td>\n",
       "      <td>NaN</td>\n",
       "      <td>2652612.0</td>\n",
       "      <td>985032.0</td>\n",
       "    </tr>\n",
       "    <tr>\n",
       "      <th>4</th>\n",
       "      <td>CALGER CHRISTOPHER F</td>\n",
       "      <td>1250000.0</td>\n",
       "      <td>NaN</td>\n",
       "      <td>-262500.0</td>\n",
       "      <td>NaN</td>\n",
       "      <td>christopher.calger@enron.com</td>\n",
       "      <td>NaN</td>\n",
       "      <td>35818.0</td>\n",
       "      <td>144.0</td>\n",
       "      <td>199.0</td>\n",
       "      <td>...</td>\n",
       "      <td>375304.0</td>\n",
       "      <td>486.0</td>\n",
       "      <td>True</td>\n",
       "      <td>126027.0</td>\n",
       "      <td>NaN</td>\n",
       "      <td>240189.0</td>\n",
       "      <td>2188.0</td>\n",
       "      <td>2598.0</td>\n",
       "      <td>1639297.0</td>\n",
       "      <td>126027.0</td>\n",
       "    </tr>\n",
       "  </tbody>\n",
       "</table>\n",
       "<p>5 rows × 22 columns</p>\n",
       "</div>"
      ],
      "text/plain": [
       "                   name      bonus  deferral_payments  deferred_income  \\\n",
       "0        RICE KENNETH D  1750000.0                NaN       -3504386.0   \n",
       "1    SKILLING JEFFREY K  5600000.0                NaN              NaN   \n",
       "2            SHELBY REX   200000.0                NaN          -4167.0   \n",
       "3      KOPPER MICHAEL J   800000.0                NaN              NaN   \n",
       "4  CALGER CHRISTOPHER F  1250000.0                NaN        -262500.0   \n",
       "\n",
       "   director_fees                 email_address  exercised_stock_options  \\\n",
       "0            NaN            ken.rice@enron.com               19794175.0   \n",
       "1            NaN       jeff.skilling@enron.com               19250000.0   \n",
       "2            NaN          rex.shelby@enron.com                1624396.0   \n",
       "3            NaN      michael.kopper@enron.com                      NaN   \n",
       "4            NaN  christopher.calger@enron.com                      NaN   \n",
       "\n",
       "   expenses  from_messages  from_poi_to_this_person        ...          \\\n",
       "0   46950.0           18.0                     42.0        ...           \n",
       "1   29336.0          108.0                     88.0        ...           \n",
       "2   22884.0           39.0                     13.0        ...           \n",
       "3  118134.0            NaN                      NaN        ...           \n",
       "4   35818.0          144.0                    199.0        ...           \n",
       "\n",
       "   long_term_incentive      other   poi  restricted_stock  \\\n",
       "0            1617011.0   174839.0  True         2748364.0   \n",
       "1            1920000.0    22122.0  True         6843672.0   \n",
       "2                  NaN  1573324.0  True          869220.0   \n",
       "3             602671.0   907502.0  True          985032.0   \n",
       "4             375304.0      486.0  True          126027.0   \n",
       "\n",
       "   restricted_stock_deferred     salary  shared_receipt_with_poi  to_messages  \\\n",
       "0                        NaN   420636.0                    864.0        905.0   \n",
       "1                        NaN  1111258.0                   2042.0       3627.0   \n",
       "2                        NaN   211844.0                     91.0        225.0   \n",
       "3                        NaN   224305.0                      NaN          NaN   \n",
       "4                        NaN   240189.0                   2188.0       2598.0   \n",
       "\n",
       "   total_payments  total_stock_value  \n",
       "0        505050.0         22542539.0  \n",
       "1       8682716.0         26093672.0  \n",
       "2       2003885.0          2493616.0  \n",
       "3       2652612.0           985032.0  \n",
       "4       1639297.0           126027.0  \n",
       "\n",
       "[5 rows x 22 columns]"
      ]
     },
     "execution_count": 3,
     "metadata": {},
     "output_type": "execute_result"
    }
   ],
   "source": [
    "# All features are numerical.\n",
    "train.head()"
   ]
  },
  {
   "cell_type": "code",
   "execution_count": 4,
   "metadata": {},
   "outputs": [
    {
     "name": "stdout",
     "output_type": "stream",
     "text": [
      "<class 'pandas.core.frame.DataFrame'>\n",
      "RangeIndex: 113 entries, 0 to 112\n",
      "Data columns (total 22 columns):\n",
      "name                         113 non-null object\n",
      "bonus                        61 non-null float64\n",
      "deferral_payments            28 non-null float64\n",
      "deferred_income              34 non-null float64\n",
      "director_fees                13 non-null float64\n",
      "email_address                83 non-null object\n",
      "exercised_stock_options      81 non-null float64\n",
      "expenses                     73 non-null float64\n",
      "from_messages                65 non-null float64\n",
      "from_poi_to_this_person      65 non-null float64\n",
      "from_this_person_to_poi      65 non-null float64\n",
      "loan_advances                2 non-null float64\n",
      "long_term_incentive          49 non-null float64\n",
      "other                        69 non-null float64\n",
      "poi                          113 non-null bool\n",
      "restricted_stock             82 non-null float64\n",
      "restricted_stock_deferred    10 non-null float64\n",
      "salary                       73 non-null float64\n",
      "shared_receipt_with_poi      65 non-null float64\n",
      "to_messages                  65 non-null float64\n",
      "total_payments               96 non-null float64\n",
      "total_stock_value            98 non-null float64\n",
      "dtypes: bool(1), float64(19), object(2)\n",
      "memory usage: 18.7+ KB\n"
     ]
    }
   ],
   "source": [
    "train.info()"
   ]
  },
  {
   "cell_type": "code",
   "execution_count": 5,
   "metadata": {},
   "outputs": [
    {
     "name": "stdout",
     "output_type": "stream",
     "text": [
      "19 Numeric Features : ['bonus', 'deferral_payments', 'deferred_income', 'director_fees', 'exercised_stock_options', 'expenses', 'from_messages', 'from_poi_to_this_person', 'from_this_person_to_poi', 'loan_advances', 'long_term_incentive', 'other', 'restricted_stock', 'restricted_stock_deferred', 'salary', 'shared_receipt_with_poi', 'to_messages', 'total_payments', 'total_stock_value']\n",
      "\n"
     ]
    }
   ],
   "source": [
    "#save columns with dtype of int64 or float64 in num_features\n",
    "num_features = []\n",
    "for dtype, feature in zip(train.dtypes, train.columns):\n",
    "    if dtype == 'float64' or dtype == 'int64':\n",
    "        num_features.append(feature)\n",
    "print(f'{len(num_features)} Numeric Features : {num_features}\\n')"
   ]
  },
  {
   "cell_type": "markdown",
   "metadata": {},
   "source": [
    "### logistic regression"
   ]
  },
  {
   "cell_type": "code",
   "execution_count": 6,
   "metadata": {},
   "outputs": [
    {
     "data": {
      "text/plain": [
       "0.8940711462450592"
      ]
     },
     "execution_count": 6,
     "metadata": {},
     "output_type": "execute_result"
    }
   ],
   "source": [
    "# fill na as 0, minmaxscaler, logistic regression, reserve all features\n",
    "train_numeric = train[num_features]\n",
    "train_numeric = train_numeric.fillna(0)\n",
    "train_numeric_mms = MinMaxScaler().fit_transform(train_numeric)\n",
    "estimator = LogisticRegression()\n",
    "cross_val_score(estimator, train_numeric_mms, trainLabel, cv=5).mean()"
   ]
  },
  {
   "cell_type": "code",
   "execution_count": 7,
   "metadata": {},
   "outputs": [
    {
     "data": {
      "text/plain": [
       "0.8671936758893282"
      ]
     },
     "execution_count": 7,
     "metadata": {},
     "output_type": "execute_result"
    }
   ],
   "source": [
    "# fill na as 0, standardscaler, logistic regression, reserve all features\n",
    "train_numeric = train[num_features]\n",
    "train_numeric = train_numeric.fillna(0)\n",
    "train_numeric_sts = StandardScaler().fit_transform(train_numeric)\n",
    "estimator = LogisticRegression()\n",
    "cross_val_score(estimator, train_numeric_sts, trainLabel, cv=5).mean()"
   ]
  },
  {
   "cell_type": "markdown",
   "metadata": {},
   "source": [
    "### random forest classifier"
   ]
  },
  {
   "cell_type": "code",
   "execution_count": 8,
   "metadata": {},
   "outputs": [
    {
     "data": {
      "text/plain": [
       "0.8936758893280633"
      ]
     },
     "execution_count": 8,
     "metadata": {},
     "output_type": "execute_result"
    }
   ],
   "source": [
    "# fill na as 0, minmaxscaler, random forest classifier, reserve all features\n",
    "train_numeric = train[num_features]\n",
    "train_numeric = train_numeric.fillna(0)\n",
    "train_numeric_mms = MinMaxScaler().fit_transform(train_numeric)\n",
    "estimator = RandomForestClassifier()\n",
    "cross_val_score(estimator, train_numeric_mms, trainLabel, cv=5).mean()"
   ]
  },
  {
   "cell_type": "code",
   "execution_count": 9,
   "metadata": {},
   "outputs": [
    {
     "data": {
      "text/plain": [
       "0.8849802371541502"
      ]
     },
     "execution_count": 9,
     "metadata": {},
     "output_type": "execute_result"
    }
   ],
   "source": [
    "# fill na as 0, standardscaler, random forest classifier, reserve all features\n",
    "train_numeric = train[num_features]\n",
    "train_numeric = train_numeric.fillna(0)\n",
    "train_numeric_sts = StandardScaler().fit_transform(train_numeric)\n",
    "estimator = RandomForestClassifier()\n",
    "cross_val_score(estimator, train_numeric_sts, trainLabel, cv=5).mean()"
   ]
  },
  {
   "cell_type": "code",
   "execution_count": 10,
   "metadata": {},
   "outputs": [
    {
     "data": {
      "text/plain": [
       "other                        0.158171\n",
       "expenses                     0.148877\n",
       "total_payments               0.073927\n",
       "long_term_incentive          0.059091\n",
       "exercised_stock_options      0.057934\n",
       "to_messages                  0.054563\n",
       "salary                       0.054515\n",
       "from_poi_to_this_person      0.054503\n",
       "bonus                        0.054454\n",
       "deferred_income              0.049128\n",
       "from_this_person_to_poi      0.046573\n",
       "from_messages                0.041634\n",
       "shared_receipt_with_poi      0.039042\n",
       "restricted_stock             0.033711\n",
       "total_stock_value            0.031421\n",
       "loan_advances                0.014710\n",
       "restricted_stock_deferred    0.013985\n",
       "deferral_payments            0.013759\n",
       "director_fees                0.000000\n",
       "dtype: float64"
      ]
     },
     "execution_count": 10,
     "metadata": {},
     "output_type": "execute_result"
    }
   ],
   "source": [
    "# fill na as 0, standardscaler, random forest classifier, feature selection\n",
    "# feature selection\n",
    "# make a fitting with randomforestclassifier and see feature importance\n",
    "rfc = RandomForestClassifier()\n",
    "rfc.fit(train_numeric,trainLabel)\n",
    "feats = pd.Series(data=rfc.feature_importances_, index=train_numeric.columns)\n",
    "feats = feats.sort_values(ascending=False)\n",
    "feats"
   ]
  },
  {
   "cell_type": "code",
   "execution_count": 11,
   "metadata": {},
   "outputs": [
    {
     "data": {
      "text/plain": [
       "0.8766798418972332"
      ]
     },
     "execution_count": 11,
     "metadata": {},
     "output_type": "execute_result"
    }
   ],
   "source": [
    "# fill na as 0, standardscaler, random forest classifier, feature selection\n",
    "high_feature = list(feats[:16].index)\n",
    "train_numeric = train_numeric.fillna(0)\n",
    "train_numeric_highfeature16_mms = MinMaxScaler().fit_transform(train_numeric[high_feature])\n",
    "estimator = RandomForestClassifier()\n",
    "cross_val_score(estimator, train_numeric_mms, trainLabel, cv=5).mean()"
   ]
  },
  {
   "cell_type": "markdown",
   "metadata": {},
   "source": [
    "### gradient boosting classifier"
   ]
  },
  {
   "cell_type": "code",
   "execution_count": 12,
   "metadata": {},
   "outputs": [
    {
     "data": {
      "text/plain": [
       "0.8581027667984189"
      ]
     },
     "execution_count": 12,
     "metadata": {},
     "output_type": "execute_result"
    }
   ],
   "source": [
    "# fill na as 0, minmaxscaler, gradient boosting classifier, reserve all features\n",
    "train_numeric = train[num_features]\n",
    "train_numeric = train_numeric.fillna(0)\n",
    "train_numeric_mms = MinMaxScaler().fit_transform(train_numeric)\n",
    "estimator = GradientBoostingClassifier()\n",
    "cross_val_score(estimator, train_numeric_mms, trainLabel, cv=5).mean()"
   ]
  },
  {
   "cell_type": "code",
   "execution_count": 13,
   "metadata": {},
   "outputs": [
    {
     "data": {
      "text/plain": [
       "0.866798418972332"
      ]
     },
     "execution_count": 13,
     "metadata": {},
     "output_type": "execute_result"
    }
   ],
   "source": [
    "# fill na as 0, standardscaler, gradient boosting classifier, reserve all features\n",
    "train_numeric = train[num_features]\n",
    "train_numeric = train_numeric.fillna(0)\n",
    "train_numeric_sts = StandardScaler().fit_transform(train_numeric)\n",
    "estimator = GradientBoostingClassifier()\n",
    "cross_val_score(estimator, train_numeric_sts, trainLabel, cv=5).mean()"
   ]
  },
  {
   "cell_type": "code",
   "execution_count": 14,
   "metadata": {},
   "outputs": [
    {
     "data": {
      "text/plain": [
       "expenses                     0.230914\n",
       "exercised_stock_options      0.217790\n",
       "other                        0.128736\n",
       "shared_receipt_with_poi      0.093081\n",
       "bonus                        0.080021\n",
       "deferred_income              0.055874\n",
       "from_this_person_to_poi      0.046573\n",
       "total_payments               0.033137\n",
       "salary                       0.029925\n",
       "restricted_stock             0.019388\n",
       "from_poi_to_this_person      0.016126\n",
       "from_messages                0.013373\n",
       "deferral_payments            0.012165\n",
       "long_term_incentive          0.010884\n",
       "to_messages                  0.005870\n",
       "total_stock_value            0.005798\n",
       "loan_advances                0.000346\n",
       "director_fees                0.000000\n",
       "restricted_stock_deferred    0.000000\n",
       "dtype: float64"
      ]
     },
     "execution_count": 14,
     "metadata": {},
     "output_type": "execute_result"
    }
   ],
   "source": [
    "# fill na as 0, standardscaler, gradient boosting classifier, feature selection\n",
    "# feature selection\n",
    "# make a simple fitting with GradientBoostingClassifier and see feature importance\n",
    "gbc = GradientBoostingClassifier()\n",
    "gbc.fit(train_numeric,trainLabel)\n",
    "feats = pd.Series(data=gbc.feature_importances_, index=train_numeric.columns)\n",
    "feats = feats.sort_values(ascending=False)\n",
    "feats"
   ]
  },
  {
   "cell_type": "code",
   "execution_count": 15,
   "metadata": {},
   "outputs": [
    {
     "data": {
      "text/plain": [
       "0.8581027667984189"
      ]
     },
     "execution_count": 15,
     "metadata": {},
     "output_type": "execute_result"
    }
   ],
   "source": [
    "# fill na as 0, standardscaler, gradient boosting classifier, feature selection\n",
    "high_feature = list(feats[:10].index)\n",
    "train_numeric = train_numeric.fillna(0)\n",
    "train_numeric_highfeature16_mms = MinMaxScaler().fit_transform(train_numeric[high_feature])\n",
    "estimator = GradientBoostingClassifier()\n",
    "cross_val_score(estimator, train_numeric_mms, trainLabel, cv=5).mean()"
   ]
  },
  {
   "cell_type": "markdown",
   "metadata": {},
   "source": [
    "choose \"fill na as 0, minmaxscaler, random forest calssifier, reserve all features\""
   ]
  },
  {
   "cell_type": "code",
   "execution_count": 16,
   "metadata": {},
   "outputs": [
    {
     "data": {
      "text/html": [
       "<div>\n",
       "<style scoped>\n",
       "    .dataframe tbody tr th:only-of-type {\n",
       "        vertical-align: middle;\n",
       "    }\n",
       "\n",
       "    .dataframe tbody tr th {\n",
       "        vertical-align: top;\n",
       "    }\n",
       "\n",
       "    .dataframe thead th {\n",
       "        text-align: right;\n",
       "    }\n",
       "</style>\n",
       "<table border=\"1\" class=\"dataframe\">\n",
       "  <thead>\n",
       "    <tr style=\"text-align: right;\">\n",
       "      <th></th>\n",
       "      <th>bonus</th>\n",
       "      <th>deferral_payments</th>\n",
       "      <th>deferred_income</th>\n",
       "      <th>director_fees</th>\n",
       "      <th>exercised_stock_options</th>\n",
       "      <th>expenses</th>\n",
       "      <th>from_messages</th>\n",
       "      <th>from_poi_to_this_person</th>\n",
       "      <th>from_this_person_to_poi</th>\n",
       "      <th>loan_advances</th>\n",
       "      <th>long_term_incentive</th>\n",
       "      <th>other</th>\n",
       "      <th>restricted_stock</th>\n",
       "      <th>restricted_stock_deferred</th>\n",
       "      <th>salary</th>\n",
       "      <th>shared_receipt_with_poi</th>\n",
       "      <th>to_messages</th>\n",
       "      <th>total_payments</th>\n",
       "      <th>total_stock_value</th>\n",
       "    </tr>\n",
       "  </thead>\n",
       "  <tbody>\n",
       "    <tr>\n",
       "      <th>0</th>\n",
       "      <td>1750000.0</td>\n",
       "      <td>0.0</td>\n",
       "      <td>-3504386.0</td>\n",
       "      <td>0.0</td>\n",
       "      <td>19794175.0</td>\n",
       "      <td>46950.0</td>\n",
       "      <td>18.0</td>\n",
       "      <td>42.0</td>\n",
       "      <td>4.0</td>\n",
       "      <td>0.0</td>\n",
       "      <td>1617011.0</td>\n",
       "      <td>174839.0</td>\n",
       "      <td>2748364.0</td>\n",
       "      <td>0.0</td>\n",
       "      <td>420636.0</td>\n",
       "      <td>864.0</td>\n",
       "      <td>905.0</td>\n",
       "      <td>505050.0</td>\n",
       "      <td>22542539.0</td>\n",
       "    </tr>\n",
       "    <tr>\n",
       "      <th>1</th>\n",
       "      <td>5600000.0</td>\n",
       "      <td>0.0</td>\n",
       "      <td>0.0</td>\n",
       "      <td>0.0</td>\n",
       "      <td>19250000.0</td>\n",
       "      <td>29336.0</td>\n",
       "      <td>108.0</td>\n",
       "      <td>88.0</td>\n",
       "      <td>30.0</td>\n",
       "      <td>0.0</td>\n",
       "      <td>1920000.0</td>\n",
       "      <td>22122.0</td>\n",
       "      <td>6843672.0</td>\n",
       "      <td>0.0</td>\n",
       "      <td>1111258.0</td>\n",
       "      <td>2042.0</td>\n",
       "      <td>3627.0</td>\n",
       "      <td>8682716.0</td>\n",
       "      <td>26093672.0</td>\n",
       "    </tr>\n",
       "    <tr>\n",
       "      <th>2</th>\n",
       "      <td>200000.0</td>\n",
       "      <td>0.0</td>\n",
       "      <td>-4167.0</td>\n",
       "      <td>0.0</td>\n",
       "      <td>1624396.0</td>\n",
       "      <td>22884.0</td>\n",
       "      <td>39.0</td>\n",
       "      <td>13.0</td>\n",
       "      <td>14.0</td>\n",
       "      <td>0.0</td>\n",
       "      <td>0.0</td>\n",
       "      <td>1573324.0</td>\n",
       "      <td>869220.0</td>\n",
       "      <td>0.0</td>\n",
       "      <td>211844.0</td>\n",
       "      <td>91.0</td>\n",
       "      <td>225.0</td>\n",
       "      <td>2003885.0</td>\n",
       "      <td>2493616.0</td>\n",
       "    </tr>\n",
       "    <tr>\n",
       "      <th>3</th>\n",
       "      <td>800000.0</td>\n",
       "      <td>0.0</td>\n",
       "      <td>0.0</td>\n",
       "      <td>0.0</td>\n",
       "      <td>0.0</td>\n",
       "      <td>118134.0</td>\n",
       "      <td>0.0</td>\n",
       "      <td>0.0</td>\n",
       "      <td>0.0</td>\n",
       "      <td>0.0</td>\n",
       "      <td>602671.0</td>\n",
       "      <td>907502.0</td>\n",
       "      <td>985032.0</td>\n",
       "      <td>0.0</td>\n",
       "      <td>224305.0</td>\n",
       "      <td>0.0</td>\n",
       "      <td>0.0</td>\n",
       "      <td>2652612.0</td>\n",
       "      <td>985032.0</td>\n",
       "    </tr>\n",
       "    <tr>\n",
       "      <th>4</th>\n",
       "      <td>1250000.0</td>\n",
       "      <td>0.0</td>\n",
       "      <td>-262500.0</td>\n",
       "      <td>0.0</td>\n",
       "      <td>0.0</td>\n",
       "      <td>35818.0</td>\n",
       "      <td>144.0</td>\n",
       "      <td>199.0</td>\n",
       "      <td>25.0</td>\n",
       "      <td>0.0</td>\n",
       "      <td>375304.0</td>\n",
       "      <td>486.0</td>\n",
       "      <td>126027.0</td>\n",
       "      <td>0.0</td>\n",
       "      <td>240189.0</td>\n",
       "      <td>2188.0</td>\n",
       "      <td>2598.0</td>\n",
       "      <td>1639297.0</td>\n",
       "      <td>126027.0</td>\n",
       "    </tr>\n",
       "  </tbody>\n",
       "</table>\n",
       "</div>"
      ],
      "text/plain": [
       "       bonus  deferral_payments  deferred_income  director_fees  \\\n",
       "0  1750000.0                0.0       -3504386.0            0.0   \n",
       "1  5600000.0                0.0              0.0            0.0   \n",
       "2   200000.0                0.0          -4167.0            0.0   \n",
       "3   800000.0                0.0              0.0            0.0   \n",
       "4  1250000.0                0.0        -262500.0            0.0   \n",
       "\n",
       "   exercised_stock_options  expenses  from_messages  from_poi_to_this_person  \\\n",
       "0               19794175.0   46950.0           18.0                     42.0   \n",
       "1               19250000.0   29336.0          108.0                     88.0   \n",
       "2                1624396.0   22884.0           39.0                     13.0   \n",
       "3                      0.0  118134.0            0.0                      0.0   \n",
       "4                      0.0   35818.0          144.0                    199.0   \n",
       "\n",
       "   from_this_person_to_poi  loan_advances  long_term_incentive      other  \\\n",
       "0                      4.0            0.0            1617011.0   174839.0   \n",
       "1                     30.0            0.0            1920000.0    22122.0   \n",
       "2                     14.0            0.0                  0.0  1573324.0   \n",
       "3                      0.0            0.0             602671.0   907502.0   \n",
       "4                     25.0            0.0             375304.0      486.0   \n",
       "\n",
       "   restricted_stock  restricted_stock_deferred     salary  \\\n",
       "0         2748364.0                        0.0   420636.0   \n",
       "1         6843672.0                        0.0  1111258.0   \n",
       "2          869220.0                        0.0   211844.0   \n",
       "3          985032.0                        0.0   224305.0   \n",
       "4          126027.0                        0.0   240189.0   \n",
       "\n",
       "   shared_receipt_with_poi  to_messages  total_payments  total_stock_value  \n",
       "0                    864.0        905.0        505050.0         22542539.0  \n",
       "1                   2042.0       3627.0       8682716.0         26093672.0  \n",
       "2                     91.0        225.0       2003885.0          2493616.0  \n",
       "3                      0.0          0.0       2652612.0           985032.0  \n",
       "4                   2188.0       2598.0       1639297.0           126027.0  "
      ]
     },
     "execution_count": 16,
     "metadata": {},
     "output_type": "execute_result"
    }
   ],
   "source": [
    "train_numeric.head()"
   ]
  },
  {
   "cell_type": "markdown",
   "metadata": {},
   "source": [
    "# Machine learning"
   ]
  },
  {
   "cell_type": "code",
   "execution_count": 17,
   "metadata": {},
   "outputs": [],
   "source": [
    "# define a function to draw confusion matrix plot\n",
    "def plot_confusion_matrix(confmat, target_names=None, title=None):\n",
    "    plt.matshow(confmat, cmap=plt.cm.Blues, alpha=0.7)\n",
    "    for i in range(confmat.shape[0]):\n",
    "        for j in range(confmat.shape[1]):\n",
    "            plt.text(x=j,y=i, s=f'{confmat[i][j]}',va='center',ha='center')\n",
    "    \n",
    "    if target_names is not None:\n",
    "        plt.xticks(np.arange(len(target_names)),target_names)\n",
    "        plt.yticks(np.arange(len(target_names)),target_names)\n",
    "    plt.xlabel('Predicted label')\n",
    "    plt.ylabel('True label')\n",
    "    plt.title(title)\n",
    "    plt.grid('off')\n",
    "    plt.tight_layout()"
   ]
  },
  {
   "cell_type": "code",
   "execution_count": 18,
   "metadata": {},
   "outputs": [
    {
     "data": {
      "text/html": [
       "<div>\n",
       "<style scoped>\n",
       "    .dataframe tbody tr th:only-of-type {\n",
       "        vertical-align: middle;\n",
       "    }\n",
       "\n",
       "    .dataframe tbody tr th {\n",
       "        vertical-align: top;\n",
       "    }\n",
       "\n",
       "    .dataframe thead th {\n",
       "        text-align: right;\n",
       "    }\n",
       "</style>\n",
       "<table border=\"1\" class=\"dataframe\">\n",
       "  <thead>\n",
       "    <tr style=\"text-align: right;\">\n",
       "      <th></th>\n",
       "      <th>0</th>\n",
       "      <th>1</th>\n",
       "      <th>2</th>\n",
       "      <th>3</th>\n",
       "      <th>4</th>\n",
       "      <th>5</th>\n",
       "      <th>6</th>\n",
       "      <th>7</th>\n",
       "      <th>8</th>\n",
       "      <th>9</th>\n",
       "      <th>10</th>\n",
       "      <th>11</th>\n",
       "      <th>12</th>\n",
       "      <th>13</th>\n",
       "      <th>14</th>\n",
       "      <th>15</th>\n",
       "      <th>16</th>\n",
       "      <th>17</th>\n",
       "      <th>18</th>\n",
       "    </tr>\n",
       "  </thead>\n",
       "  <tbody>\n",
       "    <tr>\n",
       "      <th>0</th>\n",
       "      <td>0.21875</td>\n",
       "      <td>0.03342</td>\n",
       "      <td>0.000000</td>\n",
       "      <td>0.0</td>\n",
       "      <td>0.576277</td>\n",
       "      <td>0.205234</td>\n",
       "      <td>0.001253</td>\n",
       "      <td>0.079545</td>\n",
       "      <td>0.009732</td>\n",
       "      <td>0.0</td>\n",
       "      <td>0.314261</td>\n",
       "      <td>0.016877</td>\n",
       "      <td>0.186182</td>\n",
       "      <td>0.927036</td>\n",
       "      <td>0.378522</td>\n",
       "      <td>0.190855</td>\n",
       "      <td>0.059740</td>\n",
       "      <td>0.004877</td>\n",
       "      <td>0.459506</td>\n",
       "    </tr>\n",
       "    <tr>\n",
       "      <th>1</th>\n",
       "      <td>0.70000</td>\n",
       "      <td>0.03342</td>\n",
       "      <td>1.000000</td>\n",
       "      <td>0.0</td>\n",
       "      <td>0.560434</td>\n",
       "      <td>0.128238</td>\n",
       "      <td>0.007517</td>\n",
       "      <td>0.166667</td>\n",
       "      <td>0.072993</td>\n",
       "      <td>0.0</td>\n",
       "      <td>0.373146</td>\n",
       "      <td>0.002135</td>\n",
       "      <td>0.463610</td>\n",
       "      <td>0.927036</td>\n",
       "      <td>1.000000</td>\n",
       "      <td>0.451071</td>\n",
       "      <td>0.239422</td>\n",
       "      <td>0.083843</td>\n",
       "      <td>0.531751</td>\n",
       "    </tr>\n",
       "    <tr>\n",
       "      <th>2</th>\n",
       "      <td>0.02500</td>\n",
       "      <td>0.03342</td>\n",
       "      <td>0.998811</td>\n",
       "      <td>0.0</td>\n",
       "      <td>0.047292</td>\n",
       "      <td>0.100034</td>\n",
       "      <td>0.002714</td>\n",
       "      <td>0.024621</td>\n",
       "      <td>0.034063</td>\n",
       "      <td>0.0</td>\n",
       "      <td>0.000000</td>\n",
       "      <td>0.151869</td>\n",
       "      <td>0.058883</td>\n",
       "      <td>0.927036</td>\n",
       "      <td>0.190634</td>\n",
       "      <td>0.020102</td>\n",
       "      <td>0.014852</td>\n",
       "      <td>0.019350</td>\n",
       "      <td>0.051628</td>\n",
       "    </tr>\n",
       "    <tr>\n",
       "      <th>3</th>\n",
       "      <td>0.10000</td>\n",
       "      <td>0.03342</td>\n",
       "      <td>1.000000</td>\n",
       "      <td>0.0</td>\n",
       "      <td>0.000000</td>\n",
       "      <td>0.516403</td>\n",
       "      <td>0.000000</td>\n",
       "      <td>0.000000</td>\n",
       "      <td>0.000000</td>\n",
       "      <td>0.0</td>\n",
       "      <td>0.117127</td>\n",
       "      <td>0.087599</td>\n",
       "      <td>0.066729</td>\n",
       "      <td>0.927036</td>\n",
       "      <td>0.201848</td>\n",
       "      <td>0.000000</td>\n",
       "      <td>0.000000</td>\n",
       "      <td>0.025614</td>\n",
       "      <td>0.020937</td>\n",
       "    </tr>\n",
       "    <tr>\n",
       "      <th>4</th>\n",
       "      <td>0.15625</td>\n",
       "      <td>0.03342</td>\n",
       "      <td>0.925094</td>\n",
       "      <td>0.0</td>\n",
       "      <td>0.000000</td>\n",
       "      <td>0.156573</td>\n",
       "      <td>0.010022</td>\n",
       "      <td>0.376894</td>\n",
       "      <td>0.060827</td>\n",
       "      <td>0.0</td>\n",
       "      <td>0.072939</td>\n",
       "      <td>0.000047</td>\n",
       "      <td>0.008537</td>\n",
       "      <td>0.927036</td>\n",
       "      <td>0.216142</td>\n",
       "      <td>0.483322</td>\n",
       "      <td>0.171496</td>\n",
       "      <td>0.015829</td>\n",
       "      <td>0.003461</td>\n",
       "    </tr>\n",
       "  </tbody>\n",
       "</table>\n",
       "</div>"
      ],
      "text/plain": [
       "        0        1         2    3         4         5         6         7   \\\n",
       "0  0.21875  0.03342  0.000000  0.0  0.576277  0.205234  0.001253  0.079545   \n",
       "1  0.70000  0.03342  1.000000  0.0  0.560434  0.128238  0.007517  0.166667   \n",
       "2  0.02500  0.03342  0.998811  0.0  0.047292  0.100034  0.002714  0.024621   \n",
       "3  0.10000  0.03342  1.000000  0.0  0.000000  0.516403  0.000000  0.000000   \n",
       "4  0.15625  0.03342  0.925094  0.0  0.000000  0.156573  0.010022  0.376894   \n",
       "\n",
       "         8    9         10        11        12        13        14        15  \\\n",
       "0  0.009732  0.0  0.314261  0.016877  0.186182  0.927036  0.378522  0.190855   \n",
       "1  0.072993  0.0  0.373146  0.002135  0.463610  0.927036  1.000000  0.451071   \n",
       "2  0.034063  0.0  0.000000  0.151869  0.058883  0.927036  0.190634  0.020102   \n",
       "3  0.000000  0.0  0.117127  0.087599  0.066729  0.927036  0.201848  0.000000   \n",
       "4  0.060827  0.0  0.072939  0.000047  0.008537  0.927036  0.216142  0.483322   \n",
       "\n",
       "         16        17        18  \n",
       "0  0.059740  0.004877  0.459506  \n",
       "1  0.239422  0.083843  0.531751  \n",
       "2  0.014852  0.019350  0.051628  \n",
       "3  0.000000  0.025614  0.020937  \n",
       "4  0.171496  0.015829  0.003461  "
      ]
     },
     "execution_count": 18,
     "metadata": {},
     "output_type": "execute_result"
    }
   ],
   "source": [
    "train_numeric_mms = pd.DataFrame(train_numeric_mms)    \n",
    "train_numeric_mms.head()"
   ]
  },
  {
   "cell_type": "code",
   "execution_count": 19,
   "metadata": {},
   "outputs": [
    {
     "name": "stdout",
     "output_type": "stream",
     "text": [
      "accuracy using gradientboosting classifier with default hyperparameters: 0.828\n"
     ]
    },
    {
     "data": {
      "image/png": "[encoded data removed]",
      "text/plain": [
       "<Figure size 288x288 with 1 Axes>"
      ]
     },
     "metadata": {},
     "output_type": "display_data"
    }
   ],
   "source": [
    "# random forest classifier\n",
    "# split training/ testing data\n",
    "from sklearn.model_selection import train_test_split\n",
    "from sklearn import metrics\n",
    "\n",
    "\n",
    "x_train, x_test, y_train, y_test = train_test_split(train_numeric_mms, trainLabel, test_size=0.25, random_state=0)\n",
    "# create model\n",
    "rfc = RandomForestClassifier()\n",
    "\n",
    "# fitting training data with the model\n",
    "rfc.fit(x_train, y_train)\n",
    "\n",
    "# 將測試資料丟入模型取得預測結果\n",
    "y_pred = rfc.predict(x_test)\n",
    "\n",
    "# 利用accuracy評估模型預測結果\n",
    "print(f'accuracy using gradientboosting classifier with default hyperparameters: {metrics.accuracy_score(y_test, y_pred):.3f}')\n",
    "\n",
    "# 繪製 confusion matrix\n",
    "confmat = metrics.confusion_matrix(y_test, y_pred)\n",
    "plot_confusion_matrix(confmat, title = \"random forest classifier with default hyperparameters\")"
   ]
  },
  {
   "cell_type": "code",
   "execution_count": 20,
   "metadata": {},
   "outputs": [
    {
     "data": {
      "text/plain": [
       "(33, 21)"
      ]
     },
     "execution_count": 20,
     "metadata": {},
     "output_type": "execute_result"
    }
   ],
   "source": [
    "test.head()\n",
    "test.shape"
   ]
  },
  {
   "cell_type": "code",
   "execution_count": 25,
   "metadata": {},
   "outputs": [
    {
     "data": {
      "text/html": [
       "<div>\n",
       "<style scoped>\n",
       "    .dataframe tbody tr th:only-of-type {\n",
       "        vertical-align: middle;\n",
       "    }\n",
       "\n",
       "    .dataframe tbody tr th {\n",
       "        vertical-align: top;\n",
       "    }\n",
       "\n",
       "    .dataframe thead th {\n",
       "        text-align: right;\n",
       "    }\n",
       "</style>\n",
       "<table border=\"1\" class=\"dataframe\">\n",
       "  <thead>\n",
       "    <tr style=\"text-align: right;\">\n",
       "      <th></th>\n",
       "      <th>0</th>\n",
       "      <th>1</th>\n",
       "      <th>2</th>\n",
       "      <th>3</th>\n",
       "      <th>4</th>\n",
       "      <th>5</th>\n",
       "      <th>6</th>\n",
       "      <th>7</th>\n",
       "      <th>8</th>\n",
       "      <th>9</th>\n",
       "      <th>10</th>\n",
       "      <th>11</th>\n",
       "      <th>12</th>\n",
       "      <th>13</th>\n",
       "      <th>14</th>\n",
       "      <th>15</th>\n",
       "      <th>16</th>\n",
       "      <th>17</th>\n",
       "      <th>18</th>\n",
       "    </tr>\n",
       "  </thead>\n",
       "  <tbody>\n",
       "    <tr>\n",
       "      <th>0</th>\n",
       "      <td>0.053933</td>\n",
       "      <td>0.066826</td>\n",
       "      <td>0.916606</td>\n",
       "      <td>0.0</td>\n",
       "      <td>0.003057</td>\n",
       "      <td>0.003315</td>\n",
       "      <td>0.157706</td>\n",
       "      <td>0.942149</td>\n",
       "      <td>0.177340</td>\n",
       "      <td>0.0</td>\n",
       "      <td>0.000000</td>\n",
       "      <td>0.004938</td>\n",
       "      <td>0.020779</td>\n",
       "      <td>0.328952</td>\n",
       "      <td>0.008014</td>\n",
       "      <td>1.000000</td>\n",
       "      <td>1.000000</td>\n",
       "      <td>0.017754</td>\n",
       "      <td>0.002556</td>\n",
       "    </tr>\n",
       "    <tr>\n",
       "      <th>1</th>\n",
       "      <td>0.013868</td>\n",
       "      <td>0.000000</td>\n",
       "      <td>0.999970</td>\n",
       "      <td>0.0</td>\n",
       "      <td>0.000000</td>\n",
       "      <td>0.012589</td>\n",
       "      <td>0.008798</td>\n",
       "      <td>0.578512</td>\n",
       "      <td>0.024631</td>\n",
       "      <td>0.0</td>\n",
       "      <td>0.020079</td>\n",
       "      <td>0.000038</td>\n",
       "      <td>0.021490</td>\n",
       "      <td>0.328952</td>\n",
       "      <td>0.010433</td>\n",
       "      <td>0.288535</td>\n",
       "      <td>0.232512</td>\n",
       "      <td>0.008615</td>\n",
       "      <td>0.000580</td>\n",
       "    </tr>\n",
       "    <tr>\n",
       "      <th>2</th>\n",
       "      <td>0.015409</td>\n",
       "      <td>0.000000</td>\n",
       "      <td>0.888650</td>\n",
       "      <td>0.0</td>\n",
       "      <td>0.017763</td>\n",
       "      <td>0.006502</td>\n",
       "      <td>0.010427</td>\n",
       "      <td>0.132231</td>\n",
       "      <td>0.034483</td>\n",
       "      <td>0.0</td>\n",
       "      <td>0.033325</td>\n",
       "      <td>0.000266</td>\n",
       "      <td>0.026011</td>\n",
       "      <td>0.328952</td>\n",
       "      <td>0.009111</td>\n",
       "      <td>0.187466</td>\n",
       "      <td>0.130772</td>\n",
       "      <td>0.000932</td>\n",
       "      <td>0.014709</td>\n",
       "    </tr>\n",
       "    <tr>\n",
       "      <th>3</th>\n",
       "      <td>0.030819</td>\n",
       "      <td>0.000000</td>\n",
       "      <td>1.000000</td>\n",
       "      <td>0.0</td>\n",
       "      <td>0.007349</td>\n",
       "      <td>0.016461</td>\n",
       "      <td>1.000000</td>\n",
       "      <td>0.272727</td>\n",
       "      <td>1.000000</td>\n",
       "      <td>0.0</td>\n",
       "      <td>0.026689</td>\n",
       "      <td>0.000039</td>\n",
       "      <td>0.029547</td>\n",
       "      <td>0.328952</td>\n",
       "      <td>0.013674</td>\n",
       "      <td>0.379822</td>\n",
       "      <td>0.387060</td>\n",
       "      <td>0.015322</td>\n",
       "      <td>0.008318</td>\n",
       "    </tr>\n",
       "    <tr>\n",
       "      <th>4</th>\n",
       "      <td>0.010273</td>\n",
       "      <td>0.000000</td>\n",
       "      <td>0.991605</td>\n",
       "      <td>0.0</td>\n",
       "      <td>0.000000</td>\n",
       "      <td>0.005859</td>\n",
       "      <td>0.015966</td>\n",
       "      <td>0.239669</td>\n",
       "      <td>0.019704</td>\n",
       "      <td>0.0</td>\n",
       "      <td>0.007213</td>\n",
       "      <td>0.007216</td>\n",
       "      <td>0.038416</td>\n",
       "      <td>0.328952</td>\n",
       "      <td>0.015548</td>\n",
       "      <td>0.287086</td>\n",
       "      <td>0.236766</td>\n",
       "      <td>0.006030</td>\n",
       "      <td>0.005758</td>\n",
       "    </tr>\n",
       "  </tbody>\n",
       "</table>\n",
       "</div>"
      ],
      "text/plain": [
       "         0         1         2    3         4         5         6         7   \\\n",
       "0  0.053933  0.066826  0.916606  0.0  0.003057  0.003315  0.157706  0.942149   \n",
       "1  0.013868  0.000000  0.999970  0.0  0.000000  0.012589  0.008798  0.578512   \n",
       "2  0.015409  0.000000  0.888650  0.0  0.017763  0.006502  0.010427  0.132231   \n",
       "3  0.030819  0.000000  1.000000  0.0  0.007349  0.016461  1.000000  0.272727   \n",
       "4  0.010273  0.000000  0.991605  0.0  0.000000  0.005859  0.015966  0.239669   \n",
       "\n",
       "         8    9         10        11        12        13        14        15  \\\n",
       "0  0.177340  0.0  0.000000  0.004938  0.020779  0.328952  0.008014  1.000000   \n",
       "1  0.024631  0.0  0.020079  0.000038  0.021490  0.328952  0.010433  0.288535   \n",
       "2  0.034483  0.0  0.033325  0.000266  0.026011  0.328952  0.009111  0.187466   \n",
       "3  1.000000  0.0  0.026689  0.000039  0.029547  0.328952  0.013674  0.379822   \n",
       "4  0.019704  0.0  0.007213  0.007216  0.038416  0.328952  0.015548  0.287086   \n",
       "\n",
       "         16        17        18  \n",
       "0  1.000000  0.017754  0.002556  \n",
       "1  0.232512  0.008615  0.000580  \n",
       "2  0.130772  0.000932  0.014709  \n",
       "3  0.387060  0.015322  0.008318  \n",
       "4  0.236766  0.006030  0.005758  "
      ]
     },
     "execution_count": 25,
     "metadata": {},
     "output_type": "execute_result"
    }
   ],
   "source": [
    "# in testing data, fill na as 0, minmaxscaler and reserve all features\n",
    "test_numeric = test.drop(labels = ['name','email_address'], axis=1)\n",
    "test_numeric = test_numeric.fillna(0)\n",
    "test_numeric_mms = MinMaxScaler().fit_transform(test_numeric)\n",
    "test_numeric_mms = pd.DataFrame(test_numeric_mms)\n",
    "test_numeric_mms.head()"
   ]
  },
  {
   "cell_type": "code",
   "execution_count": 26,
   "metadata": {},
   "outputs": [
    {
     "data": {
      "text/html": [
       "<div>\n",
       "<style scoped>\n",
       "    .dataframe tbody tr th:only-of-type {\n",
       "        vertical-align: middle;\n",
       "    }\n",
       "\n",
       "    .dataframe tbody tr th {\n",
       "        vertical-align: top;\n",
       "    }\n",
       "\n",
       "    .dataframe thead th {\n",
       "        text-align: right;\n",
       "    }\n",
       "</style>\n",
       "<table border=\"1\" class=\"dataframe\">\n",
       "  <thead>\n",
       "    <tr style=\"text-align: right;\">\n",
       "      <th></th>\n",
       "      <th>0</th>\n",
       "    </tr>\n",
       "  </thead>\n",
       "  <tbody>\n",
       "    <tr>\n",
       "      <th>0</th>\n",
       "      <td>0.1</td>\n",
       "    </tr>\n",
       "    <tr>\n",
       "      <th>1</th>\n",
       "      <td>0.0</td>\n",
       "    </tr>\n",
       "    <tr>\n",
       "      <th>2</th>\n",
       "      <td>0.1</td>\n",
       "    </tr>\n",
       "    <tr>\n",
       "      <th>3</th>\n",
       "      <td>0.0</td>\n",
       "    </tr>\n",
       "    <tr>\n",
       "      <th>4</th>\n",
       "      <td>0.0</td>\n",
       "    </tr>\n",
       "  </tbody>\n",
       "</table>\n",
       "</div>"
      ],
      "text/plain": [
       "     0\n",
       "0  0.1\n",
       "1  0.0\n",
       "2  0.1\n",
       "3  0.0\n",
       "4  0.0"
      ]
     },
     "execution_count": 26,
     "metadata": {},
     "output_type": "execute_result"
    }
   ],
   "source": [
    "# create model\n",
    "rfc = RandomForestClassifier()\n",
    "\n",
    "# fitting training data with the model\n",
    "rfc.fit(train_numeric_mms, trainLabel)\n",
    "\n",
    "# predict the probability of poi\n",
    "rfc_pred = rfc.predict_proba(test_numeric_mms)[:, 1]\n",
    "\n",
    "rfc_pred = pd.DataFrame(rfc_pred)\n",
    "rfc_pred.head()"
   ]
  },
  {
   "cell_type": "code",
   "execution_count": 27,
   "metadata": {},
   "outputs": [
    {
     "data": {
      "text/plain": [
       "(33,)"
      ]
     },
     "execution_count": 27,
     "metadata": {},
     "output_type": "execute_result"
    }
   ],
   "source": [
    "test['name'].shape"
   ]
  },
  {
   "cell_type": "code",
   "execution_count": 28,
   "metadata": {},
   "outputs": [
    {
     "data": {
      "text/plain": [
       "(33, 1)"
      ]
     },
     "execution_count": 28,
     "metadata": {},
     "output_type": "execute_result"
    }
   ],
   "source": [
    "rfc_pred.shape"
   ]
  },
  {
   "cell_type": "code",
   "execution_count": 29,
   "metadata": {},
   "outputs": [
    {
     "name": "stdout",
     "output_type": "stream",
     "text": [
      "(33, 2)\n"
     ]
    }
   ],
   "source": [
    "# arrange submission data\n",
    "rfc_pred.columns = ['poi']\n",
    "submission = pd.concat([test['name'], rfc_pred], axis=1)\n",
    "submission.head()\n",
    "print(submission.shape)"
   ]
  },
  {
   "cell_type": "code",
   "execution_count": 30,
   "metadata": {},
   "outputs": [],
   "source": [
    "submission.to_csv('submission.csv', index = False)"
   ]
  }
 ],
 "metadata": {
  "kernelspec": {
   "display_name": "Python 3",
   "language": "python",
   "name": "python3"
  },
  "language_info": {
   "codemirror_mode": {
    "name": "ipython",
    "version": 3
   },
   "file_extension": ".py",
   "mimetype": "text/x-python",
   "name": "python",
   "nbconvert_exporter": "python",
   "pygments_lexer": "ipython3",
   "version": "3.7.1"
  }
 },
 "nbformat": 4,
 "nbformat_minor": 2
}
