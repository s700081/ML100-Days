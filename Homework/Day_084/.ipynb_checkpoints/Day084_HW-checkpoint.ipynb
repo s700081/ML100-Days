{
 "cells": [
  {
   "cell_type": "markdown",
   "metadata": {},
   "source": [
    "## Work\n",
    "請結合前面的知識與程式碼，比較不同的 regularization 的組合對訓練的結果與影響：如 dropout, regularizers, batch-normalization 等"
   ]
  },
  {
   "cell_type": "code",
   "execution_count": null,
   "metadata": {
    "collapsed": true
   },
   "outputs": [],
   "source": [
    "import os\n",
    "import keras\n",
    "import itertools\n",
    "from keras.models import Sequential\n",
    "from keras.layers import Dense, Dropout, BatchNormalization\n",
    "from keras.optimizers import SGD\n",
    "\n",
    "# Disable GPU\n",
    "#os.environ[\"CUDA_VISIBLE_DEVICES\"] = \"\"\n",
    "#force to use cpu(by changing device_count in the tf.ContigProto)\n",
    "import tensorflow as tf\n",
    "from keras import backend as K\n",
    "num_cores = 4\n",
    "config = tf.ConfigProto(intra_op_parallelism_threads=num_cores,\n",
    "                        inter_op_parallelism_threads=num_cores, \n",
    "                        allow_soft_placement=True,\n",
    "                        device_count = {'CPU' : 1,\n",
    "                                        'GPU' : 0}\n",
    "                       )\n",
    "\n",
    "session = tf.Session(config=config)\n",
    "K.set_session(session)"
   ]
  },
  {
   "cell_type": "code",
   "execution_count": null,
   "metadata": {
    "collapsed": true
   },
   "outputs": [],
   "source": [
    "train, test = keras.datasets.cifar10.load_data()"
   ]
  },
  {
   "cell_type": "code",
   "execution_count": null,
   "metadata": {
    "collapsed": true
   },
   "outputs": [],
   "source": [
    "## 資料前處理\n",
    "def preproc_x(x, flatten=True):\n",
    "    x = x / 255.\n",
    "    if flatten:\n",
    "        x = x.reshape((len(x), -1))\n",
    "    return x\n",
    "\n",
    "def preproc_y(y, num_classes=10):\n",
    "    if y.shape[-1] == 1:\n",
    "        y = keras.utils.to_categorical(y, num_classes)\n",
    "    return y    "
   ]
  },
  {
   "cell_type": "code",
   "execution_count": null,
   "metadata": {
    "collapsed": true
   },
   "outputs": [],
   "source": [
    "x_train, y_train = train\n",
    "x_test, y_test = test\n",
    "\n",
    "# Preproc the inputs\n",
    "x_train = preproc_x(x_train)\n",
    "x_test = preproc_x(x_test)\n",
    "\n",
    "# Preprc the outputs\n",
    "y_train = preproc_y(y_train)\n",
    "y_test = preproc_y(y_test)"
   ]
  },
  {
   "cell_type": "code",
   "execution_count": null,
   "metadata": {
    "collapsed": true
   },
   "outputs": [],
   "source": [
    "# Hint 1 : 在 Dense 層中增加 Regularizers\n",
    "# Hint 2 : 增加 Dropout 層並設定 dropout ratio \n",
    "# Hint 3 : 增加 Batch-normalization 層\n",
    "def build_mlp(input_shape, output_units=10, num_neurons=[128,64,32],regularizer=\"l1\",reg_ratio=1e-4,drp_rate=0.2):\n",
    "    \"\"\"\n",
    "    Build your own model\n",
    "    \"\"\"\n",
    "    model=Sequential()\n",
    "    if regularizer ==\"l1\":\n",
    "        print(\"l1 regularization for input layer\")\n",
    "        model.add(Dense(units=input_shape[1],input_dim=input_shape[1],kernel_initializer='normal',kernel_regularizer=l1(reg_ratio),activation='relu',name='input'))\n",
    "        for i, n_unit in enumerate(num_neurons):\n",
    "            print(f\"l1 regularization for hidden layer {i+1}\")\n",
    "            model.add(Dense(units=n_unit, kernel_initializer='normal',kernel_regularizer=l1(reg_ratio),activation='relu',name='hidden'+str(i+1)))\n",
    "            model.add(Dropout(drp_rate))\n",
    "            model.add(BatchNormalization())\n",
    "    \n",
    "    elif regularizer ==\"l2\":\n",
    "        print(\"l2 regularization for input layer\")\n",
    "        model.add(Dense(units=input_shape[1],input_dim=input_shape[1],kernel_initializer='normal',kernel_regularizer=l2(reg_ratio),activation='relu',name='input'))\n",
    "        for i, n_unit in enumerate(num_neurons):\n",
    "            print(f\"l2 regularization for hidden layer {i+1}\")\n",
    "            model.add(Dense(units=n_unit, kernel_initializer='normal',kernel_regularizer=l2(reg_ratio),activation='relu',name='hidden'+str(i+1)))\n",
    "            model.add(Dropout(drp_rate))\n",
    "            model.add(BatchNormalization())\n",
    "    \n",
    "    elif regularizer ==\"l1_l2\":\n",
    "        print(\"l1_l2 regularization for input layer\")\n",
    "        model.add(Dense(units=input_shape[1],input_dim=input_shape[1],kernel_initializer='normal',kernel_regularizer=l1_l2(reg_ratio),activation='relu',name='input'))\n",
    "        for i, n_unit in enumerate(num_neurons):\n",
    "            print(f\"l1_l2 regularization for hidden layer {i+1}\")\n",
    "            model.add(Dense(units=n_unit, kernel_initializer='normal',kernel_regularizer=l1_l2(reg_ratio),activation='relu',name='hidden'+str(i+1)))\n",
    "            model.add(Dropout(drp_rate))\n",
    "            model.add(BatchNormalization())\n",
    "            \n",
    "    model.add(Dense(units=output_units, kernel_initializer='normal', activation='softmax', name='output'))\n",
    "    return model"
   ]
  },
  {
   "cell_type": "code",
   "execution_count": null,
   "metadata": {},
   "outputs": [],
   "source": [
    "# write function to plot results\n",
    "def plot_results(results):\n",
    "    color_bar=['maroon','red','sienna','greenyellow','lime','green','aqua','dodgerblue','mediumblue','slateblue','darkorchid','purple']\n",
    "    \"\"\"\n",
    "    Draw the results\n",
    "    \"\"\"\n",
    "    plt.figure(figsize=(12,9))\n",
    "    for i, cond in enumerate(results.keys()):\n",
    "        plt.plot(range(len(results[cond]['train_loss'])), results[cond]['train_loss'], '-', label=cond, color=color_bar[i%12])\n",
    "        plt.plot(range(len(results[cond]['valid_loss'])), results[cond]['valid_loss'],'--', label=cond, color=color_bar[i%12])\n",
    "    plt.title('Loss')\n",
    "    plt.legend()\n",
    "    plt.show\n",
    "\n",
    "    plt.figure(figsize=(12,9))\n",
    "    for i, cond in enumerate(results.keys()):\n",
    "        plt.plot(range(len(results[cond]['train_acc'])), results[cond]['train_acc'], '-', label=cond, color=color_bar[i%12])\n",
    "        plt.plot(range(len(results[cond]['valid_acc'])), results[cond]['valid_acc'],'--', label=cond, color=color_bar[i%12])\n",
    "    plt.title('Accuracy')\n",
    "    plt.legend()\n",
    "    plt.show()"
   ]
  },
  {
   "cell_type": "code",
   "execution_count": null,
   "metadata": {
    "collapsed": true
   },
   "outputs": [],
   "source": [
    "## 超參數設定\n",
    "\"\"\"\n",
    "Set your hyper-parameters\n",
    "\"\"\"\n",
    "LEARNING_RATE=1e-3\n",
    "EPOCHS=30\n",
    "BATCH_SIZE=[256,128]\n",
    "MOMENTUM=0.9\n",
    "REGULARIZER=[\"l1\",\"l2\",\"l1_l2\"]\n",
    "REG_RATIO=[1e-4, 1e-8]\n",
    "DRP_RATE=[0.1,0.2]"
   ]
  },
  {
   "cell_type": "markdown",
   "metadata": {},
   "source": [
    "## Regularizer:l1"
   ]
  },
  {
   "cell_type": "code",
   "execution_count": null,
   "metadata": {
    "collapsed": true,
    "scrolled": true
   },
   "outputs": [],
   "source": [
    "results_l1 = {}\n",
    "\"\"\"\n",
    "Set your training loop\n",
    "\"\"\"\n",
    "for reg_ratio,drp_rate,batch_size in itertools.product(REG_RATIO,DRP_RATE,BATCH_SIZE):   \n",
    "    print(f\"Current regularizer: {reg}, reg_ratio: {reg_ratio}\")\n",
    "    model = build_mlp(input_shape=x_train.shape, regularizer='l1', reg_ratio = reg_ratio,drp_rate=drp_rate)\n",
    "    optimizer = SGD(lr=LEARNING_RATE,nesterov=True, momentum=MOMENTUM)\n",
    "        \n",
    "    model.compile(loss=\"categorical_crossentropy\", metrics=['accuracy'], optimizer=optimizer)\n",
    "    \n",
    "    model.fit(x_train,y_train,\n",
    "              epochs=EPOCHS,\n",
    "              batch_size=batch_size,\n",
    "              validation_data=(x_test,y_test),\n",
    "              shuffle=True)\n",
    "       \n",
    "    #collect results\n",
    "    train_loss=model.history.history['loss']\n",
    "    valid_loss=model.history.history['val_loss']\n",
    "    train_acc =model.history.history['acc']\n",
    "    valid_acc =model.history.history['val_acc']\n",
    "    \n",
    "    # create result dictionary\n",
    "    exp_name_tag = 'exp_l1%s'%str(reg_ratio)+str('_drp')+str(drp_rate)+str('_batch')+str(batch_size)\n",
    "    \n",
    "    results_l1[exp_name_tag]={'train_loss':train_loss,\n",
    "                              'valid_loss':valid_loss,\n",
    "                              'train_acc':train_acc,\n",
    "                              'valid_acc':valid_acc}"
   ]
  },
  {
   "cell_type": "code",
   "execution_count": null,
   "metadata": {
    "collapsed": true
   },
   "outputs": [],
   "source": [
    "import matplotlib.pyplot as plt\n",
    "%matplotlib inline\n",
    "color_bar=['maroon','red','sienna','greenyellow','lime','green','aqua','dodgerblue','mediumblue','slateblue','darkorchid','purple']\n",
    "\"\"\"\n",
    "plot the results\n",
    "\"\"\"\n",
    "plot_results(results_l1)"
   ]
  },
  {
   "cell_type": "markdown",
   "metadata": {},
   "source": [
    "## Regularizer:l2"
   ]
  },
  {
   "cell_type": "code",
   "execution_count": null,
   "metadata": {
    "collapsed": true,
    "scrolled": true
   },
   "outputs": [],
   "source": [
    "results_l2 = {}\n",
    "\"\"\"\n",
    "Set your training loop\n",
    "\"\"\"\n",
    "for reg_ratio,drp_rate,batch_size in itertools.product(REG_RATIO,DRP_RATE,BATCH_SIZE):   \n",
    "    print(f\"Current regularizer: {reg}, reg_ratio: {reg_ratio}\")\n",
    "    model = build_mlp(input_shape=x_train.shape, regularizer='l2', reg_ratio = reg_ratio,drp_rate=drp_rate)\n",
    "    optimizer = SGD(lr=LEARNING_RATE,nesterov=True, momentum=MOMENTUM)\n",
    "        \n",
    "    model.compile(loss=\"categorical_crossentropy\", metrics=['accuracy'], optimizer=optimizer)\n",
    "    \n",
    "    model.fit(x_train,y_train,\n",
    "              epochs=EPOCHS,\n",
    "              batch_size=batch_size,\n",
    "              validation_data=(x_test,y_test),\n",
    "              shuffle=True)\n",
    "       \n",
    "    #collect results\n",
    "    train_loss=model.history.history['loss']\n",
    "    valid_loss=model.history.history['val_loss']\n",
    "    train_acc =model.history.history['acc']\n",
    "    valid_acc =model.history.history['val_acc']\n",
    "    \n",
    "    # create result dictionary\n",
    "    exp_name_tag = 'exp_l2%s'%str(reg_ratio)+str('_drp')+str(drp_rate)+str('_batch')+str(batch_size)\n",
    "    \n",
    "    results_l2[exp_name_tag]={'train_loss':train_loss,\n",
    "                              'valid_loss':valid_loss,\n",
    "                              'train_acc':train_acc,\n",
    "                              'valid_acc':valid_acc}"
   ]
  },
  {
   "cell_type": "code",
   "execution_count": null,
   "metadata": {
    "collapsed": true
   },
   "outputs": [],
   "source": [
    "import matplotlib.pyplot as plt\n",
    "%matplotlib inline\n",
    "color_bar=['maroon','red','sienna','greenyellow','lime','green','aqua','dodgerblue','mediumblue','slateblue','darkorchid','purple']\n",
    "\"\"\"\n",
    "plot the results\n",
    "\"\"\"\n",
    "plot_results(results_l2)"
   ]
  },
  {
   "cell_type": "markdown",
   "metadata": {},
   "source": [
    "## Regularizer:l1_l2"
   ]
  },
  {
   "cell_type": "code",
   "execution_count": null,
   "metadata": {
    "collapsed": true,
    "scrolled": true
   },
   "outputs": [],
   "source": [
    "results_l1l2 = {}\n",
    "\"\"\"\n",
    "Set your training loop\n",
    "\"\"\"\n",
    "for reg_ratio,drp_rate,batch_size in itertools.product(REG_RATIO,DRP_RATE,BATCH_SIZE):   \n",
    "    print(f\"Current regularizer: {reg}, reg_ratio: {reg_ratio}\")\n",
    "    model = build_mlp(input_shape=x_train.shape, regularizer='l1_l2', reg_ratio = reg_ratio,drp_rate=drp_rate)\n",
    "    optimizer = SGD(lr=LEARNING_RATE,nesterov=True, momentum=MOMENTUM)\n",
    "        \n",
    "    model.compile(loss=\"categorical_crossentropy\", metrics=['accuracy'], optimizer=optimizer)\n",
    "    \n",
    "    model.fit(x_train,y_train,\n",
    "              epochs=EPOCHS,\n",
    "              batch_size=batch_size,\n",
    "              validation_data=(x_test,y_test),\n",
    "              shuffle=True)\n",
    "       \n",
    "    #collect results\n",
    "    train_loss=model.history.history['loss']\n",
    "    valid_loss=model.history.history['val_loss']\n",
    "    train_acc =model.history.history['acc']\n",
    "    valid_acc =model.history.history['val_acc']\n",
    "    \n",
    "    # create result dictionary\n",
    "    exp_name_tag = 'exp_l1l2%s'%str(reg_ratio)+str('_drp')+str(drp_rate)+str('_batch')+str(batch_size)\n",
    "    \n",
    "    results_l1l2[exp_name_tag]={'train_loss':train_loss,\n",
    "                                'valid_loss':valid_loss,\n",
    "                                'train_acc':train_acc,\n",
    "                                'valid_acc':valid_acc}"
   ]
  },
  {
   "cell_type": "code",
   "execution_count": null,
   "metadata": {
    "collapsed": true
   },
   "outputs": [],
   "source": [
    "import matplotlib.pyplot as plt\n",
    "%matplotlib inline\n",
    "color_bar=['maroon','red','sienna','greenyellow','lime','green','aqua','dodgerblue','mediumblue','slateblue','darkorchid','purple']\n",
    "\"\"\"\n",
    "plot the results\n",
    "\"\"\"\n",
    "plot_results(results_l1l2)"
   ]
  }
 ],
 "metadata": {
  "kernelspec": {
   "display_name": "Python 3",
   "language": "python",
   "name": "python3"
  },
  "language_info": {
   "codemirror_mode": {
    "name": "ipython",
    "version": 3
   },
   "file_extension": ".py",
   "mimetype": "text/x-python",
   "name": "python",
   "nbconvert_exporter": "python",
   "pygments_lexer": "ipython3",
   "version": "3.7.1"
  }
 },
 "nbformat": 4,
 "nbformat_minor": 2
}
