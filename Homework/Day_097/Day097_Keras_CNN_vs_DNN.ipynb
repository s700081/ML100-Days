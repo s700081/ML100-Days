{
 "cells": [
  {
   "cell_type": "code",
   "execution_count": 0,
   "metadata": {
    "colab": {
     "base_uri": "https://localhost:8080/",
     "height": 34
    },
    "colab_type": "code",
    "executionInfo": {
     "elapsed": 2026,
     "status": "ok",
     "timestamp": 1555143015414,
     "user": {
      "displayName": "楊傑",
      "photoUrl": "",
      "userId": "07428092554711625917"
     },
     "user_tz": -480
    },
    "id": "Ns8wAIz7s65n",
    "outputId": "8f211219-01ae-4b1f-9fbd-6bbd7a02edf4"
   },
   "outputs": [
    {
     "name": "stderr",
     "output_type": "stream",
     "text": [
      "Using TensorFlow backend.\n"
     ]
    }
   ],
   "source": [
    "import tensorflow as tf\n",
    "from keras import backend as K\n",
    "num_cores = 4\n",
    "config = tf.ConfigProto(intra_op_parallelism_threads=num_cores,\n",
    "                        inter_op_parallelism_threads=num_cores, \n",
    "                        allow_soft_placement=True,\n",
    "                        device_count = {'CPU' : 1,\n",
    "                                        'GPU' : 1}\n",
    "                       )\n",
    "\n",
    "session = tf.Session(config=config)\n",
    "K.set_session(session)"
   ]
  },
  {
   "cell_type": "code",
   "execution_count": 0,
   "metadata": {
    "colab": {},
    "colab_type": "code",
    "id": "z1QpIGO8s65q"
   },
   "outputs": [],
   "source": [
    "import keras\n",
    "from keras.datasets import cifar10\n",
    "from keras.preprocessing.image import ImageDataGenerator\n",
    "from keras.models import Sequential\n",
    "from keras.layers import Dense, Dropout, Activation, Flatten\n",
    "from keras.layers import Conv2D, MaxPooling2D\n",
    "from keras.optimizers import RMSprop, Adam\n",
    "import os"
   ]
  },
  {
   "cell_type": "code",
   "execution_count": 0,
   "metadata": {
    "colab": {
     "base_uri": "https://localhost:8080/",
     "height": 67
    },
    "colab_type": "code",
    "executionInfo": {
     "elapsed": 2291,
     "status": "ok",
     "timestamp": 1555143015700,
     "user": {
      "displayName": "楊傑",
      "photoUrl": "",
      "userId": "07428092554711625917"
     },
     "user_tz": -480
    },
    "id": "iVVZfh4hs65u",
    "outputId": "2773479e-915e-407c-e879-4259a96302a4"
   },
   "outputs": [
    {
     "name": "stdout",
     "output_type": "stream",
     "text": [
      "x_train shape: (50000, 32, 32, 3)\n",
      "50000 train samples\n",
      "10000 test samples\n"
     ]
    }
   ],
   "source": [
    "batch_size = 128 # batch 的大小，如果出現 OOM error，請降低這個值\n",
    "num_classes = 10 # 類別的數量，Cifar 10 共有 10 個類別\n",
    "epochs = 10 # 訓練的 epochs 數量\n",
    "\n",
    "# 讀取資料並檢視\n",
    "(x_train, y_train), (x_test, y_test) = cifar10.load_data()\n",
    "print('x_train shape:', x_train.shape)\n",
    "print(x_train.shape[0], 'train samples')\n",
    "print(x_test.shape[0], 'test samples')\n",
    "\n",
    "# 對 label 進行 one-hot encoding (y_trian 原本是純數字)\n",
    "y_train = keras.utils.to_categorical(y_train, num_classes)\n",
    "y_test = keras.utils.to_categorical(y_test, num_classes)"
   ]
  },
  {
   "cell_type": "markdown",
   "metadata": {
    "colab_type": "text",
    "id": "n6LhAWMfs65x"
   },
   "source": [
    "## 首先我們使用一般的 DNN (MLP) 來訓練\n",
    "由於 DNN 只能輸入一維的資料，我們要先將影像進行攤平，若 (50000, 32, 32, 3) 的影像，攤平後會變成 (50000, 32*32*3) = (50000, 3072)"
   ]
  },
  {
   "cell_type": "code",
   "execution_count": 0,
   "metadata": {
    "colab": {
     "base_uri": "https://localhost:8080/",
     "height": 50
    },
    "colab_type": "code",
    "executionInfo": {
     "elapsed": 88186,
     "status": "ok",
     "timestamp": 1555143101617,
     "user": {
      "displayName": "楊傑",
      "photoUrl": "",
      "userId": "07428092554711625917"
     },
     "user_tz": -480
    },
    "id": "iuYjAEfes65y",
    "outputId": "4a26595f-353e-4d4c-c48d-e63a31ce10c8"
   },
   "outputs": [
    {
     "name": "stdout",
     "output_type": "stream",
     "text": [
      "50000 train samples\n",
      "10000 test samples\n"
     ]
    }
   ],
   "source": [
    "# 將資料攤平成一維資料\n",
    "x_train = x_train.reshape(50000, 3072) \n",
    "x_test = x_test.reshape(10000, 3072)\n",
    "\n",
    "# 將資料變為 float32 並標準化\n",
    "x_train = x_train.astype('float32')\n",
    "x_test = x_test.astype('float32')\n",
    "x_train /= 255\n",
    "x_test /= 255\n",
    "print(x_train.shape[0], 'train samples')\n",
    "print(x_test.shape[0], 'test samples')"
   ]
  },
  {
   "cell_type": "code",
   "execution_count": 0,
   "metadata": {
    "colab": {
     "base_uri": "https://localhost:8080/",
     "height": 860
    },
    "colab_type": "code",
    "executionInfo": {
     "elapsed": 88170,
     "status": "ok",
     "timestamp": 1555143101621,
     "user": {
      "displayName": "楊傑",
      "photoUrl": "",
      "userId": "07428092554711625917"
     },
     "user_tz": -480
    },
    "id": "R_vT6SOls651",
    "outputId": "7c6d51b5-1d5c-48ad-e7c4-9ac5c3c94fbc"
   },
   "outputs": [
    {
     "name": "stdout",
     "output_type": "stream",
     "text": [
      "WARNING:tensorflow:From c:\\python36\\lib\\site-packages\\tensorflow\\python\\framework\\op_def_library.py:263: colocate_with (from tensorflow.python.framework.ops) is deprecated and will be removed in a future version.\n",
      "Instructions for updating:\n",
      "Colocations handled automatically by placer.\n",
      "WARNING:tensorflow:From c:\\python36\\lib\\site-packages\\keras\\backend\\tensorflow_backend.py:3445: calling dropout (from tensorflow.python.ops.nn_ops) with keep_prob is deprecated and will be removed in a future version.\n",
      "Instructions for updating:\n",
      "Please use `rate` instead of `keep_prob`. Rate should be set to `rate = 1 - keep_prob`.\n",
      "_________________________________________________________________\n",
      "Layer (type)                 Output Shape              Param #   \n",
      "=================================================================\n",
      "dense_1 (Dense)              (None, 512)               1573376   \n",
      "_________________________________________________________________\n",
      "dropout_1 (Dropout)          (None, 512)               0         \n",
      "_________________________________________________________________\n",
      "dense_2 (Dense)              (None, 512)               262656    \n",
      "_________________________________________________________________\n",
      "dropout_2 (Dropout)          (None, 512)               0         \n",
      "_________________________________________________________________\n",
      "dense_3 (Dense)              (None, 10)                5130      \n",
      "=================================================================\n",
      "Total params: 1,841,162\n",
      "Trainable params: 1,841,162\n",
      "Non-trainable params: 0\n",
      "_________________________________________________________________\n",
      "WARNING:tensorflow:From c:\\python36\\lib\\site-packages\\tensorflow\\python\\ops\\math_ops.py:3066: to_int32 (from tensorflow.python.ops.math_ops) is deprecated and will be removed in a future version.\n",
      "Instructions for updating:\n",
      "Use tf.cast instead.\n",
      "Train on 50000 samples, validate on 10000 samples\n",
      "Epoch 1/10\n",
      "50000/50000 [==============================] - 3s 61us/step - loss: 2.1651 - acc: 0.2482 - val_loss: 1.8382 - val_acc: 0.3173\n",
      "Epoch 2/10\n",
      "50000/50000 [==============================] - 2s 43us/step - loss: 1.8520 - acc: 0.3288 - val_loss: 1.6987 - val_acc: 0.3934\n",
      "Epoch 3/10\n",
      "50000/50000 [==============================] - 2s 43us/step - loss: 1.7799 - acc: 0.3601 - val_loss: 1.6812 - val_acc: 0.3947\n",
      "Epoch 4/10\n",
      "50000/50000 [==============================] - 2s 44us/step - loss: 1.7366 - acc: 0.3765 - val_loss: 1.6452 - val_acc: 0.4055\n",
      "Epoch 5/10\n",
      "50000/50000 [==============================] - 2s 46us/step - loss: 1.7051 - acc: 0.3872 - val_loss: 1.6149 - val_acc: 0.4336\n",
      "Epoch 6/10\n",
      "50000/50000 [==============================] - 2s 44us/step - loss: 1.6798 - acc: 0.3963 - val_loss: 1.6547 - val_acc: 0.4149\n",
      "Epoch 7/10\n",
      "50000/50000 [==============================] - 2s 44us/step - loss: 1.6611 - acc: 0.4027 - val_loss: 1.5958 - val_acc: 0.4455\n",
      "Epoch 8/10\n",
      "50000/50000 [==============================] - 2s 50us/step - loss: 1.6466 - acc: 0.4088 - val_loss: 1.6072 - val_acc: 0.4500\n",
      "Epoch 9/10\n",
      "50000/50000 [==============================] - 2s 45us/step - loss: 1.6318 - acc: 0.4142 - val_loss: 1.6050 - val_acc: 0.4253\n",
      "Epoch 10/10\n",
      "50000/50000 [==============================] - 2s 45us/step - loss: 1.6264 - acc: 0.4171 - val_loss: 1.5522 - val_acc: 0.4560\n",
      "Test loss: 1.5521503200531006\n",
      "Test accuracy: 0.456\n"
     ]
    }
   ],
   "source": [
    "model = Sequential()\n",
    "model.add(Dense(512, activation='relu', input_shape=(3072,)))\n",
    "model.add(Dropout(0.2))\n",
    "model.add(Dense(512, activation='relu'))\n",
    "model.add(Dropout(0.2))\n",
    "model.add(Dense(num_classes, activation='softmax'))\n",
    "\n",
    "model.summary()\n",
    "\n",
    "model.compile(loss='categorical_crossentropy',\n",
    "              optimizer=RMSprop(),\n",
    "              metrics=['accuracy'])\n",
    "\n",
    "history = model.fit(x_train, y_train,\n",
    "                    batch_size=batch_size,\n",
    "                    epochs=epochs,\n",
    "                    verbose=1,\n",
    "                    validation_data=(x_test, y_test))\n",
    "score = model.evaluate(x_test, y_test, verbose=0)\n",
    "print('Test loss:', score[0])\n",
    "print('Test accuracy:', score[1])"
   ]
  },
  {
   "cell_type": "markdown",
   "metadata": {
    "colab_type": "text",
    "id": "ACVM9aKNs654"
   },
   "source": [
    "## 接下來我們使用 CNN 來訓練神經網路\n",
    "CNN 的原理非常適合處理影像類的資料，就讓我們來看看，同樣的訓練條件，CNN 是否顯著優於 DNN 呢?"
   ]
  },
  {
   "cell_type": "code",
   "execution_count": 0,
   "metadata": {
    "colab": {
     "base_uri": "https://localhost:8080/",
     "height": 67
    },
    "colab_type": "code",
    "executionInfo": {
     "elapsed": 88165,
     "status": "ok",
     "timestamp": 1555143101629,
     "user": {
      "displayName": "楊傑",
      "photoUrl": "",
      "userId": "07428092554711625917"
     },
     "user_tz": -480
    },
    "id": "8cBlQUnfs654",
    "outputId": "fb54495d-7e0b-4a8f-ee12-cb876cb825eb"
   },
   "outputs": [
    {
     "name": "stdout",
     "output_type": "stream",
     "text": [
      "x_train shape: (50000, 32, 32, 3)\n",
      "50000 train samples\n",
      "10000 test samples\n"
     ]
    }
   ],
   "source": [
    "(x_train, y_train), (x_test, y_test) = cifar10.load_data()\n",
    "print('x_train shape:', x_train.shape)\n",
    "print(x_train.shape[0], 'train samples')\n",
    "print(x_test.shape[0], 'test samples')\n",
    "x_train = x_train.astype('float32')\n",
    "x_test = x_test.astype('float32')\n",
    "x_train /= 255\n",
    "x_test /= 255\n",
    "\n",
    "# Convert class vectors to binary class matrices.\n",
    "y_train = keras.utils.to_categorical(y_train, num_classes)\n",
    "y_test = keras.utils.to_categorical(y_test, num_classes)"
   ]
  },
  {
   "cell_type": "code",
   "execution_count": 0,
   "metadata": {
    "colab": {
     "base_uri": "https://localhost:8080/",
     "height": 1126
    },
    "colab_type": "code",
    "executionInfo": {
     "elapsed": 88153,
     "status": "ok",
     "timestamp": 1555143101632,
     "user": {
      "displayName": "楊傑",
      "photoUrl": "",
      "userId": "07428092554711625917"
     },
     "user_tz": -480
    },
    "id": "7q4OC7Wos657",
    "outputId": "7bec362d-b888-4dd8-d153-e5fa35c8e0fa"
   },
   "outputs": [
    {
     "name": "stdout",
     "output_type": "stream",
     "text": [
      "_________________________________________________________________\n",
      "Layer (type)                 Output Shape              Param #   \n",
      "=================================================================\n",
      "conv2d_1 (Conv2D)            (None, 32, 32, 32)        896       \n",
      "_________________________________________________________________\n",
      "activation_1 (Activation)    (None, 32, 32, 32)        0         \n",
      "_________________________________________________________________\n",
      "conv2d_2 (Conv2D)            (None, 30, 30, 32)        9248      \n",
      "_________________________________________________________________\n",
      "activation_2 (Activation)    (None, 30, 30, 32)        0         \n",
      "_________________________________________________________________\n",
      "max_pooling2d_1 (MaxPooling2 (None, 15, 15, 32)        0         \n",
      "_________________________________________________________________\n",
      "dropout_3 (Dropout)          (None, 15, 15, 32)        0         \n",
      "_________________________________________________________________\n",
      "conv2d_3 (Conv2D)            (None, 15, 15, 64)        18496     \n",
      "_________________________________________________________________\n",
      "activation_3 (Activation)    (None, 15, 15, 64)        0         \n",
      "_________________________________________________________________\n",
      "conv2d_4 (Conv2D)            (None, 13, 13, 64)        36928     \n",
      "_________________________________________________________________\n",
      "activation_4 (Activation)    (None, 13, 13, 64)        0         \n",
      "_________________________________________________________________\n",
      "max_pooling2d_2 (MaxPooling2 (None, 6, 6, 64)          0         \n",
      "_________________________________________________________________\n",
      "dropout_4 (Dropout)          (None, 6, 6, 64)          0         \n",
      "_________________________________________________________________\n",
      "flatten_1 (Flatten)          (None, 2304)              0         \n",
      "_________________________________________________________________\n",
      "dense_4 (Dense)              (None, 512)               1180160   \n",
      "_________________________________________________________________\n",
      "activation_5 (Activation)    (None, 512)               0         \n",
      "_________________________________________________________________\n",
      "dropout_5 (Dropout)          (None, 512)               0         \n",
      "_________________________________________________________________\n",
      "dense_5 (Dense)              (None, 10)                5130      \n",
      "_________________________________________________________________\n",
      "activation_6 (Activation)    (None, 10)                0         \n",
      "=================================================================\n",
      "Total params: 1,250,858\n",
      "Trainable params: 1,250,858\n",
      "Non-trainable params: 0\n",
      "_________________________________________________________________\n",
      "Train on 50000 samples, validate on 10000 samples\n",
      "Epoch 1/10\n",
      "50000/50000 [==============================] - 8s 160us/step - loss: 1.7461 - acc: 0.3674 - val_loss: 1.4723 - val_acc: 0.4777\n",
      "Epoch 2/10\n",
      "50000/50000 [==============================] - 6s 113us/step - loss: 1.3007 - acc: 0.5408 - val_loss: 1.0450 - val_acc: 0.6242\n",
      "Epoch 3/10\n",
      "50000/50000 [==============================] - 6s 113us/step - loss: 1.0859 - acc: 0.6181 - val_loss: 1.0047 - val_acc: 0.6441\n",
      "Epoch 4/10\n",
      "50000/50000 [==============================] - 6s 113us/step - loss: 0.9538 - acc: 0.6677 - val_loss: 0.8645 - val_acc: 0.7013\n",
      "Epoch 5/10\n",
      "50000/50000 [==============================] - 6s 113us/step - loss: 0.8619 - acc: 0.7002 - val_loss: 0.7991 - val_acc: 0.7232\n",
      "Epoch 6/10\n",
      "50000/50000 [==============================] - 6s 113us/step - loss: 0.7983 - acc: 0.7214 - val_loss: 0.8364 - val_acc: 0.7068\n",
      "Epoch 7/10\n",
      "50000/50000 [==============================] - 6s 113us/step - loss: 0.7525 - acc: 0.7381 - val_loss: 0.7538 - val_acc: 0.7476\n",
      "Epoch 8/10\n",
      "50000/50000 [==============================] - 6s 114us/step - loss: 0.7105 - acc: 0.7537 - val_loss: 0.7915 - val_acc: 0.7351\n",
      "Epoch 9/10\n",
      "50000/50000 [==============================] - 6s 115us/step - loss: 0.6834 - acc: 0.7623 - val_loss: 0.7532 - val_acc: 0.7407\n",
      "Epoch 10/10\n",
      "50000/50000 [==============================] - 6s 114us/step - loss: 0.6588 - acc: 0.7726 - val_loss: 0.6492 - val_acc: 0.7776\n",
      "Test loss: 0.6492186532020569\n",
      "Test accuracy: 0.7776\n"
     ]
    }
   ],
   "source": [
    "model = Sequential()\n",
    "model.add(Conv2D(32, (3, 3), padding='same',\n",
    "                 input_shape=x_train.shape[1:]))\n",
    "model.add(Activation('relu'))\n",
    "model.add(Conv2D(32, (3, 3)))\n",
    "model.add(Activation('relu'))\n",
    "model.add(MaxPooling2D(pool_size=(2, 2)))\n",
    "model.add(Dropout(0.25))\n",
    "\n",
    "model.add(Conv2D(64, (3, 3), padding='same'))\n",
    "model.add(Activation('relu'))\n",
    "model.add(Conv2D(64, (3, 3)))\n",
    "model.add(Activation('relu'))\n",
    "model.add(MaxPooling2D(pool_size=(2, 2)))\n",
    "model.add(Dropout(0.25))\n",
    "\n",
    "model.add(Flatten())\n",
    "model.add(Dense(512))\n",
    "model.add(Activation('relu'))\n",
    "model.add(Dropout(0.5))\n",
    "model.add(Dense(num_classes))\n",
    "model.add(Activation('softmax'))\n",
    "model.summary()\n",
    "\n",
    "model.compile(loss='categorical_crossentropy',\n",
    "              optimizer=RMSprop(),\n",
    "              metrics=['accuracy'])\n",
    "\n",
    "history = model.fit(x_train, y_train,\n",
    "                    batch_size=batch_size,\n",
    "                    epochs=epochs,\n",
    "                    verbose=1,\n",
    "                    validation_data=(x_test, y_test))\n",
    "score = model.evaluate(x_test, y_test, verbose=0)\n",
    "print('Test loss:', score[0])\n",
    "print('Test accuracy:', score[1])"
   ]
  },
  {
   "cell_type": "code",
   "execution_count": 0,
   "metadata": {
    "colab": {},
    "colab_type": "code",
    "id": "VBAqgyRFs66A"
   },
   "outputs": [],
   "source": [
    "def train_cnn(kern_dep=[32,64], kern_size= 3, pad_conv='same', stride_conv=1, pool_size=2, \n",
    "              pad_pool='valid', data_format='channels_last', drp_last=0.5, neuron_n_last=512, batch_size=128, epochs=10):\n",
    "    model = Sequential()\n",
    "    model.add(Conv2D(kern_dep[0], (kern_size, kern_size), padding=pad_conv, strides=stride_conv,\n",
    "                     input_shape=x_train.shape[1:]))\n",
    "    model.add(Activation('relu'))\n",
    "    model.add(Conv2D(kern_dep[0], (kern_size, kern_size)))\n",
    "    model.add(Activation('relu'))\n",
    "    model.add(MaxPooling2D(pool_size=(pool_size, pool_size), padding=pad_pool,data_format=data_format))\n",
    "    model.add(Dropout(0.25))\n",
    "\n",
    "    model.add(Conv2D(kern_dep[0], (kern_size, kern_size), padding=pad_conv, strides=stride_conv))\n",
    "    model.add(Activation('relu'))\n",
    "    model.add(Conv2D(64, (kern_size, kern_size)))\n",
    "    model.add(Activation('relu'))\n",
    "    model.add(MaxPooling2D(pool_size=(pool_size, pool_size), padding=pad_pool, data_format=data_format))\n",
    "    model.add(Dropout(0.25))\n",
    "\n",
    "    model.add(Flatten())\n",
    "    model.add(Dense(neuron_n_last))\n",
    "    model.add(Activation('relu'))\n",
    "    model.add(Dropout(drp_last))\n",
    "    model.add(Dense(num_classes))\n",
    "    model.add(Activation('softmax'))\n",
    "    model.summary()\n",
    "\n",
    "    model.compile(loss='categorical_crossentropy',\n",
    "                  optimizer=RMSprop(),\n",
    "                  metrics=['accuracy'])\n",
    "\n",
    "    history = model.fit(x_train, y_train,\n",
    "                        batch_size=batch_size,\n",
    "                        epochs=epochs,\n",
    "                        verbose=1,\n",
    "                        validation_data=(x_test, y_test))\n",
    "    score = model.evaluate(x_test, y_test, verbose=0)\n",
    "    print('Test loss:', score[0])\n",
    "    print('Test accuracy:', score[1])"
   ]
  },
  {
   "cell_type": "markdown",
   "metadata": {
    "colab_type": "text",
    "id": "jrYoQ72Fs66D"
   },
   "source": [
    "## 同樣運算 10 個 epochs，但 CNN 在 test data 的準確率顯著優於 DNN!"
   ]
  },
  {
   "cell_type": "markdown",
   "metadata": {
    "colab_type": "text",
    "id": "IlNpz8mes66D"
   },
   "source": [
    "## 作業\n",
    "1. 請試著調整各個超參數，並說明那些超參數對於結果有明顯的影響?\n",
    "\n",
    "題目: 0.7776\n",
    "\n",
    "修改以下個超參數: pool_size及convolution的strides影響最大\n",
    "\n",
    "卷積層(Convolution)的超參數(Hyper parameter )\n",
    "* 內核⼤⼩(filter 的Kernel size)\n",
    "    * kernel size 3x3 -> 5x5 ==> 0.7401\n",
    "* 深度(Depth, Kernel/filter的總數)\n",
    "    * 第一二, 三四層的kernel Depth (32,64)->(64,128)==> 0.7608\n",
    "* 填充(Padding)\n",
    "    * Padding 'valid' ->'same' ==> 0.7471\n",
    "* 選框每次移動的步數(Stride)\n",
    "    * Stride 1(default) ->2 ==> 0.6482\n",
    "\n",
    "池化層(Pooling)的超參數\n",
    "* pool_size: 沿（垂直，⽔平）⽅向縮⼩比例的因數\n",
    "    * pool_size (2,2) -> (3,3) ==> 0.6933\n",
    "* strides: 步長值。如果是 None，那麼默認值是 pool_size\n",
    "    * 不設置，隨pool_size 2->3\n",
    "* padding: \"valid\"或\"same\"\n",
    "    * Padding 'valid' ->'same' ==> 0.7433\n",
    "* data_format: channels_last或channels_first\n",
    "    * data_format 'channels_last' ->'channels_first' ==> 0.7222\n",
    "    \n",
    "Dropout layer的超參數\n",
    "* dropout rate\n",
    "    * 最後一個全連階層前之Dropout layer的dropout rate 0.5 -> 0.25 ==> 0.7657\n",
    "    \n",
    "全連接層(fully-conneced)的超參數\n",
    "* neuron number\n",
    "    * 最後一個全連階層的neuron number 512 ->1024 ==> 0.7497\n",
    "其他超參數\n",
    "* batch_size\n",
    "    * batch_size 128 -> 256 ==> 0.733\n",
    "* epochs\n",
    "    * epochs 10 -> 20 ==> 0.776\n",
    "\n",
    "\n",
    "2. CNN 與 DNN 哪個模型的參數數量比較多? 造成參數的數量不同的原因在哪?\n",
    "\n",
    "DNN 的參數數量比較多，因為CNN可藉由pooling layer降低資料維度"
   ]
  },
  {
   "cell_type": "markdown",
   "metadata": {
    "colab_type": "text",
    "id": "eh2MkoWgs66E"
   },
   "source": [
    "#### 卷積層kernel size 3x3 -> 5x5"
   ]
  },
  {
   "cell_type": "code",
   "execution_count": 0,
   "metadata": {
    "colab": {
     "base_uri": "https://localhost:8080/",
     "height": 1126
    },
    "colab_type": "code",
    "executionInfo": {
     "elapsed": 775024,
     "status": "ok",
     "timestamp": 1555143788521,
     "user": {
      "displayName": "楊傑",
      "photoUrl": "",
      "userId": "07428092554711625917"
     },
     "user_tz": -480
    },
    "id": "_DdGupu9s66F",
    "outputId": "440142f6-77cc-4a86-a786-e53417ec8ce2"
   },
   "outputs": [
    {
     "name": "stdout",
     "output_type": "stream",
     "text": [
      "_________________________________________________________________\n",
      "Layer (type)                 Output Shape              Param #   \n",
      "=================================================================\n",
      "conv2d_5 (Conv2D)            (None, 32, 32, 32)        2432      \n",
      "_________________________________________________________________\n",
      "activation_7 (Activation)    (None, 32, 32, 32)        0         \n",
      "_________________________________________________________________\n",
      "conv2d_6 (Conv2D)            (None, 28, 28, 32)        25632     \n",
      "_________________________________________________________________\n",
      "activation_8 (Activation)    (None, 28, 28, 32)        0         \n",
      "_________________________________________________________________\n",
      "max_pooling2d_3 (MaxPooling2 (None, 14, 14, 32)        0         \n",
      "_________________________________________________________________\n",
      "dropout_6 (Dropout)          (None, 14, 14, 32)        0         \n",
      "_________________________________________________________________\n",
      "conv2d_7 (Conv2D)            (None, 14, 14, 32)        25632     \n",
      "_________________________________________________________________\n",
      "activation_9 (Activation)    (None, 14, 14, 32)        0         \n",
      "_________________________________________________________________\n",
      "conv2d_8 (Conv2D)            (None, 10, 10, 64)        51264     \n",
      "_________________________________________________________________\n",
      "activation_10 (Activation)   (None, 10, 10, 64)        0         \n",
      "_________________________________________________________________\n",
      "max_pooling2d_4 (MaxPooling2 (None, 5, 5, 64)          0         \n",
      "_________________________________________________________________\n",
      "dropout_7 (Dropout)          (None, 5, 5, 64)          0         \n",
      "_________________________________________________________________\n",
      "flatten_2 (Flatten)          (None, 1600)              0         \n",
      "_________________________________________________________________\n",
      "dense_6 (Dense)              (None, 512)               819712    \n",
      "_________________________________________________________________\n",
      "activation_11 (Activation)   (None, 512)               0         \n",
      "_________________________________________________________________\n",
      "dropout_8 (Dropout)          (None, 512)               0         \n",
      "_________________________________________________________________\n",
      "dense_7 (Dense)              (None, 10)                5130      \n",
      "_________________________________________________________________\n",
      "activation_12 (Activation)   (None, 10)                0         \n",
      "=================================================================\n",
      "Total params: 929,802\n",
      "Trainable params: 929,802\n",
      "Non-trainable params: 0\n",
      "_________________________________________________________________\n",
      "Train on 50000 samples, validate on 10000 samples\n",
      "Epoch 1/10\n",
      "50000/50000 [==============================] - 7s 132us/step - loss: 1.9324 - acc: 0.3038 - val_loss: 1.5302 - val_acc: 0.4429\n",
      "Epoch 2/10\n",
      "50000/50000 [==============================] - 6s 117us/step - loss: 1.4435 - acc: 0.4875 - val_loss: 1.2613 - val_acc: 0.5548\n",
      "Epoch 3/10\n",
      "50000/50000 [==============================] - 6s 117us/step - loss: 1.2221 - acc: 0.5715 - val_loss: 1.0937 - val_acc: 0.6173\n",
      "Epoch 4/10\n",
      "50000/50000 [==============================] - 6s 118us/step - loss: 1.0729 - acc: 0.6253 - val_loss: 1.0851 - val_acc: 0.6163\n",
      "Epoch 5/10\n",
      "50000/50000 [==============================] - 6s 118us/step - loss: 0.9825 - acc: 0.6569 - val_loss: 0.9450 - val_acc: 0.6743\n",
      "Epoch 6/10\n",
      "50000/50000 [==============================] - 6s 117us/step - loss: 0.9058 - acc: 0.6852 - val_loss: 0.9299 - val_acc: 0.6893\n",
      "Epoch 7/10\n",
      "50000/50000 [==============================] - 6s 118us/step - loss: 0.8524 - acc: 0.7040 - val_loss: 0.8431 - val_acc: 0.7158\n",
      "Epoch 8/10\n",
      "50000/50000 [==============================] - 6s 121us/step - loss: 0.8121 - acc: 0.7201 - val_loss: 0.8388 - val_acc: 0.7153\n",
      "Epoch 9/10\n",
      "50000/50000 [==============================] - 6s 121us/step - loss: 0.7871 - acc: 0.7276 - val_loss: 1.3038 - val_acc: 0.6190\n",
      "Epoch 10/10\n",
      "50000/50000 [==============================] - 6s 121us/step - loss: 0.7582 - acc: 0.7394 - val_loss: 0.7912 - val_acc: 0.7402\n",
      "Test loss: 0.7911819622993469\n",
      "Test accuracy: 0.7401\n"
     ]
    }
   ],
   "source": [
    "train_cnn(kern_size= 5)"
   ]
  },
  {
   "cell_type": "markdown",
   "metadata": {
    "colab_type": "text",
    "id": "4_UWFnmKs66H"
   },
   "source": [
    "#### 卷積層第一二, 三四層的kernel Depth (32,64)->(64,128)"
   ]
  },
  {
   "cell_type": "code",
   "execution_count": 0,
   "metadata": {
    "colab": {
     "base_uri": "https://localhost:8080/",
     "height": 1126
    },
    "colab_type": "code",
    "executionInfo": {
     "elapsed": 775032,
     "status": "ok",
     "timestamp": 1555143788532,
     "user": {
      "displayName": "楊傑",
      "photoUrl": "",
      "userId": "07428092554711625917"
     },
     "user_tz": -480
    },
    "id": "zrFPfQDKs66I",
    "outputId": "f9b68ad7-06fa-47bf-fab0-c99d4cc6d5cb"
   },
   "outputs": [
    {
     "name": "stdout",
     "output_type": "stream",
     "text": [
      "_________________________________________________________________\n",
      "Layer (type)                 Output Shape              Param #   \n",
      "=================================================================\n",
      "conv2d_9 (Conv2D)            (None, 32, 32, 64)        1792      \n",
      "_________________________________________________________________\n",
      "activation_13 (Activation)   (None, 32, 32, 64)        0         \n",
      "_________________________________________________________________\n",
      "conv2d_10 (Conv2D)           (None, 30, 30, 64)        36928     \n",
      "_________________________________________________________________\n",
      "activation_14 (Activation)   (None, 30, 30, 64)        0         \n",
      "_________________________________________________________________\n",
      "max_pooling2d_5 (MaxPooling2 (None, 15, 15, 64)        0         \n",
      "_________________________________________________________________\n",
      "dropout_9 (Dropout)          (None, 15, 15, 64)        0         \n",
      "_________________________________________________________________\n",
      "conv2d_11 (Conv2D)           (None, 15, 15, 64)        36928     \n",
      "_________________________________________________________________\n",
      "activation_15 (Activation)   (None, 15, 15, 64)        0         \n",
      "_________________________________________________________________\n",
      "conv2d_12 (Conv2D)           (None, 13, 13, 64)        36928     \n",
      "_________________________________________________________________\n",
      "activation_16 (Activation)   (None, 13, 13, 64)        0         \n",
      "_________________________________________________________________\n",
      "max_pooling2d_6 (MaxPooling2 (None, 6, 6, 64)          0         \n",
      "_________________________________________________________________\n",
      "dropout_10 (Dropout)         (None, 6, 6, 64)          0         \n",
      "_________________________________________________________________\n",
      "flatten_3 (Flatten)          (None, 2304)              0         \n",
      "_________________________________________________________________\n",
      "dense_8 (Dense)              (None, 512)               1180160   \n",
      "_________________________________________________________________\n",
      "activation_17 (Activation)   (None, 512)               0         \n",
      "_________________________________________________________________\n",
      "dropout_11 (Dropout)         (None, 512)               0         \n",
      "_________________________________________________________________\n",
      "dense_9 (Dense)              (None, 10)                5130      \n",
      "_________________________________________________________________\n",
      "activation_18 (Activation)   (None, 10)                0         \n",
      "=================================================================\n",
      "Total params: 1,297,866\n",
      "Trainable params: 1,297,866\n",
      "Non-trainable params: 0\n",
      "_________________________________________________________________\n",
      "Train on 50000 samples, validate on 10000 samples\n",
      "Epoch 1/10\n",
      "50000/50000 [==============================] - 9s 173us/step - loss: 1.7588 - acc: 0.3631 - val_loss: 1.3671 - val_acc: 0.5000\n",
      "Epoch 2/10\n",
      "50000/50000 [==============================] - 8s 156us/step - loss: 1.2930 - acc: 0.5446 - val_loss: 1.0917 - val_acc: 0.6127\n",
      "Epoch 3/10\n",
      "50000/50000 [==============================] - 8s 155us/step - loss: 1.0676 - acc: 0.6255 - val_loss: 0.9328 - val_acc: 0.6722\n",
      "Epoch 4/10\n",
      "50000/50000 [==============================] - 8s 155us/step - loss: 0.9276 - acc: 0.6764 - val_loss: 0.8698 - val_acc: 0.7019\n",
      "Epoch 5/10\n",
      "50000/50000 [==============================] - 8s 155us/step - loss: 0.8309 - acc: 0.7097 - val_loss: 0.8019 - val_acc: 0.7221\n",
      "Epoch 6/10\n",
      "50000/50000 [==============================] - 8s 155us/step - loss: 0.7678 - acc: 0.7343 - val_loss: 0.8415 - val_acc: 0.7055\n",
      "Epoch 7/10\n",
      "50000/50000 [==============================] - 8s 155us/step - loss: 0.7142 - acc: 0.7519 - val_loss: 0.7131 - val_acc: 0.7579\n",
      "Epoch 8/10\n",
      "50000/50000 [==============================] - 8s 158us/step - loss: 0.6719 - acc: 0.7669 - val_loss: 0.7464 - val_acc: 0.7448\n",
      "Epoch 9/10\n",
      "50000/50000 [==============================] - 8s 162us/step - loss: 0.6362 - acc: 0.7784 - val_loss: 0.6547 - val_acc: 0.7793\n",
      "Epoch 10/10\n",
      "50000/50000 [==============================] - 8s 154us/step - loss: 0.6204 - acc: 0.7866 - val_loss: 0.7149 - val_acc: 0.7608\n",
      "Test loss: 0.7149218235969543\n",
      "Test accuracy: 0.7608\n"
     ]
    }
   ],
   "source": [
    "train_cnn(kern_dep=[64,128])"
   ]
  },
  {
   "cell_type": "markdown",
   "metadata": {
    "colab_type": "text",
    "id": "2hWb8upVs66K"
   },
   "source": [
    "#### 卷積層Padding 'same' ->'valid'"
   ]
  },
  {
   "cell_type": "code",
   "execution_count": 0,
   "metadata": {
    "colab": {
     "base_uri": "https://localhost:8080/",
     "height": 1126
    },
    "colab_type": "code",
    "executionInfo": {
     "elapsed": 775037,
     "status": "ok",
     "timestamp": 1555143788539,
     "user": {
      "displayName": "楊傑",
      "photoUrl": "",
      "userId": "07428092554711625917"
     },
     "user_tz": -480
    },
    "id": "xBPwxKeOs66L",
    "outputId": "b52bb62f-7778-4ca0-d028-19031d73e182"
   },
   "outputs": [
    {
     "name": "stdout",
     "output_type": "stream",
     "text": [
      "_________________________________________________________________\n",
      "Layer (type)                 Output Shape              Param #   \n",
      "=================================================================\n",
      "conv2d_13 (Conv2D)           (None, 30, 30, 32)        896       \n",
      "_________________________________________________________________\n",
      "activation_19 (Activation)   (None, 30, 30, 32)        0         \n",
      "_________________________________________________________________\n",
      "conv2d_14 (Conv2D)           (None, 28, 28, 32)        9248      \n",
      "_________________________________________________________________\n",
      "activation_20 (Activation)   (None, 28, 28, 32)        0         \n",
      "_________________________________________________________________\n",
      "max_pooling2d_7 (MaxPooling2 (None, 14, 14, 32)        0         \n",
      "_________________________________________________________________\n",
      "dropout_12 (Dropout)         (None, 14, 14, 32)        0         \n",
      "_________________________________________________________________\n",
      "conv2d_15 (Conv2D)           (None, 12, 12, 32)        9248      \n",
      "_________________________________________________________________\n",
      "activation_21 (Activation)   (None, 12, 12, 32)        0         \n",
      "_________________________________________________________________\n",
      "conv2d_16 (Conv2D)           (None, 10, 10, 64)        18496     \n",
      "_________________________________________________________________\n",
      "activation_22 (Activation)   (None, 10, 10, 64)        0         \n",
      "_________________________________________________________________\n",
      "max_pooling2d_8 (MaxPooling2 (None, 5, 5, 64)          0         \n",
      "_________________________________________________________________\n",
      "dropout_13 (Dropout)         (None, 5, 5, 64)          0         \n",
      "_________________________________________________________________\n",
      "flatten_4 (Flatten)          (None, 1600)              0         \n",
      "_________________________________________________________________\n",
      "dense_10 (Dense)             (None, 512)               819712    \n",
      "_________________________________________________________________\n",
      "activation_23 (Activation)   (None, 512)               0         \n",
      "_________________________________________________________________\n",
      "dropout_14 (Dropout)         (None, 512)               0         \n",
      "_________________________________________________________________\n",
      "dense_11 (Dense)             (None, 10)                5130      \n",
      "_________________________________________________________________\n",
      "activation_24 (Activation)   (None, 10)                0         \n",
      "=================================================================\n",
      "Total params: 862,730\n",
      "Trainable params: 862,730\n",
      "Non-trainable params: 0\n",
      "_________________________________________________________________\n",
      "Train on 50000 samples, validate on 10000 samples\n",
      "Epoch 1/10\n",
      "50000/50000 [==============================] - 6s 116us/step - loss: 1.7713 - acc: 0.3529 - val_loss: 1.5001 - val_acc: 0.4631\n",
      "Epoch 2/10\n",
      "50000/50000 [==============================] - 5s 98us/step - loss: 1.4017 - acc: 0.4985 - val_loss: 1.3454 - val_acc: 0.5296\n",
      "Epoch 3/10\n",
      "50000/50000 [==============================] - 5s 98us/step - loss: 1.2303 - acc: 0.5648 - val_loss: 1.1266 - val_acc: 0.6053\n",
      "Epoch 4/10\n",
      "50000/50000 [==============================] - 5s 99us/step - loss: 1.1114 - acc: 0.6059 - val_loss: 1.0239 - val_acc: 0.6308\n",
      "Epoch 5/10\n",
      "50000/50000 [==============================] - 5s 98us/step - loss: 1.0294 - acc: 0.6363 - val_loss: 0.9411 - val_acc: 0.6680\n",
      "Epoch 6/10\n",
      "50000/50000 [==============================] - 5s 98us/step - loss: 0.9452 - acc: 0.6669 - val_loss: 0.8871 - val_acc: 0.6936\n",
      "Epoch 7/10\n",
      "50000/50000 [==============================] - 5s 99us/step - loss: 0.8964 - acc: 0.6865 - val_loss: 0.8483 - val_acc: 0.7031\n",
      "Epoch 8/10\n",
      "50000/50000 [==============================] - 5s 98us/step - loss: 0.8424 - acc: 0.7069 - val_loss: 0.7722 - val_acc: 0.7329\n",
      "Epoch 9/10\n",
      "50000/50000 [==============================] - 5s 98us/step - loss: 0.8033 - acc: 0.7182 - val_loss: 0.8057 - val_acc: 0.7256\n",
      "Epoch 10/10\n",
      "50000/50000 [==============================] - 5s 99us/step - loss: 0.7778 - acc: 0.7284 - val_loss: 0.7443 - val_acc: 0.7471\n",
      "Test loss: 0.744289896774292\n",
      "Test accuracy: 0.7471\n"
     ]
    }
   ],
   "source": [
    "train_cnn(pad_conv='valid')"
   ]
  },
  {
   "cell_type": "markdown",
   "metadata": {
    "colab_type": "text",
    "id": "C2xf8hqYs66N"
   },
   "source": [
    "#### 卷積層Stride 1(default) ->2"
   ]
  },
  {
   "cell_type": "code",
   "execution_count": 0,
   "metadata": {
    "colab": {
     "base_uri": "https://localhost:8080/",
     "height": 1126
    },
    "colab_type": "code",
    "executionInfo": {
     "elapsed": 775040,
     "status": "ok",
     "timestamp": 1555143788544,
     "user": {
      "displayName": "楊傑",
      "photoUrl": "",
      "userId": "07428092554711625917"
     },
     "user_tz": -480
    },
    "id": "vf1hjmzhs66O",
    "outputId": "9229a3eb-db38-400c-b4d4-461c7c21abf2"
   },
   "outputs": [
    {
     "name": "stdout",
     "output_type": "stream",
     "text": [
      "_________________________________________________________________\n",
      "Layer (type)                 Output Shape              Param #   \n",
      "=================================================================\n",
      "conv2d_17 (Conv2D)           (None, 16, 16, 32)        896       \n",
      "_________________________________________________________________\n",
      "activation_25 (Activation)   (None, 16, 16, 32)        0         \n",
      "_________________________________________________________________\n",
      "conv2d_18 (Conv2D)           (None, 14, 14, 32)        9248      \n",
      "_________________________________________________________________\n",
      "activation_26 (Activation)   (None, 14, 14, 32)        0         \n",
      "_________________________________________________________________\n",
      "max_pooling2d_9 (MaxPooling2 (None, 7, 7, 32)          0         \n",
      "_________________________________________________________________\n",
      "dropout_15 (Dropout)         (None, 7, 7, 32)          0         \n",
      "_________________________________________________________________\n",
      "conv2d_19 (Conv2D)           (None, 4, 4, 32)          9248      \n",
      "_________________________________________________________________\n",
      "activation_27 (Activation)   (None, 4, 4, 32)          0         \n",
      "_________________________________________________________________\n",
      "conv2d_20 (Conv2D)           (None, 2, 2, 64)          18496     \n",
      "_________________________________________________________________\n",
      "activation_28 (Activation)   (None, 2, 2, 64)          0         \n",
      "_________________________________________________________________\n",
      "max_pooling2d_10 (MaxPooling (None, 1, 1, 64)          0         \n",
      "_________________________________________________________________\n",
      "dropout_16 (Dropout)         (None, 1, 1, 64)          0         \n",
      "_________________________________________________________________\n",
      "flatten_5 (Flatten)          (None, 64)                0         \n",
      "_________________________________________________________________\n",
      "dense_12 (Dense)             (None, 512)               33280     \n",
      "_________________________________________________________________\n",
      "activation_29 (Activation)   (None, 512)               0         \n",
      "_________________________________________________________________\n",
      "dropout_17 (Dropout)         (None, 512)               0         \n",
      "_________________________________________________________________\n",
      "dense_13 (Dense)             (None, 10)                5130      \n",
      "_________________________________________________________________\n",
      "activation_30 (Activation)   (None, 10)                0         \n",
      "=================================================================\n",
      "Total params: 76,298\n",
      "Trainable params: 76,298\n",
      "Non-trainable params: 0\n",
      "_________________________________________________________________\n",
      "Train on 50000 samples, validate on 10000 samples\n",
      "Epoch 1/10\n",
      "50000/50000 [==============================] - 4s 87us/step - loss: 1.9317 - acc: 0.2800 - val_loss: 1.7518 - val_acc: 0.3817\n",
      "Epoch 2/10\n",
      "50000/50000 [==============================] - 4s 73us/step - loss: 1.6237 - acc: 0.4098 - val_loss: 1.6187 - val_acc: 0.4195\n",
      "Epoch 3/10\n",
      "50000/50000 [==============================] - 4s 72us/step - loss: 1.4823 - acc: 0.4608 - val_loss: 1.3952 - val_acc: 0.4942\n",
      "Epoch 4/10\n",
      "50000/50000 [==============================] - 4s 72us/step - loss: 1.3927 - acc: 0.4954 - val_loss: 1.2409 - val_acc: 0.5437\n",
      "Epoch 5/10\n",
      "50000/50000 [==============================] - 4s 72us/step - loss: 1.3218 - acc: 0.5244 - val_loss: 1.1691 - val_acc: 0.5732\n",
      "Epoch 6/10\n",
      "50000/50000 [==============================] - 4s 73us/step - loss: 1.2564 - acc: 0.5495 - val_loss: 1.1989 - val_acc: 0.5788\n",
      "Epoch 7/10\n",
      "50000/50000 [==============================] - 4s 72us/step - loss: 1.2053 - acc: 0.5676 - val_loss: 1.0768 - val_acc: 0.6193\n",
      "Epoch 8/10\n",
      "50000/50000 [==============================] - 4s 72us/step - loss: 1.1585 - acc: 0.5857 - val_loss: 1.0826 - val_acc: 0.6123\n",
      "Epoch 9/10\n",
      "50000/50000 [==============================] - 4s 72us/step - loss: 1.1262 - acc: 0.5996 - val_loss: 1.0882 - val_acc: 0.6119\n",
      "Epoch 10/10\n",
      "50000/50000 [==============================] - 4s 72us/step - loss: 1.0939 - acc: 0.6093 - val_loss: 0.9937 - val_acc: 0.6482\n",
      "Test loss: 0.9936993631362915\n",
      "Test accuracy: 0.6482\n"
     ]
    }
   ],
   "source": [
    "train_cnn(stride_conv=2)"
   ]
  },
  {
   "cell_type": "markdown",
   "metadata": {
    "colab_type": "text",
    "id": "sI0IqpJas66P"
   },
   "source": [
    "#### pool_size (2,2) -> (3,3)"
   ]
  },
  {
   "cell_type": "code",
   "execution_count": 0,
   "metadata": {
    "colab": {
     "base_uri": "https://localhost:8080/",
     "height": 1126
    },
    "colab_type": "code",
    "executionInfo": {
     "elapsed": 775044,
     "status": "ok",
     "timestamp": 1555143788550,
     "user": {
      "displayName": "楊傑",
      "photoUrl": "",
      "userId": "07428092554711625917"
     },
     "user_tz": -480
    },
    "id": "2tDgrDNPs66Q",
    "outputId": "12d500e7-d3e5-4bb4-99aa-1989dc39017c"
   },
   "outputs": [
    {
     "name": "stdout",
     "output_type": "stream",
     "text": [
      "_________________________________________________________________\n",
      "Layer (type)                 Output Shape              Param #   \n",
      "=================================================================\n",
      "conv2d_21 (Conv2D)           (None, 32, 32, 32)        896       \n",
      "_________________________________________________________________\n",
      "activation_31 (Activation)   (None, 32, 32, 32)        0         \n",
      "_________________________________________________________________\n",
      "conv2d_22 (Conv2D)           (None, 30, 30, 32)        9248      \n",
      "_________________________________________________________________\n",
      "activation_32 (Activation)   (None, 30, 30, 32)        0         \n",
      "_________________________________________________________________\n",
      "max_pooling2d_11 (MaxPooling (None, 10, 10, 32)        0         \n",
      "_________________________________________________________________\n",
      "dropout_18 (Dropout)         (None, 10, 10, 32)        0         \n",
      "_________________________________________________________________\n",
      "conv2d_23 (Conv2D)           (None, 10, 10, 32)        9248      \n",
      "_________________________________________________________________\n",
      "activation_33 (Activation)   (None, 10, 10, 32)        0         \n",
      "_________________________________________________________________\n",
      "conv2d_24 (Conv2D)           (None, 8, 8, 64)          18496     \n",
      "_________________________________________________________________\n",
      "activation_34 (Activation)   (None, 8, 8, 64)          0         \n",
      "_________________________________________________________________\n",
      "max_pooling2d_12 (MaxPooling (None, 2, 2, 64)          0         \n",
      "_________________________________________________________________\n",
      "dropout_19 (Dropout)         (None, 2, 2, 64)          0         \n",
      "_________________________________________________________________\n",
      "flatten_6 (Flatten)          (None, 256)               0         \n",
      "_________________________________________________________________\n",
      "dense_14 (Dense)             (None, 512)               131584    \n",
      "_________________________________________________________________\n",
      "activation_35 (Activation)   (None, 512)               0         \n",
      "_________________________________________________________________\n",
      "dropout_20 (Dropout)         (None, 512)               0         \n",
      "_________________________________________________________________\n",
      "dense_15 (Dense)             (None, 10)                5130      \n",
      "_________________________________________________________________\n",
      "activation_36 (Activation)   (None, 10)                0         \n",
      "=================================================================\n",
      "Total params: 174,602\n",
      "Trainable params: 174,602\n",
      "Non-trainable params: 0\n",
      "_________________________________________________________________\n",
      "Train on 50000 samples, validate on 10000 samples\n",
      "Epoch 1/10\n",
      "50000/50000 [==============================] - 5s 109us/step - loss: 1.8892 - acc: 0.3036 - val_loss: 1.5468 - val_acc: 0.4352\n",
      "Epoch 2/10\n",
      "50000/50000 [==============================] - 5s 95us/step - loss: 1.5369 - acc: 0.4395 - val_loss: 1.3444 - val_acc: 0.5157\n",
      "Epoch 3/10\n",
      "50000/50000 [==============================] - 5s 95us/step - loss: 1.3703 - acc: 0.5075 - val_loss: 1.2337 - val_acc: 0.5719\n",
      "Epoch 4/10\n",
      "50000/50000 [==============================] - 5s 93us/step - loss: 1.2529 - acc: 0.5532 - val_loss: 1.1051 - val_acc: 0.6088\n",
      "Epoch 5/10\n",
      "50000/50000 [==============================] - 5s 95us/step - loss: 1.1661 - acc: 0.5871 - val_loss: 1.0593 - val_acc: 0.6238\n",
      "Epoch 6/10\n",
      "50000/50000 [==============================] - 5s 96us/step - loss: 1.1101 - acc: 0.6068 - val_loss: 1.0072 - val_acc: 0.6411\n",
      "Epoch 7/10\n",
      "50000/50000 [==============================] - 5s 93us/step - loss: 1.0617 - acc: 0.6267 - val_loss: 1.0771 - val_acc: 0.6252\n",
      "Epoch 8/10\n",
      "50000/50000 [==============================] - 5s 94us/step - loss: 1.0253 - acc: 0.6403 - val_loss: 0.9617 - val_acc: 0.6518\n",
      "Epoch 9/10\n",
      "50000/50000 [==============================] - 5s 94us/step - loss: 0.9850 - acc: 0.6538 - val_loss: 0.8963 - val_acc: 0.6865\n",
      "Epoch 10/10\n",
      "50000/50000 [==============================] - 5s 95us/step - loss: 0.9518 - acc: 0.6631 - val_loss: 0.8883 - val_acc: 0.6933\n",
      "Test loss: 0.8883371734619141\n",
      "Test accuracy: 0.6933\n"
     ]
    }
   ],
   "source": [
    "train_cnn(pool_size=3)"
   ]
  },
  {
   "cell_type": "markdown",
   "metadata": {
    "colab_type": "text",
    "id": "MYwWRE_Ds66S"
   },
   "source": [
    "#### 池化層Padding 'valid' ->'same'"
   ]
  },
  {
   "cell_type": "code",
   "execution_count": 0,
   "metadata": {
    "colab": {
     "base_uri": "https://localhost:8080/",
     "height": 1126
    },
    "colab_type": "code",
    "executionInfo": {
     "elapsed": 775043,
     "status": "ok",
     "timestamp": 1555143788553,
     "user": {
      "displayName": "楊傑",
      "photoUrl": "",
      "userId": "07428092554711625917"
     },
     "user_tz": -480
    },
    "id": "PK2mCo9Ys66S",
    "outputId": "581cea56-1f1e-466e-c2af-afb32bffe9f0"
   },
   "outputs": [
    {
     "name": "stdout",
     "output_type": "stream",
     "text": [
      "_________________________________________________________________\n",
      "Layer (type)                 Output Shape              Param #   \n",
      "=================================================================\n",
      "conv2d_25 (Conv2D)           (None, 32, 32, 32)        896       \n",
      "_________________________________________________________________\n",
      "activation_37 (Activation)   (None, 32, 32, 32)        0         \n",
      "_________________________________________________________________\n",
      "conv2d_26 (Conv2D)           (None, 30, 30, 32)        9248      \n",
      "_________________________________________________________________\n",
      "activation_38 (Activation)   (None, 30, 30, 32)        0         \n",
      "_________________________________________________________________\n",
      "max_pooling2d_13 (MaxPooling (None, 15, 15, 32)        0         \n",
      "_________________________________________________________________\n",
      "dropout_21 (Dropout)         (None, 15, 15, 32)        0         \n",
      "_________________________________________________________________\n",
      "conv2d_27 (Conv2D)           (None, 15, 15, 32)        9248      \n",
      "_________________________________________________________________\n",
      "activation_39 (Activation)   (None, 15, 15, 32)        0         \n",
      "_________________________________________________________________\n",
      "conv2d_28 (Conv2D)           (None, 13, 13, 64)        18496     \n",
      "_________________________________________________________________\n",
      "activation_40 (Activation)   (None, 13, 13, 64)        0         \n",
      "_________________________________________________________________\n",
      "max_pooling2d_14 (MaxPooling (None, 7, 7, 64)          0         \n",
      "_________________________________________________________________\n",
      "dropout_22 (Dropout)         (None, 7, 7, 64)          0         \n",
      "_________________________________________________________________\n",
      "flatten_7 (Flatten)          (None, 3136)              0         \n",
      "_________________________________________________________________\n",
      "dense_16 (Dense)             (None, 512)               1606144   \n",
      "_________________________________________________________________\n",
      "activation_41 (Activation)   (None, 512)               0         \n",
      "_________________________________________________________________\n",
      "dropout_23 (Dropout)         (None, 512)               0         \n",
      "_________________________________________________________________\n",
      "dense_17 (Dense)             (None, 10)                5130      \n",
      "_________________________________________________________________\n",
      "activation_42 (Activation)   (None, 10)                0         \n",
      "=================================================================\n",
      "Total params: 1,649,162\n",
      "Trainable params: 1,649,162\n",
      "Non-trainable params: 0\n",
      "_________________________________________________________________\n",
      "Train on 50000 samples, validate on 10000 samples\n",
      "Epoch 1/10\n",
      "50000/50000 [==============================] - 6s 128us/step - loss: 1.7189 - acc: 0.3810 - val_loss: 1.4382 - val_acc: 0.4853\n",
      "Epoch 2/10\n",
      "50000/50000 [==============================] - 6s 111us/step - loss: 1.2768 - acc: 0.5449 - val_loss: 1.0639 - val_acc: 0.6220\n",
      "Epoch 3/10\n",
      "50000/50000 [==============================] - 6s 110us/step - loss: 1.0882 - acc: 0.6197 - val_loss: 1.1041 - val_acc: 0.6166\n",
      "Epoch 4/10\n",
      "50000/50000 [==============================] - 5s 110us/step - loss: 0.9646 - acc: 0.6625 - val_loss: 0.8937 - val_acc: 0.6890\n",
      "Epoch 5/10\n",
      "50000/50000 [==============================] - 5s 110us/step - loss: 0.8795 - acc: 0.6927 - val_loss: 0.8455 - val_acc: 0.7087\n",
      "Epoch 6/10\n",
      "50000/50000 [==============================] - 5s 110us/step - loss: 0.8156 - acc: 0.7152 - val_loss: 0.8301 - val_acc: 0.7212\n",
      "Epoch 7/10\n",
      "50000/50000 [==============================] - 5s 109us/step - loss: 0.7689 - acc: 0.7321 - val_loss: 0.7347 - val_acc: 0.7445\n",
      "Epoch 8/10\n",
      "50000/50000 [==============================] - 6s 110us/step - loss: 0.7269 - acc: 0.7490 - val_loss: 0.7241 - val_acc: 0.7483\n",
      "Epoch 9/10\n",
      "50000/50000 [==============================] - 6s 111us/step - loss: 0.6972 - acc: 0.7588 - val_loss: 0.7545 - val_acc: 0.7415\n",
      "Epoch 10/10\n",
      "50000/50000 [==============================] - 5s 110us/step - loss: 0.6714 - acc: 0.7688 - val_loss: 0.7798 - val_acc: 0.7433\n",
      "Test loss: 0.7798271428108215\n",
      "Test accuracy: 0.7433\n"
     ]
    }
   ],
   "source": [
    "train_cnn(pad_pool='same')"
   ]
  },
  {
   "cell_type": "markdown",
   "metadata": {
    "colab_type": "text",
    "id": "x9_MwYCns66W"
   },
   "source": [
    "#### 池化層data_format 'channels_last' ->'channels_first'"
   ]
  },
  {
   "cell_type": "code",
   "execution_count": 0,
   "metadata": {
    "colab": {
     "base_uri": "https://localhost:8080/",
     "height": 1126
    },
    "colab_type": "code",
    "executionInfo": {
     "elapsed": 775046,
     "status": "ok",
     "timestamp": 1555143788557,
     "user": {
      "displayName": "楊傑",
      "photoUrl": "",
      "userId": "07428092554711625917"
     },
     "user_tz": -480
    },
    "id": "oqeWLmlbs66X",
    "outputId": "49d1a83e-daab-4799-d3f1-6e3236a9c157"
   },
   "outputs": [
    {
     "name": "stdout",
     "output_type": "stream",
     "text": [
      "_________________________________________________________________\n",
      "Layer (type)                 Output Shape              Param #   \n",
      "=================================================================\n",
      "conv2d_29 (Conv2D)           (None, 32, 32, 32)        896       \n",
      "_________________________________________________________________\n",
      "activation_43 (Activation)   (None, 32, 32, 32)        0         \n",
      "_________________________________________________________________\n",
      "conv2d_30 (Conv2D)           (None, 30, 30, 32)        9248      \n",
      "_________________________________________________________________\n",
      "activation_44 (Activation)   (None, 30, 30, 32)        0         \n",
      "_________________________________________________________________\n",
      "max_pooling2d_15 (MaxPooling (None, 30, 15, 16)        0         \n",
      "_________________________________________________________________\n",
      "dropout_24 (Dropout)         (None, 30, 15, 16)        0         \n",
      "_________________________________________________________________\n",
      "conv2d_31 (Conv2D)           (None, 30, 15, 32)        4640      \n",
      "_________________________________________________________________\n",
      "activation_45 (Activation)   (None, 30, 15, 32)        0         \n",
      "_________________________________________________________________\n",
      "conv2d_32 (Conv2D)           (None, 28, 13, 64)        18496     \n",
      "_________________________________________________________________\n",
      "activation_46 (Activation)   (None, 28, 13, 64)        0         \n",
      "_________________________________________________________________\n",
      "max_pooling2d_16 (MaxPooling (None, 28, 6, 32)         0         \n",
      "_________________________________________________________________\n",
      "dropout_25 (Dropout)         (None, 28, 6, 32)         0         \n",
      "_________________________________________________________________\n",
      "flatten_8 (Flatten)          (None, 5376)              0         \n",
      "_________________________________________________________________\n",
      "dense_18 (Dense)             (None, 512)               2753024   \n",
      "_________________________________________________________________\n",
      "activation_47 (Activation)   (None, 512)               0         \n",
      "_________________________________________________________________\n",
      "dropout_26 (Dropout)         (None, 512)               0         \n",
      "_________________________________________________________________\n",
      "dense_19 (Dense)             (None, 10)                5130      \n",
      "_________________________________________________________________\n",
      "activation_48 (Activation)   (None, 10)                0         \n",
      "=================================================================\n",
      "Total params: 2,791,434\n",
      "Trainable params: 2,791,434\n",
      "Non-trainable params: 0\n",
      "_________________________________________________________________\n",
      "Train on 50000 samples, validate on 10000 samples\n",
      "Epoch 1/10\n",
      "50000/50000 [==============================] - 7s 148us/step - loss: 1.7883 - acc: 0.3623 - val_loss: 1.3503 - val_acc: 0.5233\n",
      "Epoch 2/10\n",
      "50000/50000 [==============================] - 6s 128us/step - loss: 1.3477 - acc: 0.5244 - val_loss: 1.2225 - val_acc: 0.5615\n",
      "Epoch 3/10\n",
      "50000/50000 [==============================] - 6s 128us/step - loss: 1.1713 - acc: 0.5887 - val_loss: 1.0636 - val_acc: 0.6274\n",
      "Epoch 4/10\n",
      "50000/50000 [==============================] - 6s 128us/step - loss: 1.0496 - acc: 0.6335 - val_loss: 0.9710 - val_acc: 0.6622\n",
      "Epoch 5/10\n",
      "50000/50000 [==============================] - 6s 128us/step - loss: 0.9677 - acc: 0.6638 - val_loss: 0.9688 - val_acc: 0.6624\n",
      "Epoch 6/10\n",
      "50000/50000 [==============================] - 6s 128us/step - loss: 0.9076 - acc: 0.6851 - val_loss: 0.9265 - val_acc: 0.6795\n",
      "Epoch 7/10\n",
      "50000/50000 [==============================] - 6s 127us/step - loss: 0.8594 - acc: 0.7010 - val_loss: 0.8713 - val_acc: 0.7103\n",
      "Epoch 8/10\n",
      "50000/50000 [==============================] - 6s 128us/step - loss: 0.8209 - acc: 0.7158 - val_loss: 0.8640 - val_acc: 0.7089\n",
      "Epoch 9/10\n",
      "50000/50000 [==============================] - 6s 128us/step - loss: 0.7902 - acc: 0.7257 - val_loss: 0.8319 - val_acc: 0.7162\n",
      "Epoch 10/10\n",
      "50000/50000 [==============================] - 6s 128us/step - loss: 0.7722 - acc: 0.7339 - val_loss: 0.8304 - val_acc: 0.7222\n",
      "Test loss: 0.8303734073638916\n",
      "Test accuracy: 0.7222\n"
     ]
    }
   ],
   "source": [
    "train_cnn(data_format='channels_first')"
   ]
  },
  {
   "cell_type": "markdown",
   "metadata": {
    "colab_type": "text",
    "id": "nBjkxBiCs66a"
   },
   "source": [
    "#### 最後一個全連階層前之Dropout layer的dropout rate 0.5 -> 0.25"
   ]
  },
  {
   "cell_type": "code",
   "execution_count": 0,
   "metadata": {
    "colab": {
     "base_uri": "https://localhost:8080/",
     "height": 1126
    },
    "colab_type": "code",
    "executionInfo": {
     "elapsed": 775048,
     "status": "ok",
     "timestamp": 1555143788560,
     "user": {
      "displayName": "楊傑",
      "photoUrl": "",
      "userId": "07428092554711625917"
     },
     "user_tz": -480
    },
    "id": "-Us_4Gwhs66a",
    "outputId": "b03ef399-e385-4a86-97eb-3737d6684c4d"
   },
   "outputs": [
    {
     "name": "stdout",
     "output_type": "stream",
     "text": [
      "_________________________________________________________________\n",
      "Layer (type)                 Output Shape              Param #   \n",
      "=================================================================\n",
      "conv2d_33 (Conv2D)           (None, 32, 32, 32)        896       \n",
      "_________________________________________________________________\n",
      "activation_49 (Activation)   (None, 32, 32, 32)        0         \n",
      "_________________________________________________________________\n",
      "conv2d_34 (Conv2D)           (None, 30, 30, 32)        9248      \n",
      "_________________________________________________________________\n",
      "activation_50 (Activation)   (None, 30, 30, 32)        0         \n",
      "_________________________________________________________________\n",
      "max_pooling2d_17 (MaxPooling (None, 15, 15, 32)        0         \n",
      "_________________________________________________________________\n",
      "dropout_27 (Dropout)         (None, 15, 15, 32)        0         \n",
      "_________________________________________________________________\n",
      "conv2d_35 (Conv2D)           (None, 15, 15, 32)        9248      \n",
      "_________________________________________________________________\n",
      "activation_51 (Activation)   (None, 15, 15, 32)        0         \n",
      "_________________________________________________________________\n",
      "conv2d_36 (Conv2D)           (None, 13, 13, 64)        18496     \n",
      "_________________________________________________________________\n",
      "activation_52 (Activation)   (None, 13, 13, 64)        0         \n",
      "_________________________________________________________________\n",
      "max_pooling2d_18 (MaxPooling (None, 6, 6, 64)          0         \n",
      "_________________________________________________________________\n",
      "dropout_28 (Dropout)         (None, 6, 6, 64)          0         \n",
      "_________________________________________________________________\n",
      "flatten_9 (Flatten)          (None, 2304)              0         \n",
      "_________________________________________________________________\n",
      "dense_20 (Dense)             (None, 512)               1180160   \n",
      "_________________________________________________________________\n",
      "activation_53 (Activation)   (None, 512)               0         \n",
      "_________________________________________________________________\n",
      "dropout_29 (Dropout)         (None, 512)               0         \n",
      "_________________________________________________________________\n",
      "dense_21 (Dense)             (None, 10)                5130      \n",
      "_________________________________________________________________\n",
      "activation_54 (Activation)   (None, 10)                0         \n",
      "=================================================================\n",
      "Total params: 1,223,178\n",
      "Trainable params: 1,223,178\n",
      "Non-trainable params: 0\n",
      "_________________________________________________________________\n",
      "Train on 50000 samples, validate on 10000 samples\n",
      "Epoch 1/10\n",
      "50000/50000 [==============================] - 6s 126us/step - loss: 1.7541 - acc: 0.3681 - val_loss: 1.4622 - val_acc: 0.4859\n",
      "Epoch 2/10\n",
      "50000/50000 [==============================] - 5s 108us/step - loss: 1.3269 - acc: 0.5283 - val_loss: 1.3637 - val_acc: 0.5352\n",
      "Epoch 3/10\n",
      "50000/50000 [==============================] - 5s 107us/step - loss: 1.1335 - acc: 0.5996 - val_loss: 1.1023 - val_acc: 0.6101\n",
      "Epoch 4/10\n",
      "50000/50000 [==============================] - 5s 109us/step - loss: 0.9931 - acc: 0.6501 - val_loss: 0.9050 - val_acc: 0.6844\n",
      "Epoch 5/10\n",
      "50000/50000 [==============================] - 6s 125us/step - loss: 0.8937 - acc: 0.6871 - val_loss: 0.8791 - val_acc: 0.6945\n",
      "Epoch 6/10\n",
      "50000/50000 [==============================] - 6s 121us/step - loss: 0.8097 - acc: 0.7180 - val_loss: 0.7926 - val_acc: 0.7241\n",
      "Epoch 7/10\n",
      "50000/50000 [==============================] - 6s 118us/step - loss: 0.7396 - acc: 0.7423 - val_loss: 0.7939 - val_acc: 0.7297\n",
      "Epoch 8/10\n",
      "50000/50000 [==============================] - 6s 117us/step - loss: 0.6857 - acc: 0.7616 - val_loss: 0.8390 - val_acc: 0.7103\n",
      "Epoch 9/10\n",
      "50000/50000 [==============================] - 5s 107us/step - loss: 0.6372 - acc: 0.7778 - val_loss: 0.7128 - val_acc: 0.7553\n",
      "Epoch 10/10\n",
      "50000/50000 [==============================] - 5s 109us/step - loss: 0.5917 - acc: 0.7946 - val_loss: 0.7020 - val_acc: 0.7657\n",
      "Test loss: 0.7019875079154968\n",
      "Test accuracy: 0.7657\n"
     ]
    }
   ],
   "source": [
    "train_cnn(drp_last=0.25)"
   ]
  },
  {
   "cell_type": "markdown",
   "metadata": {
    "colab_type": "text",
    "id": "5v_AhVzQs66f"
   },
   "source": [
    "#### 最後一個全連階層的neuron number 512 ->1024"
   ]
  },
  {
   "cell_type": "code",
   "execution_count": 0,
   "metadata": {
    "colab": {
     "base_uri": "https://localhost:8080/",
     "height": 1126
    },
    "colab_type": "code",
    "executionInfo": {
     "elapsed": 775057,
     "status": "ok",
     "timestamp": 1555143788569,
     "user": {
      "displayName": "楊傑",
      "photoUrl": "",
      "userId": "07428092554711625917"
     },
     "user_tz": -480
    },
    "id": "-k9xJrrhs66f",
    "outputId": "eba15d1e-04f6-46ea-8783-bab27851c193"
   },
   "outputs": [
    {
     "name": "stdout",
     "output_type": "stream",
     "text": [
      "_________________________________________________________________\n",
      "Layer (type)                 Output Shape              Param #   \n",
      "=================================================================\n",
      "conv2d_37 (Conv2D)           (None, 32, 32, 32)        896       \n",
      "_________________________________________________________________\n",
      "activation_55 (Activation)   (None, 32, 32, 32)        0         \n",
      "_________________________________________________________________\n",
      "conv2d_38 (Conv2D)           (None, 30, 30, 32)        9248      \n",
      "_________________________________________________________________\n",
      "activation_56 (Activation)   (None, 30, 30, 32)        0         \n",
      "_________________________________________________________________\n",
      "max_pooling2d_19 (MaxPooling (None, 15, 15, 32)        0         \n",
      "_________________________________________________________________\n",
      "dropout_30 (Dropout)         (None, 15, 15, 32)        0         \n",
      "_________________________________________________________________\n",
      "conv2d_39 (Conv2D)           (None, 15, 15, 32)        9248      \n",
      "_________________________________________________________________\n",
      "activation_57 (Activation)   (None, 15, 15, 32)        0         \n",
      "_________________________________________________________________\n",
      "conv2d_40 (Conv2D)           (None, 13, 13, 64)        18496     \n",
      "_________________________________________________________________\n",
      "activation_58 (Activation)   (None, 13, 13, 64)        0         \n",
      "_________________________________________________________________\n",
      "max_pooling2d_20 (MaxPooling (None, 6, 6, 64)          0         \n",
      "_________________________________________________________________\n",
      "dropout_31 (Dropout)         (None, 6, 6, 64)          0         \n",
      "_________________________________________________________________\n",
      "flatten_10 (Flatten)         (None, 2304)              0         \n",
      "_________________________________________________________________\n",
      "dense_22 (Dense)             (None, 1024)              2360320   \n",
      "_________________________________________________________________\n",
      "activation_59 (Activation)   (None, 1024)              0         \n",
      "_________________________________________________________________\n",
      "dropout_32 (Dropout)         (None, 1024)              0         \n",
      "_________________________________________________________________\n",
      "dense_23 (Dense)             (None, 10)                10250     \n",
      "_________________________________________________________________\n",
      "activation_60 (Activation)   (None, 10)                0         \n",
      "=================================================================\n",
      "Total params: 2,408,458\n",
      "Trainable params: 2,408,458\n",
      "Non-trainable params: 0\n",
      "_________________________________________________________________\n",
      "Train on 50000 samples, validate on 10000 samples\n",
      "Epoch 1/10\n",
      "50000/50000 [==============================] - 7s 137us/step - loss: 1.7091 - acc: 0.3847 - val_loss: 1.3656 - val_acc: 0.5157\n",
      "Epoch 2/10\n",
      "50000/50000 [==============================] - 6s 117us/step - loss: 1.2929 - acc: 0.5409 - val_loss: 1.2510 - val_acc: 0.5593\n",
      "Epoch 3/10\n",
      "50000/50000 [==============================] - 6s 114us/step - loss: 1.1072 - acc: 0.6130 - val_loss: 1.1030 - val_acc: 0.6072\n",
      "Epoch 4/10\n",
      "50000/50000 [==============================] - 6s 113us/step - loss: 0.9814 - acc: 0.6563 - val_loss: 0.9117 - val_acc: 0.6798\n",
      "Epoch 5/10\n",
      "50000/50000 [==============================] - 6s 113us/step - loss: 0.8882 - acc: 0.6888 - val_loss: 0.8721 - val_acc: 0.7033\n",
      "Epoch 6/10\n",
      "50000/50000 [==============================] - 6s 115us/step - loss: 0.8138 - acc: 0.7151 - val_loss: 0.8605 - val_acc: 0.7035\n",
      "Epoch 7/10\n",
      "50000/50000 [==============================] - 6s 120us/step - loss: 0.7561 - acc: 0.7360 - val_loss: 0.7467 - val_acc: 0.7419\n",
      "Epoch 8/10\n",
      "50000/50000 [==============================] - 6s 129us/step - loss: 0.7139 - acc: 0.7529 - val_loss: 0.8561 - val_acc: 0.7236\n",
      "Epoch 9/10\n",
      "50000/50000 [==============================] - 6s 126us/step - loss: 0.6926 - acc: 0.7605 - val_loss: 0.7759 - val_acc: 0.7421\n",
      "Epoch 10/10\n",
      "50000/50000 [==============================] - 6s 124us/step - loss: 0.6673 - acc: 0.7718 - val_loss: 0.7519 - val_acc: 0.7497\n",
      "Test loss: 0.7519093024253846\n",
      "Test accuracy: 0.7497\n"
     ]
    }
   ],
   "source": [
    "train_cnn(neuron_n_last=1024)"
   ]
  },
  {
   "cell_type": "markdown",
   "metadata": {
    "colab_type": "text",
    "id": "dgY16AHZs66j"
   },
   "source": [
    "#### batch_size 128 -> 256"
   ]
  },
  {
   "cell_type": "code",
   "execution_count": 0,
   "metadata": {
    "colab": {
     "base_uri": "https://localhost:8080/",
     "height": 1126
    },
    "colab_type": "code",
    "executionInfo": {
     "elapsed": 775060,
     "status": "ok",
     "timestamp": 1555143788572,
     "user": {
      "displayName": "楊傑",
      "photoUrl": "",
      "userId": "07428092554711625917"
     },
     "user_tz": -480
    },
    "id": "H2R-3IvRs66k",
    "outputId": "d6c97086-bb66-49d5-b6ac-baf7b57f1f98"
   },
   "outputs": [
    {
     "name": "stdout",
     "output_type": "stream",
     "text": [
      "_________________________________________________________________\n",
      "Layer (type)                 Output Shape              Param #   \n",
      "=================================================================\n",
      "conv2d_41 (Conv2D)           (None, 32, 32, 32)        896       \n",
      "_________________________________________________________________\n",
      "activation_61 (Activation)   (None, 32, 32, 32)        0         \n",
      "_________________________________________________________________\n",
      "conv2d_42 (Conv2D)           (None, 30, 30, 32)        9248      \n",
      "_________________________________________________________________\n",
      "activation_62 (Activation)   (None, 30, 30, 32)        0         \n",
      "_________________________________________________________________\n",
      "max_pooling2d_21 (MaxPooling (None, 15, 15, 32)        0         \n",
      "_________________________________________________________________\n",
      "dropout_33 (Dropout)         (None, 15, 15, 32)        0         \n",
      "_________________________________________________________________\n",
      "conv2d_43 (Conv2D)           (None, 15, 15, 32)        9248      \n",
      "_________________________________________________________________\n",
      "activation_63 (Activation)   (None, 15, 15, 32)        0         \n",
      "_________________________________________________________________\n",
      "conv2d_44 (Conv2D)           (None, 13, 13, 64)        18496     \n",
      "_________________________________________________________________\n",
      "activation_64 (Activation)   (None, 13, 13, 64)        0         \n",
      "_________________________________________________________________\n",
      "max_pooling2d_22 (MaxPooling (None, 6, 6, 64)          0         \n",
      "_________________________________________________________________\n",
      "dropout_34 (Dropout)         (None, 6, 6, 64)          0         \n",
      "_________________________________________________________________\n",
      "flatten_11 (Flatten)         (None, 2304)              0         \n",
      "_________________________________________________________________\n",
      "dense_24 (Dense)             (None, 512)               1180160   \n",
      "_________________________________________________________________\n",
      "activation_65 (Activation)   (None, 512)               0         \n",
      "_________________________________________________________________\n",
      "dropout_35 (Dropout)         (None, 512)               0         \n",
      "_________________________________________________________________\n",
      "dense_25 (Dense)             (None, 10)                5130      \n",
      "_________________________________________________________________\n",
      "activation_66 (Activation)   (None, 10)                0         \n",
      "=================================================================\n",
      "Total params: 1,223,178\n",
      "Trainable params: 1,223,178\n",
      "Non-trainable params: 0\n",
      "_________________________________________________________________\n",
      "Train on 50000 samples, validate on 10000 samples\n",
      "Epoch 1/10\n",
      "50000/50000 [==============================] - 6s 112us/step - loss: 1.8857 - acc: 0.3164 - val_loss: 2.0597 - val_acc: 0.3085\n",
      "Epoch 2/10\n",
      "50000/50000 [==============================] - 4s 87us/step - loss: 1.4834 - acc: 0.4673 - val_loss: 1.4718 - val_acc: 0.4944\n",
      "Epoch 3/10\n",
      "50000/50000 [==============================] - 4s 86us/step - loss: 1.3085 - acc: 0.5370 - val_loss: 1.1676 - val_acc: 0.5820\n",
      "Epoch 4/10\n",
      "50000/50000 [==============================] - 4s 86us/step - loss: 1.1714 - acc: 0.5872 - val_loss: 1.1739 - val_acc: 0.5976\n",
      "Epoch 5/10\n",
      "50000/50000 [==============================] - 4s 87us/step - loss: 1.0683 - acc: 0.6244 - val_loss: 1.0124 - val_acc: 0.6483\n",
      "Epoch 6/10\n",
      "50000/50000 [==============================] - 4s 87us/step - loss: 0.9816 - acc: 0.6582 - val_loss: 1.0077 - val_acc: 0.6526\n",
      "Epoch 7/10\n",
      "50000/50000 [==============================] - 4s 88us/step - loss: 0.9099 - acc: 0.6829 - val_loss: 0.9094 - val_acc: 0.6883\n",
      "Epoch 8/10\n",
      "50000/50000 [==============================] - 4s 87us/step - loss: 0.8541 - acc: 0.7014 - val_loss: 0.8432 - val_acc: 0.7092\n",
      "Epoch 9/10\n",
      "50000/50000 [==============================] - 4s 86us/step - loss: 0.8076 - acc: 0.7191 - val_loss: 0.8091 - val_acc: 0.7216\n",
      "Epoch 10/10\n",
      "50000/50000 [==============================] - 4s 86us/step - loss: 0.7641 - acc: 0.7340 - val_loss: 0.7941 - val_acc: 0.7330\n",
      "Test loss: 0.7940984544754028\n",
      "Test accuracy: 0.733\n"
     ]
    }
   ],
   "source": [
    "train_cnn(batch_size=256)"
   ]
  },
  {
   "cell_type": "markdown",
   "metadata": {
    "colab_type": "text",
    "id": "bUuD0_dEs66n"
   },
   "source": [
    "#### epochs 10 -> 20"
   ]
  },
  {
   "cell_type": "code",
   "execution_count": 0,
   "metadata": {
    "colab": {
     "base_uri": "https://localhost:8080/",
     "height": 1462
    },
    "colab_type": "code",
    "executionInfo": {
     "elapsed": 775062,
     "status": "ok",
     "timestamp": 1555143788576,
     "user": {
      "displayName": "楊傑",
      "photoUrl": "",
      "userId": "07428092554711625917"
     },
     "user_tz": -480
    },
    "id": "oSdfIacLs66o",
    "outputId": "560776f3-adb2-4948-dd0c-ba16c6ce80fc"
   },
   "outputs": [
    {
     "name": "stdout",
     "output_type": "stream",
     "text": [
      "_________________________________________________________________\n",
      "Layer (type)                 Output Shape              Param #   \n",
      "=================================================================\n",
      "conv2d_45 (Conv2D)           (None, 32, 32, 32)        896       \n",
      "_________________________________________________________________\n",
      "activation_67 (Activation)   (None, 32, 32, 32)        0         \n",
      "_________________________________________________________________\n",
      "conv2d_46 (Conv2D)           (None, 30, 30, 32)        9248      \n",
      "_________________________________________________________________\n",
      "activation_68 (Activation)   (None, 30, 30, 32)        0         \n",
      "_________________________________________________________________\n",
      "max_pooling2d_23 (MaxPooling (None, 15, 15, 32)        0         \n",
      "_________________________________________________________________\n",
      "dropout_36 (Dropout)         (None, 15, 15, 32)        0         \n",
      "_________________________________________________________________\n",
      "conv2d_47 (Conv2D)           (None, 15, 15, 32)        9248      \n",
      "_________________________________________________________________\n",
      "activation_69 (Activation)   (None, 15, 15, 32)        0         \n",
      "_________________________________________________________________\n",
      "conv2d_48 (Conv2D)           (None, 13, 13, 64)        18496     \n",
      "_________________________________________________________________\n",
      "activation_70 (Activation)   (None, 13, 13, 64)        0         \n",
      "_________________________________________________________________\n",
      "max_pooling2d_24 (MaxPooling (None, 6, 6, 64)          0         \n",
      "_________________________________________________________________\n",
      "dropout_37 (Dropout)         (None, 6, 6, 64)          0         \n",
      "_________________________________________________________________\n",
      "flatten_12 (Flatten)         (None, 2304)              0         \n",
      "_________________________________________________________________\n",
      "dense_26 (Dense)             (None, 512)               1180160   \n",
      "_________________________________________________________________\n",
      "activation_71 (Activation)   (None, 512)               0         \n",
      "_________________________________________________________________\n",
      "dropout_38 (Dropout)         (None, 512)               0         \n",
      "_________________________________________________________________\n",
      "dense_27 (Dense)             (None, 10)                5130      \n",
      "_________________________________________________________________\n",
      "activation_72 (Activation)   (None, 10)                0         \n",
      "=================================================================\n",
      "Total params: 1,223,178\n",
      "Trainable params: 1,223,178\n",
      "Non-trainable params: 0\n",
      "_________________________________________________________________\n",
      "Train on 50000 samples, validate on 10000 samples\n",
      "Epoch 1/20\n",
      "50000/50000 [==============================] - 7s 132us/step - loss: 1.7556 - acc: 0.3650 - val_loss: 1.7290 - val_acc: 0.4076\n",
      "Epoch 2/20\n",
      "50000/50000 [==============================] - 5s 109us/step - loss: 1.3473 - acc: 0.5218 - val_loss: 1.2011 - val_acc: 0.5742\n",
      "Epoch 3/20\n",
      "50000/50000 [==============================] - 5s 109us/step - loss: 1.1503 - acc: 0.5928 - val_loss: 1.0850 - val_acc: 0.6250\n",
      "Epoch 4/20\n",
      "50000/50000 [==============================] - 5s 109us/step - loss: 1.0195 - acc: 0.6423 - val_loss: 0.9113 - val_acc: 0.6867\n",
      "Epoch 5/20\n",
      "50000/50000 [==============================] - 5s 109us/step - loss: 0.9319 - acc: 0.6712 - val_loss: 0.8633 - val_acc: 0.7006\n",
      "Epoch 6/20\n",
      "50000/50000 [==============================] - 5s 109us/step - loss: 0.8668 - acc: 0.6981 - val_loss: 0.9170 - val_acc: 0.6949\n",
      "Epoch 7/20\n",
      "50000/50000 [==============================] - 5s 109us/step - loss: 0.8166 - acc: 0.7175 - val_loss: 0.7525 - val_acc: 0.7423\n",
      "Epoch 8/20\n",
      "50000/50000 [==============================] - 5s 109us/step - loss: 0.7698 - acc: 0.7339 - val_loss: 0.8023 - val_acc: 0.7227\n",
      "Epoch 9/20\n",
      "50000/50000 [==============================] - 5s 109us/step - loss: 0.7443 - acc: 0.7421 - val_loss: 0.7954 - val_acc: 0.7293\n",
      "Epoch 10/20\n",
      "50000/50000 [==============================] - 5s 109us/step - loss: 0.7204 - acc: 0.7524 - val_loss: 0.8155 - val_acc: 0.7507\n",
      "Epoch 11/20\n",
      "50000/50000 [==============================] - 5s 109us/step - loss: 0.7050 - acc: 0.7565 - val_loss: 0.7903 - val_acc: 0.7514\n",
      "Epoch 12/20\n",
      "50000/50000 [==============================] - 5s 108us/step - loss: 0.6985 - acc: 0.7619 - val_loss: 0.7120 - val_acc: 0.7607\n",
      "Epoch 13/20\n",
      "50000/50000 [==============================] - 5s 109us/step - loss: 0.6777 - acc: 0.7705 - val_loss: 0.7457 - val_acc: 0.7609\n",
      "Epoch 14/20\n",
      "50000/50000 [==============================] - 6s 122us/step - loss: 0.6765 - acc: 0.7720 - val_loss: 0.7114 - val_acc: 0.7633\n",
      "Epoch 15/20\n",
      "50000/50000 [==============================] - 6s 121us/step - loss: 0.6718 - acc: 0.7725 - val_loss: 0.8952 - val_acc: 0.7458\n",
      "Epoch 16/20\n",
      "50000/50000 [==============================] - 6s 122us/step - loss: 0.6615 - acc: 0.7780 - val_loss: 0.7204 - val_acc: 0.7673\n",
      "Epoch 17/20\n",
      "50000/50000 [==============================] - 6s 121us/step - loss: 0.6566 - acc: 0.7801 - val_loss: 0.7430 - val_acc: 0.7751\n",
      "Epoch 18/20\n",
      "50000/50000 [==============================] - 6s 123us/step - loss: 0.6532 - acc: 0.7817 - val_loss: 0.8471 - val_acc: 0.7681\n",
      "Epoch 19/20\n",
      "50000/50000 [==============================] - 6s 123us/step - loss: 0.6485 - acc: 0.7857 - val_loss: 0.7583 - val_acc: 0.7602\n",
      "Epoch 20/20\n",
      "50000/50000 [==============================] - 6s 123us/step - loss: 0.6494 - acc: 0.7850 - val_loss: 0.7451 - val_acc: 0.7760\n",
      "Test loss: 0.7451124329566956\n",
      "Test accuracy: 0.776\n"
     ]
    }
   ],
   "source": [
    "train_cnn(epochs=20)"
   ]
  }
 ],
 "metadata": {
  "colab": {
   "collapsed_sections": [],
   "name": "Day097_Keras_CNN_vs_DNN.ipynb",
   "provenance": [],
   "version": "0.3.2"
  },
  "kernelspec": {
   "display_name": "Python 3",
   "language": "python",
   "name": "python3"
  },
  "language_info": {
   "codemirror_mode": {
    "name": "ipython",
    "version": 3
   },
   "file_extension": ".py",
   "mimetype": "text/x-python",
   "name": "python",
   "nbconvert_exporter": "python",
   "pygments_lexer": "ipython3",
   "version": "3.7.1"
  }
 },
 "nbformat": 4,
 "nbformat_minor": 1
}
