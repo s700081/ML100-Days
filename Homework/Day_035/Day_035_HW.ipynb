{
 "cells": [
  {
   "cell_type": "markdown",
   "metadata": {},
   "source": [
    "## 練習時間\n",
    "相信大家對回歸問題及分類問題都有初步的了解。今天的作業希望大家搜尋有關 multi-label 的案例問題。下圖是電影 \"奇異博士\" 的分類。可以看到同時有 \"Action\", \"Adventure\", \"Fantasy\" 的類別存在，代表這是個多標籤的問題。 "
   ]
  },
  {
   "cell_type": "markdown",
   "metadata": {},
   "source": [
    "![image](https://cdn-images-1.medium.com/max/1000/1*r0gYXMSQf5VhdMyl2bRDyg.png)"
   ]
  },
  {
   "cell_type": "markdown",
   "metadata": {},
   "source": [
    "## 請搜尋目標為多標籤問題 (Multi-label) 的機器學習案例，了解其資料來源、目標以及評估指標為何\n",
    "## Hint: 服飾\n",
    "\n",
    "https://tianchi.aliyun.com/competition/entrance/231649/information\n",
    "\n",
    "FashionAI全球挑戰賽-服飾屬性標籤識別\n",
    "\n",
    "資料來源: 阿里電商\n",
    "\n",
    "目標: 預測圖片中服飾的種類與特徵\n",
    "\n",
    "介紹: 將圖片中的服飾分為頸線設計、領子設計、脖頸設計、翻領設計、袖長、衣長、裙長、褲長等屬性維度；各屬性維度中又分類成不同屬性值，例如：秀常屬性維度下又區分為無袖、杯袖、短袖、五分袖、七分袖、九分袖、長袖、超長袖等屬性值。\n",
    "參賽者須計算各屬性維度中各屬性值之機率。\n",
    "\n",
    "評估指標: 各屬性維度平均準確率之平均"
   ]
  }
 ],
 "metadata": {
  "kernelspec": {
   "display_name": "Python 3",
   "language": "python",
   "name": "python3"
  },
  "language_info": {
   "codemirror_mode": {
    "name": "ipython",
    "version": 3
   },
   "file_extension": ".py",
   "mimetype": "text/x-python",
   "name": "python",
   "nbconvert_exporter": "python",
   "pygments_lexer": "ipython3",
   "version": "3.7.0"
  }
 },
 "nbformat": 4,
 "nbformat_minor": 2
}
