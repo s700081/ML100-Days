{
 "cells": [
  {
   "cell_type": "markdown",
   "metadata": {},
   "source": [
    "## Work\n",
    "1. 試改變 monitor \"Validation Accuracy\" 並比較結果\n",
    "2. 調整 earlystop 的等待次數至 10, 25 並比較結果"
   ]
  },
  {
   "cell_type": "code",
   "execution_count": null,
   "metadata": {},
   "outputs": [],
   "source": [
    "import os\n",
    "import keras\n",
    "import itertools\n",
    "from keras.models import Sequential\n",
    "from keras.layers import Dense\n",
    "from keras.optimizers import SGD\n",
    "\n",
    "# Disable GPU\n",
    "#os.environ[\"CUDA_VISIBLE_DEVICES\"] = \"\"\n",
    "#force to use cpu(by changing device_count in the tf.ContigProto)\n",
    "import tensorflow as tf\n",
    "from keras import backend as K\n",
    "num_cores = 4\n",
    "config = tf.ConfigProto(intra_op_parallelism_threads=num_cores,\n",
    "                        inter_op_parallelism_threads=num_cores, \n",
    "                        allow_soft_placement=True,\n",
    "                        device_count = {'CPU' : 1,\n",
    "                                        'GPU' : 0}\n",
    "                       )\n",
    "\n",
    "session = tf.Session(config=config)\n",
    "K.set_session(session)"
   ]
  },
  {
   "cell_type": "code",
   "execution_count": null,
   "metadata": {},
   "outputs": [],
   "source": [
    "train, test = keras.datasets.cifar10.load_data()"
   ]
  },
  {
   "cell_type": "code",
   "execution_count": null,
   "metadata": {},
   "outputs": [],
   "source": [
    "## 資料前處理\n",
    "def preproc_x(x, flatten=True):\n",
    "    x = x / 255.\n",
    "    if flatten:\n",
    "        x = x.reshape((len(x), -1))\n",
    "    return x\n",
    "\n",
    "def preproc_y(y, num_classes=10):\n",
    "    if y.shape[-1] == 1:\n",
    "        y = keras.utils.to_categorical(y, num_classes)\n",
    "    return y    "
   ]
  },
  {
   "cell_type": "code",
   "execution_count": null,
   "metadata": {},
   "outputs": [],
   "source": [
    "x_train, y_train = train\n",
    "x_test, y_test = test\n",
    "\n",
    "# Preproc the inputs\n",
    "x_train = preproc_x(x_train)\n",
    "x_test = preproc_x(x_test)\n",
    "\n",
    "# Preprc the outputs\n",
    "y_train = preproc_y(y_train)\n",
    "y_test = preproc_y(y_test)"
   ]
  },
  {
   "cell_type": "code",
   "execution_count": null,
   "metadata": {},
   "outputs": [],
   "source": [
    "# write function to build model\n",
    "def build_mlp(input_shape,output_units=10,num_neuron=[512,128,64]):\n",
    "    model=Sequential()\n",
    "    model.add(Dense(units=input_shape[1], input_dim=input_shape[1],kernel_initializer='normal',activation='relu',name='input'))\n",
    "    model.add(BatchNormalization()) \n",
    "    for i, n_units in enumerate(num_neurons):\n",
    "        model.add(Dense(units=n_units,kernel_initializer='normal',activation='relu',name='hidden'+str(i+1)))\n",
    "        model.add(BatchNormalization()) \n",
    "    model.add(Dense(units=output_units,kernel_initializer='normal',activation='softmax',name='output'))\n",
    "    return model"
   ]
  },
  {
   "cell_type": "code",
   "execution_count": null,
   "metadata": {},
   "outputs": [],
   "source": [
    "# write function to plot results\n",
    "def plot_results(results):\n",
    "    color_bar=['maroon','red','sienna','greenyellow','lime','green','aqua','dodgerblue','mediumblue','slateblue','darkorchid','purple']\n",
    "    \"\"\"\n",
    "    Draw the results\n",
    "    \"\"\"\n",
    "    plt.figure(figsize=(12,9))\n",
    "    for i, cond in enumerate(results.keys()):\n",
    "        plt.plot(range(len(results[cond]['train_loss'])), results[cond]['train_loss'], '-', label='train'+cond, color=color_bar[i%12])\n",
    "        plt.plot(range(len(results[cond]['valid_loss'])), results[cond]['valid_loss'],'--', label='valid'+cond, color=color_bar[i%12])\n",
    "    plt.title('Loss')\n",
    "    plt.legend(loc='center left', bbox_to_anchor=(1, 0.5))\n",
    "    plt.show\n",
    "\n",
    "    plt.figure(figsize=(12,9))\n",
    "    for i, cond in enumerate(results.keys()):\n",
    "        plt.plot(range(len(results[cond]['train_acc'])), results[cond]['train_acc'], '-', label='train'+cond, color=color_bar[i%12])\n",
    "        plt.plot(range(len(results[cond]['valid_acc'])), results[cond]['valid_acc'],'--', label='valid'+cond, color=color_bar[i%12])\n",
    "    plt.title('Accuracy')\n",
    "    plt.legend(loc='center left', bbox_to_anchor=(1, 0.5))\n",
    "    plt.show()"
   ]
  },
  {
   "cell_type": "code",
   "execution_count": null,
   "metadata": {},
   "outputs": [],
   "source": [
    "## 超參數設定\n",
    "\"\"\"\n",
    "Set your hyper-parameters\n",
    "\"\"\"\n",
    "LEARNING_RATE=1e-3\n",
    "EPOCHS=30\n",
    "BATCH_SIZE=256\n",
    "MOMENTUM=0.9"
   ]
  },
  {
   "cell_type": "markdown",
   "metadata": {},
   "source": [
    "## 作業一、改成monitor val_acc"
   ]
  },
  {
   "cell_type": "code",
   "execution_count": null,
   "metadata": {},
   "outputs": [],
   "source": [
    "# 載入 Callbacks\n",
    "\"\"\"\n",
    "Earlystop setting ()\n",
    "\"\"\"\n",
    "from keras.callbacks import EarlyStopping\n",
    "earlystop = EarlyStopping(monitor=\"val_acc\", patience=5, verbose=1 )\n",
    "\"\"\"\n",
    "Your Training loop and Plot the results\n",
    "\"\"\"\n",
    "results_hw1={}\n",
    "for monitor_opt in ['yes','no']:\n",
    "    model=build_mlp(input_shape=x_train.shape)\n",
    "    model.summary()\n",
    "    optimizer=SGD(lr=LEARNING_RATE,nesterov=True, momentum=MOMENTUM)\n",
    "    model.compile(optimizer=optimizer,loss='categorical_crossentropy',metrics=['accuracy'])\n",
    "    \n",
    "    if monitor_opt =='yes':\n",
    "        model.fit(x_train,y_train,\n",
    "                  epochs=EPOCHS,\n",
    "                  batch_size=BATCH_SIZE,\n",
    "                  validation_data=(x_test,y_test),\n",
    "                  shuffle=True,\n",
    "                  callbacks=[earlystop])\n",
    "    elif monitor_opt =='no':\n",
    "        model.fit(x_train,y_train,\n",
    "                  epochs=EPOCHS,\n",
    "                  batch_size=BATCH_SIZE,\n",
    "                  validation_data=(x_test,y_test),\n",
    "                  shuffle=True)\n",
    "    \n",
    "    # collect results\n",
    "    train_loss=model.history.history['loss']\n",
    "    valid_loss=model.history.history['val_loss']\n",
    "    train_acc=model.history.history['acc']\n",
    "    valid_acc=model.history.history['val_acc']\n",
    "    \n",
    "    # construct dictionary\n",
    "    exp_name_tag = 'exp_%s'%str('earlystop')+str(monitor)\n",
    "        \n",
    "    results_hw1[exp_name_tag]={'train_loss':train_loss,\n",
    "                               'valid_loss':valid_loss,\n",
    "                               'train_acc':train_acc,\n",
    "                               'valid_acc':valid_acc}"
   ]
  },
  {
   "cell_type": "code",
   "execution_count": null,
   "metadata": {},
   "outputs": [],
   "source": [
    "plot_results(results_hw1)"
   ]
  },
  {
   "cell_type": "code",
   "execution_count": null,
   "metadata": {},
   "outputs": [],
   "source": [
    "## 作業二、調整 earlystop 的等待次數至 10, 25\n",
    "WAITTIME=[5,10,25]\n",
    "results_hw2={}\n",
    "for waittime in WAITTIME:\n",
    "    earlystop = EarlyStopping(monitor=\"val_acc\", patience=waittime, verbose=1 )\n",
    "    model=build_mlp(input_shape=x_train.shape)\n",
    "    model.summary()\n",
    "    optimizer=SGD(lr=LEARNING_RATE,nesterov=True, momentum=MOMENTUM)\n",
    "    model.compile(optimizer=optimizer,loss='categorical_crossentropy',metrics=['accuracy'])\n",
    "    model.fit(x_train,y_train,\n",
    "                  epochs=EPOCHS,\n",
    "                  batch_size=BATCH_SIZE,\n",
    "                  validation_data=(x_test,y_test),\n",
    "                  shuffle=True,\n",
    "                  callbacks=[earlystop])\n",
    "    \n",
    "    # collect results\n",
    "    train_loss=model.history.history['loss']\n",
    "    valid_loss=model.history.history['val_loss']\n",
    "    train_acc=model.history.history['acc']\n",
    "    valid_acc=model.history.history['val_acc']\n",
    "    \n",
    "    # construct dictionary\n",
    "    exp_name_tag = 'exp_%s'%str('wait-time')+str(waittime)\n",
    "        \n",
    "    results_hw2[exp_name_tag]={'train_loss':train_loss,\n",
    "                               'valid_loss':valid_loss,\n",
    "                               'train_acc':train_acc,\n",
    "                               'valid_acc':valid_acc}"
   ]
  },
  {
   "cell_type": "code",
   "execution_count": null,
   "metadata": {},
   "outputs": [],
   "source": [
    "plot_results(results_hw2)"
   ]
  }
 ],
 "metadata": {
  "kernelspec": {
   "display_name": "Python 3",
   "language": "python",
   "name": "python3"
  },
  "language_info": {
   "codemirror_mode": {
    "name": "ipython",
    "version": 3
   },
   "file_extension": ".py",
   "mimetype": "text/x-python",
   "name": "python",
   "nbconvert_exporter": "python",
   "pygments_lexer": "ipython3",
   "version": "3.7.1"
  }
 },
 "nbformat": 4,
 "nbformat_minor": 2
}
