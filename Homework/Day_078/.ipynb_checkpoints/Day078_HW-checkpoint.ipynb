{
 "cells": [
  {
   "cell_type": "markdown",
   "metadata": {},
   "source": [
    "## Work\n",
    "1. 請嘗試將 preproc_x 替換成以每筆資料的 min/max 進行標準化至 -1 ~ 1 間，再進行訓練\n",
    "2. 請嘗試將 mlp 疊更深 (e.g 5~10 層)，進行訓練後觀察 learning curve 的走勢\n",
    "3. (optional) 請改用 GPU 進行訓練 (如果你有 GPU 的話)，比較使用 CPU 與 GPU 的訓練速度"
   ]
  },
  {
   "cell_type": "code",
   "execution_count": 1,
   "metadata": {},
   "outputs": [
    {
     "name": "stdout",
     "output_type": "stream",
     "text": [
      "Sun Mar 24 16:10:41 2019       \n",
      "+-----------------------------------------------------------------------------+\n",
      "| NVIDIA-SMI 419.35       Driver Version: 419.35       CUDA Version: 10.1     |\n",
      "|-------------------------------+----------------------+----------------------+\n",
      "| GPU  Name            TCC/WDDM | Bus-Id        Disp.A | Volatile Uncorr. ECC |\n",
      "| Fan  Temp  Perf  Pwr:Usage/Cap|         Memory-Usage | GPU-Util  Compute M. |\n",
      "|===============================+======================+======================|\n",
      "|   0  GeForce GTX 750    WDDM  | 00000000:01:00.0  On |                  N/A |\n",
      "| 40%   28C    P8     1W /  38W |    337MiB /  1024MiB |      9%      Default |\n",
      "+-------------------------------+----------------------+----------------------+\n",
      "                                                                               \n",
      "+-----------------------------------------------------------------------------+\n",
      "| Processes:                                                       GPU Memory |\n",
      "|  GPU       PID   Type   Process name                             Usage      |\n",
      "|=============================================================================|\n",
      "|    0       804    C+G   Insufficient Permissions                   N/A      |\n",
      "|    0      1484    C+G   ...tEdge_8wekyb3d8bbwe\\MicrosoftEdgeCP.exe N/A      |\n",
      "|    0      1868    C+G   ...tEdge_8wekyb3d8bbwe\\MicrosoftEdgeCP.exe N/A      |\n",
      "|    0      2548    C+G   ...tEdge_8wekyb3d8bbwe\\MicrosoftEdgeCP.exe N/A      |\n",
      "|    0      3232    C+G   ...tEdge_8wekyb3d8bbwe\\MicrosoftEdgeCP.exe N/A      |\n",
      "|    0      3448    C+G   ...tEdge_8wekyb3d8bbwe\\MicrosoftEdgeCP.exe N/A      |\n",
      "|    0      5312    C+G   C:\\Windows\\explorer.exe                    N/A      |\n",
      "|    0      5996    C+G   ...t_cw5n1h2txyewy\\ShellExperienceHost.exe N/A      |\n",
      "|    0      6248    C+G   ...dows.Cortana_cw5n1h2txyewy\\SearchUI.exe N/A      |\n",
      "|    0      7124    C+G   ...oftEdge_8wekyb3d8bbwe\\MicrosoftEdge.exe N/A      |\n",
      "|    0      7744    C+G   ...tEdge_8wekyb3d8bbwe\\MicrosoftEdgeCP.exe N/A      |\n",
      "|    0      8488    C+G   ...tHubDesktop\\app-1.6.5\\GitHubDesktop.exe N/A      |\n",
      "|    0      8620    C+G   ...10411.0_x64__8wekyb3d8bbwe\\Video.UI.exe N/A      |\n",
      "|    0      8868    C+G   ...tEdge_8wekyb3d8bbwe\\MicrosoftEdgeCP.exe N/A      |\n",
      "|    0      9692    C+G   ...tEdge_8wekyb3d8bbwe\\MicrosoftEdgeCP.exe N/A      |\n",
      "|    0     11904    C+G   ...ge_8wekyb3d8bbwe\\MicrosoftPdfReader.exe N/A      |\n",
      "|    0     12340    C+G   ...tEdge_8wekyb3d8bbwe\\MicrosoftEdgeCP.exe N/A      |\n",
      "+-----------------------------------------------------------------------------+\n"
     ]
    }
   ],
   "source": [
    "## 確認硬體資源\n",
    "\"\"\"\n",
    "Your code here\n",
    "\"\"\"\n",
    "!nvidia-smi"
   ]
  },
  {
   "cell_type": "code",
   "execution_count": 2,
   "metadata": {},
   "outputs": [
    {
     "name": "stderr",
     "output_type": "stream",
     "text": [
      "Using TensorFlow backend.\n"
     ]
    }
   ],
   "source": [
    "import os\n",
    "import keras\n",
    "from keras.models import Sequential\n",
    "from keras.layers import Dense\n",
    "\n",
    "# Try to enable GPU (optional)"
   ]
  },
  {
   "cell_type": "code",
   "execution_count": 3,
   "metadata": {},
   "outputs": [],
   "source": [
    "train, test = keras.datasets.cifar10.load_data()"
   ]
  },
  {
   "cell_type": "code",
   "execution_count": 4,
   "metadata": {},
   "outputs": [],
   "source": [
    "## 資料前處理\n",
    "\"\"\"\n",
    "Your code here\n",
    "\"\"\"\n",
    "def preproc_x(x, flatten=True):\n",
    "    x = (x - x.min(axis=0)) / (x.max(axis=0) - x.min(axis=0)) * 2 - 1\n",
    "    if flatten:\n",
    "        x=x.reshape(len(x),-1)\n",
    "    return x\n",
    "\n",
    "def preproc_y(y, num_classes=10):\n",
    "    if y.shape[-1]==1:\n",
    "        y = keras.utils.to_categorical(y, num_classes)\n",
    "    return y"
   ]
  },
  {
   "cell_type": "code",
   "execution_count": 5,
   "metadata": {},
   "outputs": [],
   "source": [
    "x_train, y_train = train\n",
    "x_test, y_test = test\n",
    "\n",
    "# Preproc the inputs\n",
    "x_train = preproc_x(x_train)\n",
    "x_test = preproc_x(x_test)\n",
    "\n",
    "# Preprc the outputs\n",
    "y_train = preproc_y(y_train)\n",
    "y_test = preproc_y(y_test)"
   ]
  },
  {
   "cell_type": "code",
   "execution_count": 6,
   "metadata": {},
   "outputs": [],
   "source": [
    "\"\"\"\n",
    "Your code here\n",
    "\"\"\"\n",
    "def build_mlp(input_shape, output_units=10, num_neurons=[512, 256, 128, 64, 32]):\n",
    "    model = Sequential()\n",
    "    model.add(Dense(units = input_shape[1] ,input_dim = input_shape[1], kernel_initializer = 'normal', activation = 'relu',name = 'input'))\n",
    "    for i, n_units in enumerate(num_neurons):\n",
    "        model.add(Dense(kernel_initializer = 'normal',units=n_units, activation=\"relu\", name=\"hidden_layer\"+str(i+1)))\n",
    "    model.add(Dense(kernel_initializer = 'normal',units=output_units, activation=\"softmax\", name=\"output\"))\n",
    "    return model"
   ]
  },
  {
   "cell_type": "code",
   "execution_count": 7,
   "metadata": {},
   "outputs": [
    {
     "name": "stdout",
     "output_type": "stream",
     "text": [
      "WARNING:tensorflow:From C:\\Users\\NN\\AppData\\Roaming\\Python\\Python36\\site-packages\\tensorflow\\python\\framework\\op_def_library.py:263: colocate_with (from tensorflow.python.framework.ops) is deprecated and will be removed in a future version.\n",
      "Instructions for updating:\n",
      "Colocations handled automatically by placer.\n",
      "_________________________________________________________________\n",
      "Layer (type)                 Output Shape              Param #   \n",
      "=================================================================\n",
      "input (Dense)                (None, 3072)              9440256   \n",
      "_________________________________________________________________\n",
      "hidden_layer1 (Dense)        (None, 512)               1573376   \n",
      "_________________________________________________________________\n",
      "hidden_layer2 (Dense)        (None, 256)               131328    \n",
      "_________________________________________________________________\n",
      "hidden_layer3 (Dense)        (None, 128)               32896     \n",
      "_________________________________________________________________\n",
      "hidden_layer4 (Dense)        (None, 64)                8256      \n",
      "_________________________________________________________________\n",
      "hidden_layer5 (Dense)        (None, 32)                2080      \n",
      "_________________________________________________________________\n",
      "output (Dense)               (None, 10)                330       \n",
      "=================================================================\n",
      "Total params: 11,188,522\n",
      "Trainable params: 11,188,522\n",
      "Non-trainable params: 0\n",
      "_________________________________________________________________\n"
     ]
    }
   ],
   "source": [
    "model = build_mlp(input_shape=x_train.shape)\n",
    "model.summary()"
   ]
  },
  {
   "cell_type": "code",
   "execution_count": 8,
   "metadata": {},
   "outputs": [],
   "source": [
    "## 超參數設定\n",
    "LEARNING_RATE = 0.001\n",
    "EPOCHS = 100\n",
    "BATCH_SIZE = 256"
   ]
  },
  {
   "cell_type": "code",
   "execution_count": 9,
   "metadata": {},
   "outputs": [],
   "source": [
    "optimizer = keras.optimizers.Adam(lr=LEARNING_RATE)\n",
    "model.compile(loss=\"categorical_crossentropy\", metrics=[\"accuracy\"], optimizer=optimizer)"
   ]
  },
  {
   "cell_type": "code",
   "execution_count": 10,
   "metadata": {},
   "outputs": [
    {
     "name": "stdout",
     "output_type": "stream",
     "text": [
      "WARNING:tensorflow:From C:\\Users\\NN\\AppData\\Roaming\\Python\\Python36\\site-packages\\tensorflow\\python\\ops\\math_ops.py:3066: to_int32 (from tensorflow.python.ops.math_ops) is deprecated and will be removed in a future version.\n",
      "Instructions for updating:\n",
      "Use tf.cast instead.\n",
      "Train on 50000 samples, validate on 10000 samples\n",
      "Epoch 1/100\n",
      "50000/50000 [==============================] - 15s 308us/step - loss: 1.7191 - acc: 0.3879 - val_loss: 1.5246 - val_acc: 0.4641\n",
      "Epoch 2/100\n",
      "50000/50000 [==============================] - 10s 197us/step - loss: 1.4609 - acc: 0.4845 - val_loss: 1.4546 - val_acc: 0.4857\n",
      "Epoch 3/100\n",
      "50000/50000 [==============================] - 10s 197us/step - loss: 1.3299 - acc: 0.5321 - val_loss: 1.4025 - val_acc: 0.5083\n",
      "Epoch 4/100\n",
      "50000/50000 [==============================] - 10s 199us/step - loss: 1.2123 - acc: 0.5724 - val_loss: 1.3431 - val_acc: 0.5319\n",
      "Epoch 5/100\n",
      "50000/50000 [==============================] - 10s 196us/step - loss: 1.1179 - acc: 0.6059 - val_loss: 1.3625 - val_acc: 0.5305\n",
      "Epoch 6/100\n",
      "50000/50000 [==============================] - 10s 195us/step - loss: 1.0200 - acc: 0.6423 - val_loss: 1.3372 - val_acc: 0.5458\n",
      "Epoch 7/100\n",
      "50000/50000 [==============================] - 10s 196us/step - loss: 0.9206 - acc: 0.6772 - val_loss: 1.4077 - val_acc: 0.5529\n",
      "Epoch 8/100\n",
      "50000/50000 [==============================] - 10s 195us/step - loss: 0.8236 - acc: 0.7092 - val_loss: 1.3912 - val_acc: 0.5534c:\n",
      "Epoch 9/100\n",
      "50000/50000 [==============================] - 10s 195us/step - loss: 0.7329 - acc: 0.7411 - val_loss: 1.5258 - val_acc: 0.5464\n",
      "Epoch 10/100\n",
      "50000/50000 [==============================] - 10s 195us/step - loss: 0.6559 - acc: 0.7696 - val_loss: 1.5889 - val_acc: 0.5422\n",
      "Epoch 11/100\n",
      "50000/50000 [==============================] - 10s 195us/step - loss: 0.5813 - acc: 0.7961 - val_loss: 1.6230 - val_acc: 0.5466\n",
      "Epoch 12/100\n",
      "50000/50000 [==============================] - 10s 196us/step - loss: 0.5142 - acc: 0.8184 - val_loss: 1.7601 - val_acc: 0.5496\n",
      "Epoch 13/100\n",
      "50000/50000 [==============================] - 10s 196us/step - loss: 0.4598 - acc: 0.8375 - val_loss: 1.8986 - val_acc: 0.5476\n",
      "Epoch 14/100\n",
      "50000/50000 [==============================] - 10s 195us/step - loss: 0.3921 - acc: 0.8631 - val_loss: 2.0722 - val_acc: 0.5446\n",
      "Epoch 15/100\n",
      "50000/50000 [==============================] - 10s 196us/step - loss: 0.3702 - acc: 0.8713 - val_loss: 2.0443 - val_acc: 0.5494\n",
      "Epoch 16/100\n",
      "50000/50000 [==============================] - 10s 196us/step - loss: 0.3149 - acc: 0.8905 - val_loss: 2.1868 - val_acc: 0.5498\n",
      "Epoch 17/100\n",
      "50000/50000 [==============================] - 10s 195us/step - loss: 0.2927 - acc: 0.8980 - val_loss: 2.1741 - val_acc: 0.5533\n",
      "Epoch 18/100\n",
      "50000/50000 [==============================] - 10s 193us/step - loss: 0.2683 - acc: 0.9061 - val_loss: 2.2915 - val_acc: 0.5497\n",
      "Epoch 19/100\n",
      "50000/50000 [==============================] - 10s 193us/step - loss: 0.2446 - acc: 0.9158 - val_loss: 2.4427 - val_acc: 0.5492\n",
      "Epoch 20/100\n",
      "50000/50000 [==============================] - 10s 192us/step - loss: 0.2252 - acc: 0.9219 - val_loss: 2.5191 - val_acc: 0.5500\n",
      "Epoch 21/100\n",
      "50000/50000 [==============================] - 10s 193us/step - loss: 0.2267 - acc: 0.9234 - val_loss: 2.4247 - val_acc: 0.5527\n",
      "Epoch 22/100\n",
      "50000/50000 [==============================] - 10s 193us/step - loss: 0.1925 - acc: 0.9340 - val_loss: 2.6110 - val_acc: 0.5519\n",
      "Epoch 23/100\n",
      "50000/50000 [==============================] - 10s 192us/step - loss: 0.1911 - acc: 0.9361 - val_loss: 2.5794 - val_acc: 0.5508\n",
      "Epoch 24/100\n",
      "50000/50000 [==============================] - 10s 193us/step - loss: 0.1615 - acc: 0.9452 - val_loss: 2.7243 - val_acc: 0.5524\n",
      "Epoch 25/100\n",
      "50000/50000 [==============================] - 10s 193us/step - loss: 0.1690 - acc: 0.9420 - val_loss: 2.7489 - val_acc: 0.5521\n",
      "Epoch 26/100\n",
      "50000/50000 [==============================] - 10s 192us/step - loss: 0.1568 - acc: 0.9472 - val_loss: 2.7317 - val_acc: 0.5563\n",
      "Epoch 27/100\n",
      "50000/50000 [==============================] - 10s 193us/step - loss: 0.1513 - acc: 0.9495 - val_loss: 2.8377 - val_acc: 0.5562\n",
      "Epoch 28/100\n",
      "50000/50000 [==============================] - 10s 193us/step - loss: 0.1348 - acc: 0.9551 - val_loss: 2.7094 - val_acc: 0.5522 loss: 0.1347 - acc: 0.955\n",
      "Epoch 29/100\n",
      "50000/50000 [==============================] - 10s 193us/step - loss: 0.1416 - acc: 0.9530 - val_loss: 2.8825 - val_acc: 0.5479\n",
      "Epoch 30/100\n",
      "50000/50000 [==============================] - 10s 194us/step - loss: 0.1342 - acc: 0.9557 - val_loss: 2.7285 - val_acc: 0.5522\n",
      "Epoch 31/100\n",
      "50000/50000 [==============================] - 10s 193us/step - loss: 0.1219 - acc: 0.9599 - val_loss: 2.7873 - val_acc: 0.5428\n",
      "Epoch 32/100\n",
      "50000/50000 [==============================] - 10s 193us/step - loss: 0.1316 - acc: 0.9560 - val_loss: 2.7806 - val_acc: 0.5502\n",
      "Epoch 33/100\n",
      "50000/50000 [==============================] - 10s 200us/step - loss: 0.1241 - acc: 0.9587 - val_loss: 2.8233 - val_acc: 0.5524\n",
      "Epoch 34/100\n",
      "50000/50000 [==============================] - 10s 196us/step - loss: 0.1189 - acc: 0.9613 - val_loss: 2.9585 - val_acc: 0.5540\n",
      "Epoch 35/100\n",
      "50000/50000 [==============================] - 10s 196us/step - loss: 0.1210 - acc: 0.9596 - val_loss: 3.0280 - val_acc: 0.5488\n",
      "Epoch 36/100\n",
      "50000/50000 [==============================] - 10s 196us/step - loss: 0.1166 - acc: 0.9619 - val_loss: 2.9164 - val_acc: 0.5452\n",
      "Epoch 37/100\n",
      "50000/50000 [==============================] - 10s 196us/step - loss: 0.0908 - acc: 0.9698 - val_loss: 3.2176 - val_acc: 0.5464\n",
      "Epoch 38/100\n",
      "50000/50000 [==============================] - 10s 196us/step - loss: 0.1075 - acc: 0.9657 - val_loss: 3.0559 - val_acc: 0.5527\n",
      "Epoch 39/100\n",
      "50000/50000 [==============================] - 10s 196us/step - loss: 0.1077 - acc: 0.9643 - val_loss: 2.9165 - val_acc: 0.5557\n",
      "Epoch 40/100\n",
      "50000/50000 [==============================] - 10s 196us/step - loss: 0.0971 - acc: 0.9683 - val_loss: 3.1035 - val_acc: 0.5583\n",
      "Epoch 41/100\n",
      "50000/50000 [==============================] - 10s 196us/step - loss: 0.0957 - acc: 0.9685 - val_loss: 3.1254 - val_acc: 0.5529\n",
      "Epoch 42/100\n",
      "50000/50000 [==============================] - 10s 196us/step - loss: 0.0915 - acc: 0.9697 - val_loss: 3.0922 - val_acc: 0.5490\n",
      "Epoch 43/100\n",
      "50000/50000 [==============================] - 10s 196us/step - loss: 0.0871 - acc: 0.9716 - val_loss: 2.9487 - val_acc: 0.5570\n",
      "Epoch 44/100\n",
      "50000/50000 [==============================] - 10s 196us/step - loss: 0.0946 - acc: 0.9695 - val_loss: 2.8383 - val_acc: 0.5468\n",
      "Epoch 45/100\n",
      "50000/50000 [==============================] - 10s 197us/step - loss: 0.0981 - acc: 0.9688 - val_loss: 3.0938 - val_acc: 0.5518\n",
      "Epoch 46/100\n",
      "50000/50000 [==============================] - 10s 193us/step - loss: 0.0780 - acc: 0.9748 - val_loss: 3.1442 - val_acc: 0.5513\n",
      "Epoch 47/100\n",
      "50000/50000 [==============================] - 10s 192us/step - loss: 0.0843 - acc: 0.9731 - val_loss: 3.1486 - val_acc: 0.5517\n",
      "Epoch 48/100\n",
      "50000/50000 [==============================] - 10s 193us/step - loss: 0.0791 - acc: 0.9748 - val_loss: 3.1413 - val_acc: 0.5544\n",
      "Epoch 49/100\n",
      "50000/50000 [==============================] - 10s 193us/step - loss: 0.0947 - acc: 0.9699 - val_loss: 3.0286 - val_acc: 0.5543\n",
      "Epoch 50/100\n",
      "50000/50000 [==============================] - 10s 193us/step - loss: 0.0781 - acc: 0.9746 - val_loss: 3.1472 - val_acc: 0.5494\n",
      "Epoch 51/100\n",
      "50000/50000 [==============================] - 10s 192us/step - loss: 0.0831 - acc: 0.9738 - val_loss: 3.0393 - val_acc: 0.5585\n",
      "Epoch 52/100\n",
      "50000/50000 [==============================] - 10s 193us/step - loss: 0.0789 - acc: 0.9744 - val_loss: 3.1769 - val_acc: 0.5497\n",
      "Epoch 53/100\n",
      "50000/50000 [==============================] - 10s 193us/step - loss: 0.0649 - acc: 0.9795 - val_loss: 3.1143 - val_acc: 0.5464\n",
      "Epoch 54/100\n",
      "50000/50000 [==============================] - 10s 193us/step - loss: 0.0816 - acc: 0.9747 - val_loss: 3.0978 - val_acc: 0.5507\n",
      "Epoch 55/100\n",
      "50000/50000 [==============================] - 10s 193us/step - loss: 0.0671 - acc: 0.9797 - val_loss: 3.2185 - val_acc: 0.5614\n",
      "Epoch 56/100\n",
      "50000/50000 [==============================] - 10s 193us/step - loss: 0.0751 - acc: 0.9769 - val_loss: 3.0582 - val_acc: 0.5496\n"
     ]
    },
    {
     "name": "stdout",
     "output_type": "stream",
     "text": [
      "Epoch 57/100\n",
      "50000/50000 [==============================] - 10s 193us/step - loss: 0.0758 - acc: 0.9758 - val_loss: 3.1108 - val_acc: 0.5589\n",
      "Epoch 58/100\n",
      "50000/50000 [==============================] - 10s 196us/step - loss: 0.0702 - acc: 0.9777 - val_loss: 3.1521 - val_acc: 0.5516\n",
      "Epoch 59/100\n",
      "50000/50000 [==============================] - 10s 198us/step - loss: 0.0733 - acc: 0.9774 - val_loss: 2.9633 - val_acc: 0.5490\n",
      "Epoch 60/100\n",
      "50000/50000 [==============================] - 10s 195us/step - loss: 0.0778 - acc: 0.9765 - val_loss: 3.1098 - val_acc: 0.5538\n",
      "Epoch 61/100\n",
      "50000/50000 [==============================] - 10s 195us/step - loss: 0.0732 - acc: 0.9778 - val_loss: 3.2184 - val_acc: 0.5459\n",
      "Epoch 62/100\n",
      "50000/50000 [==============================] - 10s 195us/step - loss: 0.0597 - acc: 0.9814 - val_loss: 3.2652 - val_acc: 0.5458\n",
      "Epoch 63/100\n",
      "50000/50000 [==============================] - 10s 195us/step - loss: 0.0658 - acc: 0.9792 - val_loss: 3.2496 - val_acc: 0.5509\n",
      "Epoch 64/100\n",
      "50000/50000 [==============================] - 10s 195us/step - loss: 0.0589 - acc: 0.9811 - val_loss: 3.3090 - val_acc: 0.5549\n",
      "Epoch 65/100\n",
      "50000/50000 [==============================] - 10s 195us/step - loss: 0.0642 - acc: 0.9807 - val_loss: 3.3928 - val_acc: 0.5447\n",
      "Epoch 66/100\n",
      "50000/50000 [==============================] - 10s 195us/step - loss: 0.0666 - acc: 0.9794 - val_loss: 3.2351 - val_acc: 0.5489\n",
      "Epoch 67/100\n",
      "50000/50000 [==============================] - 10s 195us/step - loss: 0.0605 - acc: 0.9814 - val_loss: 2.9650 - val_acc: 0.5482\n",
      "Epoch 68/100\n",
      "50000/50000 [==============================] - 10s 195us/step - loss: 0.0615 - acc: 0.9817 - val_loss: 3.0778 - val_acc: 0.5518\n",
      "Epoch 69/100\n",
      "50000/50000 [==============================] - 10s 195us/step - loss: 0.0614 - acc: 0.9811 - val_loss: 3.2071 - val_acc: 0.5558\n",
      "Epoch 70/100\n",
      "50000/50000 [==============================] - 10s 195us/step - loss: 0.0593 - acc: 0.9820 - val_loss: 3.2194 - val_acc: 0.5519\n",
      "Epoch 71/100\n",
      "50000/50000 [==============================] - 10s 195us/step - loss: 0.0605 - acc: 0.9811 - val_loss: 3.1171 - val_acc: 0.5528\n",
      "Epoch 72/100\n",
      "50000/50000 [==============================] - 10s 195us/step - loss: 0.0579 - acc: 0.9822 - val_loss: 3.3636 - val_acc: 0.5513\n",
      "Epoch 73/100\n",
      "50000/50000 [==============================] - 10s 195us/step - loss: 0.0584 - acc: 0.9821 - val_loss: 3.3010 - val_acc: 0.5464\n",
      "Epoch 74/100\n",
      "50000/50000 [==============================] - 10s 198us/step - loss: 0.0501 - acc: 0.9843 - val_loss: 3.3125 - val_acc: 0.5598\n",
      "Epoch 75/100\n",
      "50000/50000 [==============================] - 10s 196us/step - loss: 0.0447 - acc: 0.9861 - val_loss: 3.4681 - val_acc: 0.5542\n",
      "Epoch 76/100\n",
      "50000/50000 [==============================] - 10s 196us/step - loss: 0.0578 - acc: 0.9819 - val_loss: 3.3400 - val_acc: 0.5452\n",
      "Epoch 77/100\n",
      "50000/50000 [==============================] - 10s 195us/step - loss: 0.0533 - acc: 0.9837 - val_loss: 3.2544 - val_acc: 0.5529\n",
      "Epoch 78/100\n",
      "50000/50000 [==============================] - 10s 195us/step - loss: 0.0640 - acc: 0.9801 - val_loss: 3.3165 - val_acc: 0.5472\n",
      "Epoch 79/100\n",
      "50000/50000 [==============================] - 10s 195us/step - loss: 0.0578 - acc: 0.9824 - val_loss: 3.3872 - val_acc: 0.5507\n",
      "Epoch 80/100\n",
      "50000/50000 [==============================] - 10s 195us/step - loss: 0.0608 - acc: 0.9813 - val_loss: 3.2612 - val_acc: 0.5468\n",
      "Epoch 81/100\n",
      "50000/50000 [==============================] - 10s 195us/step - loss: 0.0523 - acc: 0.9840 - val_loss: 3.4482 - val_acc: 0.5460\n",
      "Epoch 82/100\n",
      "50000/50000 [==============================] - 10s 196us/step - loss: 0.0539 - acc: 0.9838 - val_loss: 3.2371 - val_acc: 0.5469\n",
      "Epoch 83/100\n",
      "50000/50000 [==============================] - 10s 195us/step - loss: 0.0541 - acc: 0.9839 - val_loss: 3.4107 - val_acc: 0.5507\n",
      "Epoch 84/100\n",
      "50000/50000 [==============================] - 10s 195us/step - loss: 0.0522 - acc: 0.9844 - val_loss: 3.1072 - val_acc: 0.5525\n",
      "Epoch 85/100\n",
      "50000/50000 [==============================] - 10s 195us/step - loss: 0.0379 - acc: 0.9884 - val_loss: 3.4266 - val_acc: 0.5561\n",
      "Epoch 86/100\n",
      "50000/50000 [==============================] - 10s 195us/step - loss: 0.0600 - acc: 0.9823 - val_loss: 3.1351 - val_acc: 0.5512\n",
      "Epoch 87/100\n",
      "50000/50000 [==============================] - 10s 195us/step - loss: 0.0504 - acc: 0.9841 - val_loss: 3.2554 - val_acc: 0.5462\n",
      "Epoch 88/100\n",
      "50000/50000 [==============================] - 10s 195us/step - loss: 0.0494 - acc: 0.9851 - val_loss: 3.1660 - val_acc: 0.5514\n",
      "Epoch 89/100\n",
      "50000/50000 [==============================] - 10s 195us/step - loss: 0.0428 - acc: 0.9875 - val_loss: 3.2953 - val_acc: 0.5495\n",
      "Epoch 90/100\n",
      "50000/50000 [==============================] - 10s 195us/step - loss: 0.0528 - acc: 0.9842 - val_loss: 3.3549 - val_acc: 0.5502\n",
      "Epoch 91/100\n",
      "50000/50000 [==============================] - 10s 195us/step - loss: 0.0475 - acc: 0.9854 - val_loss: 3.1610 - val_acc: 0.5529\n",
      "Epoch 92/100\n",
      "50000/50000 [==============================] - 10s 195us/step - loss: 0.0474 - acc: 0.9861 - val_loss: 3.4657 - val_acc: 0.5602\n",
      "Epoch 93/100\n",
      "50000/50000 [==============================] - 10s 196us/step - loss: 0.0386 - acc: 0.9880 - val_loss: 3.4527 - val_acc: 0.5598\n",
      "Epoch 94/100\n",
      "50000/50000 [==============================] - 10s 198us/step - loss: 0.0548 - acc: 0.9836 - val_loss: 3.3829 - val_acc: 0.5566\n",
      "Epoch 95/100\n",
      "50000/50000 [==============================] - 10s 196us/step - loss: 0.0458 - acc: 0.9859 - val_loss: 3.4647 - val_acc: 0.5525\n",
      "Epoch 96/100\n",
      "50000/50000 [==============================] - 10s 195us/step - loss: 0.0590 - acc: 0.9827 - val_loss: 3.2995 - val_acc: 0.5546\n",
      "Epoch 97/100\n",
      "50000/50000 [==============================] - 10s 195us/step - loss: 0.0546 - acc: 0.9835 - val_loss: 3.1878 - val_acc: 0.5617\n",
      "Epoch 98/100\n",
      "50000/50000 [==============================] - 10s 195us/step - loss: 0.0424 - acc: 0.9874 - val_loss: 3.3580 - val_acc: 0.5514\n",
      "Epoch 99/100\n",
      "50000/50000 [==============================] - 10s 195us/step - loss: 0.0360 - acc: 0.9894 - val_loss: 3.3643 - val_acc: 0.5599\n",
      "Epoch 100/100\n",
      "50000/50000 [==============================] - 10s 195us/step - loss: 0.0425 - acc: 0.9873 - val_loss: 3.4924 - val_acc: 0.5582\n"
     ]
    },
    {
     "data": {
      "text/plain": [
       "<keras.callbacks.History at 0x2015bc080f0>"
      ]
     },
     "execution_count": 10,
     "metadata": {},
     "output_type": "execute_result"
    }
   ],
   "source": [
    "model.fit(x_train, y_train, \n",
    "          epochs=EPOCHS, \n",
    "          batch_size=BATCH_SIZE, \n",
    "          validation_data=(x_test, y_test), \n",
    "          shuffle=True)"
   ]
  },
  {
   "cell_type": "code",
   "execution_count": 12,
   "metadata": {},
   "outputs": [
    {
     "data": {
      "image/png": "[encoded data removed]",
      "text/plain": [
       "<Figure size 432x288 with 1 Axes>"
      ]
     },
     "metadata": {
      "needs_background": "light"
     },
     "output_type": "display_data"
    },
    {
     "data": {
      "image/png": "[encoded data removed]",
      "text/plain": [
       "<Figure size 432x288 with 1 Axes>"
      ]
     },
     "metadata": {
      "needs_background": "light"
     },
     "output_type": "display_data"
    }
   ],
   "source": [
    "import matplotlib.pyplot as plt\n",
    "\n",
    "\n",
    "train_loss = model.history.history[\"loss\"]\n",
    "valid_loss = model.history.history[\"val_loss\"]\n",
    "\n",
    "train_acc = model.history.history[\"acc\"]\n",
    "valid_acc = model.history.history[\"val_acc\"]\n",
    "\n",
    "plt.plot(range(len(train_loss)), train_loss, label=\"train loss\")\n",
    "plt.plot(range(len(valid_loss)), valid_loss, label=\"valid loss\")\n",
    "plt.legend()\n",
    "plt.title(\"Loss\")\n",
    "plt.show()\n",
    "\n",
    "plt.plot(range(len(train_acc)), train_acc, label=\"train accuracy\")\n",
    "plt.plot(range(len(valid_acc)), valid_acc, label=\"valid accuracy\")\n",
    "plt.legend()\n",
    "plt.title(\"Accuracy\")\n",
    "plt.show()"
   ]
  }
 ],
 "metadata": {
  "kernelspec": {
   "display_name": "Python 3.6",
   "language": "python",
   "name": "py36"
  },
  "language_info": {
   "codemirror_mode": {
    "name": "ipython",
    "version": 3
   },
   "file_extension": ".py",
   "mimetype": "text/x-python",
   "name": "python",
   "nbconvert_exporter": "python",
   "pygments_lexer": "ipython3",
   "version": "3.6.8"
  }
 },
 "nbformat": 4,
 "nbformat_minor": 2
}
