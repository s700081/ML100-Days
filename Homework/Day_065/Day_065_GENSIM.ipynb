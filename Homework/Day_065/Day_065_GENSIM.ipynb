{
 "cells": [
  {
   "cell_type": "code",
   "execution_count": 1,
   "metadata": {},
   "outputs": [
    {
     "name": "stdout",
     "output_type": "stream",
     "text": [
      "Requirement already satisfied: gensim in c:\\python\\anaconda3\\lib\\site-packages (3.2.0)\n",
      "Requirement already satisfied: smart-open>=1.2.1 in c:\\python\\anaconda3\\lib\\site-packages (from gensim) (1.5.6)\n",
      "Requirement already satisfied: numpy>=1.11.3 in c:\\python\\anaconda3\\lib\\site-packages (from gensim) (1.14.3)\n",
      "Requirement already satisfied: six>=1.5.0 in c:\\python\\anaconda3\\lib\\site-packages (from gensim) (1.11.0)\n",
      "Requirement already satisfied: scipy>=0.18.1 in c:\\python\\anaconda3\\lib\\site-packages (from gensim) (1.1.0)\n",
      "Requirement already satisfied: bz2file in c:\\python\\anaconda3\\lib\\site-packages (from smart-open>=1.2.1->gensim) (0.98)\n",
      "Requirement already satisfied: boto>=2.32 in c:\\python\\anaconda3\\lib\\site-packages (from smart-open>=1.2.1->gensim) (2.48.0)\n",
      "Requirement already satisfied: requests in c:\\python\\anaconda3\\lib\\site-packages (from smart-open>=1.2.1->gensim) (2.18.4)\n",
      "Requirement already satisfied: boto3 in c:\\python\\anaconda3\\lib\\site-packages (from smart-open>=1.2.1->gensim) (1.5.20)\n",
      "Requirement already satisfied: certifi>=2017.4.17 in c:\\python\\anaconda3\\lib\\site-packages (from requests->smart-open>=1.2.1->gensim) (2018.1.18)\n",
      "Requirement already satisfied: urllib3<1.23,>=1.21.1 in c:\\python\\anaconda3\\lib\\site-packages (from requests->smart-open>=1.2.1->gensim) (1.22)\n",
      "Requirement already satisfied: idna<2.7,>=2.5 in c:\\python\\anaconda3\\lib\\site-packages (from requests->smart-open>=1.2.1->gensim) (2.6)\n",
      "Requirement already satisfied: chardet<3.1.0,>=3.0.2 in c:\\python\\anaconda3\\lib\\site-packages (from requests->smart-open>=1.2.1->gensim) (3.0.4)\n",
      "Requirement already satisfied: botocore<1.9.0,>=1.8.34 in c:\\python\\anaconda3\\lib\\site-packages (from boto3->smart-open>=1.2.1->gensim) (1.8.34)\n",
      "Requirement already satisfied: jmespath<1.0.0,>=0.7.1 in c:\\python\\anaconda3\\lib\\site-packages (from boto3->smart-open>=1.2.1->gensim) (0.9.3)\n",
      "Requirement already satisfied: s3transfer<0.2.0,>=0.1.10 in c:\\python\\anaconda3\\lib\\site-packages (from boto3->smart-open>=1.2.1->gensim) (0.1.12)\n",
      "Requirement already satisfied: python-dateutil<3.0.0,>=2.1 in c:\\python\\anaconda3\\lib\\site-packages (from botocore<1.9.0,>=1.8.34->boto3->smart-open>=1.2.1->gensim) (2.6.1)\n",
      "Requirement already satisfied: docutils>=0.10 in c:\\python\\anaconda3\\lib\\site-packages (from botocore<1.9.0,>=1.8.34->boto3->smart-open>=1.2.1->gensim) (0.14)\n"
     ]
    },
    {
     "name": "stderr",
     "output_type": "stream",
     "text": [
      "You are using pip version 18.0, however version 19.0.3 is available.\n",
      "You should consider upgrading via the 'python -m pip install --upgrade pip' command.\n"
     ]
    }
   ],
   "source": [
    "!pip install gensim"
   ]
  },
  {
   "cell_type": "code",
   "execution_count": 2,
   "metadata": {},
   "outputs": [
    {
     "name": "stderr",
     "output_type": "stream",
     "text": [
      "C:\\Python\\Anaconda3\\lib\\site-packages\\gensim\\utils.py:860: UserWarning: detected Windows; aliasing chunkize to chunkize_serial\n",
      "  warnings.warn(\"detected Windows; aliasing chunkize to chunkize_serial\")\n"
     ]
    }
   ],
   "source": [
    "import gensim, logging\n",
    "from gensim.models import word2vec"
   ]
  },
  {
   "cell_type": "code",
   "execution_count": 3,
   "metadata": {},
   "outputs": [
    {
     "name": "stderr",
     "output_type": "stream",
     "text": [
      "2019-03-05 17:19:25,521 : INFO : collecting all words and their counts\n",
      "2019-03-05 17:19:25,525 : INFO : PROGRESS: at sentence #0, processed 0 words, keeping 0 word types\n",
      "2019-03-05 17:19:25,526 : INFO : collected 3 word types from a corpus of 4 raw words and 2 sentences\n",
      "2019-03-05 17:19:25,527 : INFO : Loading a fresh vocabulary\n",
      "2019-03-05 17:19:25,528 : INFO : min_count=1 retains 3 unique words (100% of original 3, drops 0)\n",
      "2019-03-05 17:19:25,529 : INFO : min_count=1 leaves 4 word corpus (100% of original 4, drops 0)\n",
      "2019-03-05 17:19:25,531 : INFO : deleting the raw counts dictionary of 3 items\n",
      "2019-03-05 17:19:25,534 : INFO : sample=0.001 downsamples 3 most-common words\n",
      "2019-03-05 17:19:25,535 : INFO : downsampling leaves estimated 0 word corpus (5.7% of prior 4)\n",
      "2019-03-05 17:19:25,535 : INFO : estimated required memory for 3 words and 256 dimensions: 7644 bytes\n",
      "2019-03-05 17:19:25,536 : INFO : resetting layer weights\n",
      "2019-03-05 17:19:25,538 : INFO : training model with 4 workers on 3 vocabulary and 256 features, using sg=0 hs=0 sample=0.001 negative=5 window=5\n",
      "2019-03-05 17:19:25,541 : INFO : worker thread finished; awaiting finish of 3 more threads\n",
      "2019-03-05 17:19:25,542 : INFO : worker thread finished; awaiting finish of 2 more threads\n",
      "2019-03-05 17:19:25,543 : INFO : worker thread finished; awaiting finish of 1 more threads\n",
      "2019-03-05 17:19:25,544 : INFO : worker thread finished; awaiting finish of 0 more threads\n",
      "2019-03-05 17:19:25,544 : INFO : training on 20 raw words (0 effective words) took 0.0s, 0 effective words/s\n",
      "2019-03-05 17:19:25,545 : WARNING : under 10 jobs per worker: consider setting a smaller `batch_words' for smoother alpha decay\n"
     ]
    }
   ],
   "source": [
    "import gensim, logging  \n",
    "logging.basicConfig(format='%(asctime)s : %(levelname)s : %(message)s', level=logging.INFO)  \n",
    "  \n",
    "sentences = [['first', 'sentence'], ['second', 'sentence']]  \n",
    "# train word2vec on the two sentences  \n",
    "model = word2vec.Word2Vec(sentences, size=256, min_count=1, window=5, workers=4, sg=0)  \n",
    "\n",
    "# sg=0 表示COBW, sg=1 表示skip-gram"
   ]
  },
  {
   "cell_type": "code",
   "execution_count": 4,
   "metadata": {
    "scrolled": true
   },
   "outputs": [
    {
     "name": "stdout",
     "output_type": "stream",
     "text": [
      "Word2Vec(vocab=3, size=256, alpha=0.025)\n"
     ]
    }
   ],
   "source": [
    "print(model)"
   ]
  },
  {
   "cell_type": "code",
   "execution_count": 5,
   "metadata": {},
   "outputs": [
    {
     "name": "stderr",
     "output_type": "stream",
     "text": [
      "C:\\Python\\Anaconda3\\lib\\site-packages\\ipykernel_launcher.py:2: DeprecationWarning: Call to deprecated `similarity` (Method will be removed in 4.0.0, use self.wv.similarity() instead).\n",
      "  \n"
     ]
    },
    {
     "data": {
      "text/plain": [
       "-0.031217555676374343"
      ]
     },
     "execution_count": 5,
     "metadata": {},
     "output_type": "execute_result"
    }
   ],
   "source": [
    "model.similarity('first','second')"
   ]
  },
  {
   "cell_type": "code",
   "execution_count": 6,
   "metadata": {},
   "outputs": [
    {
     "name": "stderr",
     "output_type": "stream",
     "text": [
      "2019-03-05 17:19:47,009 : INFO : saving Word2Vec object under mymodel, separately None\n",
      "2019-03-05 17:19:47,014 : INFO : not storing attribute syn0norm\n",
      "2019-03-05 17:19:47,019 : INFO : not storing attribute cum_table\n",
      "2019-03-05 17:19:47,038 : INFO : saved mymodel\n",
      "2019-03-05 17:19:47,040 : INFO : loading Word2Vec object from mymodel\n",
      "2019-03-05 17:19:47,043 : INFO : loading wv recursively from mymodel.wv.* with mmap=None\n",
      "2019-03-05 17:19:47,044 : INFO : setting ignored attribute syn0norm to None\n",
      "2019-03-05 17:19:47,046 : INFO : setting ignored attribute cum_table to None\n",
      "2019-03-05 17:19:47,048 : INFO : loaded mymodel\n"
     ]
    }
   ],
   "source": [
    "model.save('mymodel')  \n",
    "new_model = gensim.models.Word2Vec.load('mymodel')  "
   ]
  },
  {
   "cell_type": "markdown",
   "metadata": {},
   "source": [
    "# 作業:\n",
    "嘗試調整參數:  \n",
    "sg:sg=1表示採用skip-gram,sg=0 表示採用cbow  \n",
    "window:能往左往右看幾個字的意思 "
   ]
  },
  {
   "cell_type": "code",
   "execution_count": null,
   "metadata": {
    "collapsed": true
   },
   "outputs": [],
   "source": []
  }
 ],
 "metadata": {
  "kernelspec": {
   "display_name": "Python 3",
   "language": "python",
   "name": "python3"
  },
  "language_info": {
   "codemirror_mode": {
    "name": "ipython",
    "version": 3
   },
   "file_extension": ".py",
   "mimetype": "text/x-python",
   "name": "python",
   "nbconvert_exporter": "python",
   "pygments_lexer": "ipython3",
   "version": "3.7.0"
  }
 },
 "nbformat": 4,
 "nbformat_minor": 2
}
