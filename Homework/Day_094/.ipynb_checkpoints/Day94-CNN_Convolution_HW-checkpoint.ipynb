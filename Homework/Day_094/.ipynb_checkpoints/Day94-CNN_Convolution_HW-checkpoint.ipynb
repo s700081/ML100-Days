{
 "cells": [
  {
   "cell_type": "markdown",
   "metadata": {},
   "source": [
    "# 教學目標:\n",
    "    了解 Convolution 卷積的組成"
   ]
  },
  {
   "cell_type": "markdown",
   "metadata": {},
   "source": [
    "# 範例內容:\n",
    "    定義單步的卷積\n",
    "    \n",
    "    輸出卷積的計算值\n"
   ]
  },
  {
   "cell_type": "markdown",
   "metadata": {},
   "source": [
    "# 作業:\n",
    "    修改 a_slice_prev, 檢查 Z 的輸出"
   ]
  },
  {
   "cell_type": "code",
   "execution_count": 1,
   "metadata": {},
   "outputs": [],
   "source": [
    "import numpy as np"
   ]
  },
  {
   "cell_type": "code",
   "execution_count": 2,
   "metadata": {},
   "outputs": [],
   "source": [
    "# GRADED FUNCTION: conv_single_step\n",
    "def conv_single_step(a_slice_prev, W, b):\n",
    "    \"\"\"\n",
    "    定義一層 Kernel (內核), 使用的參數說明如下\n",
    "    Arguments:\n",
    "        a_slice_prev -- 輸入資料的維度\n",
    "        W -- 權重, 被使用在 a_slice_prev\n",
    "        b -- 偏差參數 \n",
    "    Returns:\n",
    "        Z -- 滑動窗口（W，b）卷積在前一個 feature map 上的結果\n",
    "    \"\"\"\n",
    "\n",
    "    # 定義一個元素介於 a_slice and W\n",
    "    s = a_slice_prev * W\n",
    "    # 加總所有的 \"s\" 並指定給Z.\n",
    "    Z = np.sum(s)\n",
    "    # Add bias b to Z. 這是 float() 函數,\n",
    "    Z = float(Z + b)\n",
    "\n",
    "    return Z"
   ]
  },
  {
   "cell_type": "code",
   "execution_count": 4,
   "metadata": {},
   "outputs": [
    {
     "name": "stdout",
     "output_type": "stream",
     "text": [
      "a_slice_prev= 3*3*3 ; Z=-5.19283565556167\n",
      "a_slice_prev= 4*4*3 ; Z=-6.862158951891249\n",
      "a_slice_prev= 5*5*3 ; Z=4.592364504800378\n",
      "a_slice_prev= 6*6*3 ; Z=0.08055098774025371\n",
      "a_slice_prev= 7*7*3 ; Z=4.591329192640259\n",
      "a_slice_prev= 8*8*3 ; Z=4.659679608715645\n",
      "a_slice_prev= 9*9*3 ; Z=-6.611118084498424\n",
      "a_slice_prev= 10*10*3 ; Z=-11.576854542832294\n",
      "a_slice_prev= 11*11*3 ; Z=4.1758293309408545\n",
      "a_slice_prev= 12*12*3 ; Z=-22.52720445157734\n"
     ]
    }
   ],
   "source": [
    "'''\n",
    "\n",
    "np.random.seed(1)\n",
    "#定義一個 axaxd 的 feature map\n",
    "a_slice_prev = \n",
    "W = \n",
    "b = np.random.randn(1, 1, 1)\n",
    "\n",
    "#取得計算後,卷積矩陣的值\n",
    "Z = conv_single_step(a_slice_prev, W, b)\n",
    "print(\"Z =\", Z)\n",
    "'''\n",
    "columns=3\n",
    "rows=3\n",
    "np.random.seed(1)\n",
    "#定義一個 4x4x3 的 feature map\n",
    "for i in range(10):\n",
    "    a_slice_prev = np.random.randn(columns+i, rows+i, 3)\n",
    "    W = np.random.randn(columns+i, rows+i, 3)\n",
    "    b = np.random.randn(1, 1, 1)\n",
    "\n",
    "    #取得計算後,卷積矩陣的值\n",
    "    Z = conv_single_step(a_slice_prev, W, b)\n",
    "    print(f\"a_slice_prev= {columns+i}*{rows+i}*3 ; Z={Z}\")"
   ]
  }
 ],
 "metadata": {
  "kernelspec": {
   "display_name": "Python 3",
   "language": "python",
   "name": "python3"
  },
  "language_info": {
   "codemirror_mode": {
    "name": "ipython",
    "version": 3
   },
   "file_extension": ".py",
   "mimetype": "text/x-python",
   "name": "python",
   "nbconvert_exporter": "python",
   "pygments_lexer": "ipython3",
   "version": "3.7.1"
  }
 },
 "nbformat": 4,
 "nbformat_minor": 2
}
