{
 "cells": [
  {
   "cell_type": "markdown",
   "metadata": {},
   "source": [
    "# 作業\n",
    "請使用不同的資料集，並使用 hyper-parameter search 的方式，看能不能找出最佳的超參數組合"
   ]
  },
  {
   "cell_type": "markdown",
   "metadata": {},
   "source": [
    "### import 所需套件"
   ]
  },
  {
   "cell_type": "code",
   "execution_count": 10,
   "metadata": {},
   "outputs": [],
   "source": [
    "import numpy as np\n",
    "import pandas as pd\n",
    "import matplotlib.pyplot as plt\n",
    "plt.style.use('seaborn-white')\n",
    "import warnings\n",
    "warnings.simplefilter('ignore')\n",
    "% matplotlib inline\n",
    "import time\n",
    "\n",
    "from sklearn import datasets, metrics\n",
    "from sklearn.model_selection import train_test_split, KFold, GridSearchCV\n",
    "from sklearn.ensemble import GradientBoostingClassifier, GradientBoostingRegressor\n",
    "from sklearn.pipeline import Pipeline"
   ]
  },
  {
   "cell_type": "markdown",
   "metadata": {},
   "source": [
    "### 定義繪製confusion matrix的function"
   ]
  },
  {
   "cell_type": "code",
   "execution_count": 11,
   "metadata": {},
   "outputs": [],
   "source": [
    "def plot_confusion_matrix(confmat, target_names=None, title=None):\n",
    "    plt.matshow(confmat, cmap=plt.cm.Blues, alpha=0.7)\n",
    "    for i in range(confmat.shape[0]):\n",
    "        for j in range(confmat.shape[1]):\n",
    "            plt.text(x=j,y=i, s=f'{confmat[i][j]}',va='center',ha='center')\n",
    "    \n",
    "    if target_names is not None:\n",
    "        plt.xticks(np.arange(len(target_names)),target_names)\n",
    "        plt.yticks(np.arange(len(target_names)),target_names)\n",
    "    plt.xlabel('Predicted label')\n",
    "    plt.ylabel('True label')\n",
    "    plt.title(title)\n",
    "    plt.grid('off')\n",
    "    plt.tight_layout()\n",
    "    plt.savefig('fig.png', dpi=300, transparent =False, bbpx_inches='tight')"
   ]
  },
  {
   "cell_type": "markdown",
   "metadata": {},
   "source": [
    "### Gradient Boosting for Classification Problem"
   ]
  },
  {
   "cell_type": "code",
   "execution_count": 12,
   "metadata": {},
   "outputs": [
    {
     "name": "stdout",
     "output_type": "stream",
     "text": [
      "accuracy with default hyperparameters: 0.962\n"
     ]
    },
    {
     "data": {
      "image/png": "[encoded data removed]",
      "text/plain": [
       "<Figure size 288x288 with 1 Axes>"
      ]
     },
     "metadata": {
      "needs_background": "light"
     },
     "output_type": "display_data"
    }
   ],
   "source": [
    "# 讀取手寫辨識資料集\n",
    "digits = datasets.load_digits()\n",
    "\n",
    "# 切分訓練集/測試集\n",
    "x_train, x_test, y_train, y_test = train_test_split(digits.data, digits.target, test_size=0.25, random_state=0)\n",
    "\n",
    "# 建立模型\n",
    "gbc = GradientBoostingClassifier()\n",
    "\n",
    "# 將訓練資料丟入模型訓練\n",
    "gbc.fit(x_train, y_train)\n",
    "\n",
    "# 將測試資料丟入模型取得預測結果\n",
    "y_pred = gbc.predict(x_test)\n",
    "\n",
    "# 利用accuracy評估模型預測結果\n",
    "print(f'accuracy with default hyperparameters: {metrics.accuracy_score(y_test, y_pred):.3f}')\n",
    "\n",
    "# 繪製 confusion matrix\n",
    "confmat = metrics.confusion_matrix(y_test, y_pred)\n",
    "plot_confusion_matrix(confmat, target_names = digits.target_names, title = \"Default Hyperparameters\")"
   ]
  },
  {
   "cell_type": "code",
   "execution_count": 13,
   "metadata": {},
   "outputs": [
    {
     "name": "stdout",
     "output_type": "stream",
     "text": [
      "Fitting 3 folds for each of 81 candidates, totalling 243 fits\n"
     ]
    },
    {
     "name": "stderr",
     "output_type": "stream",
     "text": [
      "[Parallel(n_jobs=-1)]: Done  34 tasks      | elapsed:   14.5s\n",
      "[Parallel(n_jobs=-1)]: Done 184 tasks      | elapsed:  1.8min\n",
      "[Parallel(n_jobs=-1)]: Done 243 out of 243 | elapsed:  2.4min finished\n"
     ]
    },
    {
     "name": "stdout",
     "output_type": "stream",
     "text": [
      "Best accuracy: -0.713\n",
      "Best parameters:{'max_depth': 3, 'min_samples_leaf': 2, 'min_samples_split': 4, 'n_estimators': 100}\n",
      "Average time to fit: 4.563\n",
      "Average time to predict: 0.016\n",
      "Time elapsed = 146.7847285270691 (sec)\n"
     ]
    }
   ],
   "source": [
    "# 設定要訓練的超參數組合\n",
    "n_estimators = [100, 200, 300]\n",
    "max_depth = [1, 3, 5]\n",
    "min_samples_split = [2, 3, 4]\n",
    "min_samples_leaf = [1, 2, 3]\n",
    "param_grid = dict(n_estimators=n_estimators, max_depth=max_depth,min_samples_split=min_samples_split, min_samples_leaf=min_samples_leaf)\n",
    "\n",
    "## 建立搜尋物件，放入模型及參數組合字典 (n_jobs=-1 會使用全部 cpu 平行運算)\n",
    "grid_search = GridSearchCV(gbc, param_grid, scoring=\"neg_mean_squared_error\", n_jobs=-1, verbose=1)\n",
    "\n",
    "# 開始搜尋最佳參數\n",
    "time_start = time.time()\n",
    "grid_result = grid_search.fit(x_train, y_train)\n",
    "\n",
    "print(f'Best accuracy: {grid_result.best_score_:.3f}')\n",
    "print(f'Best parameters:{grid_result.best_params_}')\n",
    "print(f\"Average time to fit: {grid_result.cv_results_['mean_fit_time'].mean():.3f}\")\n",
    "print(f\"Average time to predict: {grid_result.cv_results_['mean_score_time'].mean():.3f}\")\n",
    "print(f\"Time elapsed = {time.time() - time_start} (sec)\")"
   ]
  },
  {
   "cell_type": "code",
   "execution_count": 14,
   "metadata": {},
   "outputs": [
    {
     "name": "stdout",
     "output_type": "stream",
     "text": [
      "Testing accuracy = 0.960\n"
     ]
    },
    {
     "data": {
      "image/png": "[encoded data removed]",
      "text/plain": [
       "<Figure size 288x288 with 1 Axes>"
      ]
     },
     "metadata": {
      "needs_background": "light"
     },
     "output_type": "display_data"
    }
   ],
   "source": [
    "gbc = GradientBoostingClassifier(max_depth=grid_result.best_params_['max_depth'], n_estimators=grid_result.best_params_['n_estimators'],min_samples_split= grid_result.best_params_['min_samples_split'],min_samples_leaf=grid_result.best_params_['min_samples_leaf'])\n",
    "gbc.fit(x_train, y_train)\n",
    "y_pred = gbc.predict(x_test)\n",
    "print(f\"Testing accuracy = {metrics.accuracy_score(y_test, y_pred):.3f}\")\n",
    "confmat = metrics.confusion_matrix(y_test, y_pred)\n",
    "plot_confusion_matrix(confmat, target_names = digits.target_names, title = \"Adjusted Hyperparameters\")"
   ]
  },
  {
   "cell_type": "markdown",
   "metadata": {},
   "source": [
    "### 調參結果竟然比原本差一點點"
   ]
  }
 ],
 "metadata": {
  "kernelspec": {
   "display_name": "Python 3",
   "language": "python",
   "name": "python3"
  },
  "language_info": {
   "codemirror_mode": {
    "name": "ipython",
    "version": 3
   },
   "file_extension": ".py",
   "mimetype": "text/x-python",
   "name": "python",
   "nbconvert_exporter": "python",
   "pygments_lexer": "ipython3",
   "version": "3.7.0"
  }
 },
 "nbformat": 4,
 "nbformat_minor": 2
}
