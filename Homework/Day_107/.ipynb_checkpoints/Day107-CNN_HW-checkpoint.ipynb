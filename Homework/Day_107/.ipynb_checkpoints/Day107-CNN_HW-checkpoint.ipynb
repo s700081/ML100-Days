{
 "cells": [
  {
   "cell_type": "markdown",
   "metadata": {},
   "source": [
    "# 教學目標:\n",
    "    \n",
    "回顧 CNN 網路"
   ]
  },
  {
   "cell_type": "markdown",
   "metadata": {},
   "source": [
    "# 範例說明:\n",
    "    \n",
    "使用 keras 預載的模型\n",
    "\n",
    "使用 keras VGG16 預訓練的權重\n",
    "\n",
    "了解預測後的結果輸出"
   ]
  },
  {
   "cell_type": "markdown",
   "metadata": {},
   "source": [
    "# 作業:\n",
    "\n",
    "    回答 Q&A"
   ]
  },
  {
   "cell_type": "code",
   "execution_count": 1,
   "metadata": {},
   "outputs": [
    {
     "name": "stderr",
     "output_type": "stream",
     "text": [
      "Using TensorFlow backend.\n"
     ]
    },
    {
     "name": "stdout",
     "output_type": "stream",
     "text": [
      "WARNING:tensorflow:From C:\\Users\\Ocean\\Anaconda3\\envs\\py36\\lib\\site-packages\\tensorflow\\python\\framework\\op_def_library.py:263: colocate_with (from tensorflow.python.framework.ops) is deprecated and will be removed in a future version.\n",
      "Instructions for updating:\n",
      "Colocations handled automatically by placer.\n",
      "[[[[-0.        -0.        -0.        ... -0.        -0.\n",
      "    -0.       ]\n",
      "   [-0.        -0.        26.802032  ... -0.        -0.\n",
      "    -0.       ]\n",
      "   [-0.        -0.        19.635584  ... -0.        -0.\n",
      "    -0.       ]\n",
      "   ...\n",
      "   [-0.        -0.        22.599445  ... -0.        -0.\n",
      "    -0.       ]\n",
      "   [-0.        -0.        -0.        ... -0.        -0.\n",
      "    -0.       ]\n",
      "   [-0.        -0.        -0.        ... -0.        14.461055\n",
      "    -0.       ]]\n",
      "\n",
      "  [[-0.        -0.        -0.        ... -0.        -0.\n",
      "    -0.       ]\n",
      "   [-0.        -0.        11.300246  ... -0.        -0.\n",
      "    -0.       ]\n",
      "   [-0.        -0.         4.590711  ... -0.        -0.\n",
      "    -0.       ]\n",
      "   ...\n",
      "   [-0.        -0.        48.027145  ... -0.        -0.\n",
      "    -0.       ]\n",
      "   [-0.        -0.         5.3882804 ... -0.        -0.\n",
      "    -0.       ]\n",
      "   [-0.        -0.        -0.        ... -0.        -0.\n",
      "    -0.       ]]\n",
      "\n",
      "  [[-0.        -0.        -0.        ... -0.        -0.\n",
      "    -0.       ]\n",
      "   [-0.        -0.        -0.        ... -0.        -0.\n",
      "    -0.       ]\n",
      "   [-0.        -0.        -0.        ... -0.        -0.\n",
      "    -0.       ]\n",
      "   ...\n",
      "   [-0.        -0.        69.511406  ... -0.        -0.\n",
      "    -0.       ]\n",
      "   [-0.        -0.         5.232035  ... -0.        -0.\n",
      "    -0.       ]\n",
      "   [-0.        -0.        -0.        ... -0.        -0.\n",
      "    -0.       ]]\n",
      "\n",
      "  ...\n",
      "\n",
      "  [[-0.        -0.        -0.        ... -0.        -0.\n",
      "    -0.       ]\n",
      "   [-0.        -0.        -0.        ... -0.        -0.\n",
      "    -0.       ]\n",
      "   [-0.        -0.        -0.        ... -0.        -0.\n",
      "    -0.       ]\n",
      "   ...\n",
      "   [-0.        -0.        -0.        ... -0.        -0.\n",
      "    -0.       ]\n",
      "   [-0.        -0.         5.8611193 ... -0.        -0.\n",
      "    -0.       ]\n",
      "   [-0.        -0.        -0.        ... -0.        -0.\n",
      "    -0.       ]]\n",
      "\n",
      "  [[-0.        -0.        -0.        ... -0.         6.465757\n",
      "    -0.       ]\n",
      "   [-0.        -0.        -0.        ... -0.        -0.\n",
      "    -0.       ]\n",
      "   [-0.        -0.        -0.        ... -0.        -0.\n",
      "    -0.       ]\n",
      "   ...\n",
      "   [-0.        -0.        -0.        ... 10.770695  -0.\n",
      "    17.830536 ]\n",
      "   [-0.        -0.        28.463305  ... 50.79354   -0.\n",
      "     9.854139 ]\n",
      "   [-0.        -0.         1.5688995 ...  5.3893805 -0.\n",
      "    17.128052 ]]\n",
      "\n",
      "  [[-0.        -0.        -0.        ... -0.        39.11201\n",
      "    -0.       ]\n",
      "   [-0.        -0.        -0.        ... -0.        38.21013\n",
      "    -0.       ]\n",
      "   [-0.        -0.        -0.        ... -0.         2.855068\n",
      "    -0.       ]\n",
      "   ...\n",
      "   [-0.        -0.        -0.        ...  5.8322144 -0.\n",
      "    13.036522 ]\n",
      "   [-0.        -0.         7.320358  ... 15.914702  -0.\n",
      "    23.656967 ]\n",
      "   [-0.        -0.        -0.        ... -0.         1.3412597\n",
      "    18.96061  ]]]]\n"
     ]
    }
   ],
   "source": [
    "from keras.applications.vgg16 import VGG16\n",
    "from keras.preprocessing import image\n",
    "from keras.applications.vgg16 import preprocess_input\n",
    "import numpy as np\n",
    "\n",
    "#載入預訓練模型\n",
    "model = VGG16(weights='imagenet', include_top=False)\n",
    "\n",
    " # VGG 現存模型要找到一張名為elephant.jpg做處理的預設路徑\n",
    "img_path = 'D:/3_learn/9_MachineLearning/2_ML100-Days_Data/Final/image_data/test/1eba03c7fab03388316bcc217beeda47.jpg'\n",
    "#載入影像\n",
    "img = image.load_img(img_path, target_size=(224, 224))\n",
    "x = image.img_to_array(img)\n",
    "x = np.expand_dims(x, axis=0)\n",
    "x = preprocess_input(x)\n",
    "\n",
    "#執行預測\n",
    "features = model.predict(x)\n",
    "print(features)\n",
    "# decode_predictions 輸出5個最高概率：(類別, 語義概念, 預測概率"
   ]
  },
  {
   "cell_type": "markdown",
   "metadata": {},
   "source": [
    "# 問題:\n",
    "\n",
    "1. 為什麼在CNNs中激活函數選用ReLU，而不用sigmoid或tanh函數？\n",
    "\n",
    " * 引入非線性函數作為激勵函數，不再是輸入的線性組合，可以逼近任意函數 ==> \n",
    " * 採用ReLU激活函數，整個過程的計算量節省很多; ==> \n",
    " * ReLU會使一部分神經元的輸出為0，這樣就造成了網路的稀疏性，並且減少了參數的相互依存關系，緩解了過擬合問題的發生\n",
    "\n",
    "2. 為何img_path = 'elephant.jpg'\n",
    "\n",
    " * VGG 現存模型需要一張圖做處理的預設路徑"
   ]
  }
 ],
 "metadata": {
  "kernelspec": {
   "display_name": "Python 3.6",
   "language": "python",
   "name": "py36"
  },
  "language_info": {
   "codemirror_mode": {
    "name": "ipython",
    "version": 3
   },
   "file_extension": ".py",
   "mimetype": "text/x-python",
   "name": "python",
   "nbconvert_exporter": "python",
   "pygments_lexer": "ipython3",
   "version": "3.6.8"
  }
 },
 "nbformat": 4,
 "nbformat_minor": 2
}
